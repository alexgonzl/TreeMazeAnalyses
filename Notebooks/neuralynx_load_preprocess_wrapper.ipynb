{
 "cells": [
  {
   "cell_type": "code",
   "execution_count": 1,
   "metadata": {},
   "outputs": [
    {
     "name": "stderr",
     "output_type": "stream",
     "text": [
      "/Users/alexgonzalez/anaconda3/lib/python3.6/site-packages/h5py/__init__.py:36: FutureWarning: Conversion of the second argument of issubdtype from `float` to `np.floating` is deprecated. In future, it will be treated as `np.float64 == np.dtype(float).type`.\n",
      "  from ._conv import register_converters as _register_converters\n"
     ]
    }
   ],
   "source": [
    "import numpy as np\n",
    "import time\n",
    "import pandas as pd\n",
    "from pathlib import Path\n",
    "from CSC_Wrapper import *\n",
    "from get_neuralynx import *\n",
    "import sys"
   ]
  },
  {
   "cell_type": "code",
   "execution_count": null,
   "metadata": {},
   "outputs": [],
   "source": []
  },
  {
   "cell_type": "markdown",
   "metadata": {},
   "source": [
    "### Get File Names"
   ]
  },
  {
   "cell_type": "code",
   "execution_count": 2,
   "metadata": {},
   "outputs": [],
   "source": [
    "animal = 'Li'\n",
    "volumePath=Path('/Volumes/InVivoDat/' + animal)\n",
    "task = 'T3g'\n",
    "for fp in volumePath.glob('*'+task+'*18'):\n",
    "    try:\n",
    "        print('Processing File '+str(fp.name))\n",
    "        sp = Path(str(fp)+'_Results')\n",
    "        sp.mkdir(parents=True, exist_ok=True) \n",
    "\n",
    "        # -------------------------------------------------------- #\n",
    "        # Get File Directories\n",
    "        # -------------------------------------------------------- #\n",
    "\n",
    "        csc_files = []\n",
    "        ev_files = []\n",
    "        vt_files = []\n",
    "\n",
    "        for i in fp.glob('*.ncs'):\n",
    "            if i.stat().st_size>16384:\n",
    "                csc_files.append((i.name, i.stem, str(i.absolute()), time.ctime(i.stat().st_mtime)))\n",
    "        for i in fp.glob('*.nev'):\n",
    "            if i.stat().st_size>16384:\n",
    "                ev_files.append((i.name, i.stem, str(i.absolute()),  time.ctime(i.stat().st_mtime)))\n",
    "        for i in fp.glob('*.nvt'):\n",
    "            if i.stat().st_size>16384:\n",
    "                vt_files.append((i.name, i.stem, str(i.absolute()),  time.ctime(i.stat().st_mtime)))\n",
    "\n",
    "        # -------------------------------------------------------- #\n",
    "        # Process and save information\n",
    "        # -------------------------------------------------------- #\n",
    "        #get_save_events(ev_files,sp)\n",
    "        #get_save_tracking(vt_files,sp)\n",
    "        #get_process_save_tetrode(csc_files,sp,'npy')\n",
    "    except:\n",
    "        print('Could not process file ' + fp.name)\n",
    "        print (\"error\", sys.exc_info()[0],sys.exc_info()[1],sys.exc_info()[2].tb_lineno)\n",
    "        continue"
   ]
  },
  {
   "cell_type": "code",
   "execution_count": 4,
   "metadata": {},
   "outputs": [
    {
     "ename": "NameError",
     "evalue": "name 'fp' is not defined",
     "output_type": "error",
     "traceback": [
      "\u001b[0;31m---------------------------------------------------------------------------\u001b[0m",
      "\u001b[0;31mNameError\u001b[0m                                 Traceback (most recent call last)",
      "\u001b[0;32m<ipython-input-4-cf60671b6dd6>\u001b[0m in \u001b[0;36m<module>\u001b[0;34m()\u001b[0m\n\u001b[0;32m----> 1\u001b[0;31m \u001b[0mfp\u001b[0m\u001b[0;34m\u001b[0m\u001b[0m\n\u001b[0m",
      "\u001b[0;31mNameError\u001b[0m: name 'fp' is not defined"
     ]
    }
   ],
   "source": [
    "fp"
   ]
  },
  {
   "cell_type": "code",
   "execution_count": 1,
   "metadata": {},
   "outputs": [
    {
     "data": {
      "text/plain": [
       "2"
      ]
     },
     "execution_count": 1,
     "metadata": {},
     "output_type": "execute_result"
    }
   ],
   "source": [
    "2"
   ]
  },
  {
   "cell_type": "code",
   "execution_count": 22,
   "metadata": {},
   "outputs": [],
   "source": [
    "animal = 'Li'\n",
    "volumePath=Path('/Volumes/InVivoDat/' + animal)\n",
    "task = 'OF'\n",
    "for f in volumePath.glob('*'+task+'*_Results2'):\n",
    "    f.rename(str(f)[:-1])"
   ]
  },
  {
   "cell_type": "code",
   "execution_count": 21,
   "metadata": {},
   "outputs": [
    {
     "data": {
      "text/plain": [
       "'/Volumes/InVivoDat/Li/Li_OF_052418_Results'"
      ]
     },
     "execution_count": 21,
     "metadata": {},
     "output_type": "execute_result"
    }
   ],
   "source": []
  },
  {
   "cell_type": "code",
   "execution_count": null,
   "metadata": {},
   "outputs": [],
   "source": []
  },
  {
   "cell_type": "code",
   "execution_count": null,
   "metadata": {},
   "outputs": [],
   "source": []
  }
 ],
 "metadata": {
  "kernelspec": {
   "display_name": "Python 3",
   "language": "python",
   "name": "python3"
  },
  "language_info": {
   "codemirror_mode": {
    "name": "ipython",
    "version": 3
   },
   "file_extension": ".py",
   "mimetype": "text/x-python",
   "name": "python",
   "nbconvert_exporter": "python",
   "pygments_lexer": "ipython3",
   "version": "3.6.4"
  }
 },
 "nbformat": 4,
 "nbformat_minor": 2
}

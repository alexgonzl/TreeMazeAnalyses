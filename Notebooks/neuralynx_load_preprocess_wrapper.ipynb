{
 "cells": [
  {
   "cell_type": "code",
   "execution_count": 2,
   "metadata": {},
   "outputs": [
    {
     "name": "stderr",
     "output_type": "stream",
     "text": [
      "/Users/alexgonzalez/anaconda3/lib/python3.6/site-packages/h5py/__init__.py:36: FutureWarning: Conversion of the second argument of issubdtype from `float` to `np.floating` is deprecated. In future, it will be treated as `np.float64 == np.dtype(float).type`.\n",
      "  from ._conv import register_converters as _register_converters\n"
     ]
    }
   ],
   "source": [
    "import numpy as np\n",
    "import time\n",
    "import pandas as pd\n",
    "from pathlib import Path\n",
    "import sys\n",
    "\n",
    "sys.path.append('../PreProcessing/')  \n",
    "from get_neuralynx import *\n",
    "from CSC_Wrapper import *"
   ]
  },
  {
   "cell_type": "markdown",
   "metadata": {},
   "source": [
    "### Get File Names"
   ]
  },
  {
   "cell_type": "code",
   "execution_count": 3,
   "metadata": {},
   "outputs": [
    {
     "name": "stdout",
     "output_type": "stream",
     "text": [
      "Processing File Li_T3g_060418\n"
     ]
    }
   ],
   "source": [
    "animal = 'Li'\n",
    "task = 'T3g'\n",
    "#volumePath=Path('/Volumes/InVivoDat/' + animal)\n",
    "volumePath=Path('/Users/alexgonzalez/Google Drive/PostDoc/Data/T3g/Li/')\n",
    "for fp in volumePath.glob('*'+task+'*18'):\n",
    "    try:\n",
    "        print('Processing File '+str(fp.name))\n",
    "        sp = Path(str(fp)+'_Results')\n",
    "        sp.mkdir(parents=True, exist_ok=True) \n",
    "\n",
    "        # -------------------------------------------------------- #\n",
    "        # Get File Directories\n",
    "        # -------------------------------------------------------- #\n",
    "\n",
    "        csc_files = []\n",
    "        ev_files = []\n",
    "        vt_files = []\n",
    "\n",
    "        for i in fp.glob('*.ncs'):\n",
    "            if i.stat().st_size>16384:\n",
    "                csc_files.append((i.name, i.stem, str(i.absolute()), time.ctime(i.stat().st_mtime)))\n",
    "        for i in fp.glob('*.nev'):\n",
    "            if i.stat().st_size>16384:\n",
    "                ev_files.append((i.name, i.stem, str(i.absolute()),  time.ctime(i.stat().st_mtime)))\n",
    "        for i in fp.glob('*.nvt'):\n",
    "            if i.stat().st_size>16384:\n",
    "                vt_files.append((i.name, i.stem, str(i.absolute()),  time.ctime(i.stat().st_mtime)))\n",
    "\n",
    "        # -------------------------------------------------------- #\n",
    "        # Process and save information\n",
    "        # -------------------------------------------------------- #\n",
    "        #get_save_events(ev_files,sp)\n",
    "        #get_save_tracking(vt_files,sp)\n",
    "        #get_process_save_tetrode(csc_files,sp,'npy')\n",
    "    except:\n",
    "        print('Could not process file ' + fp.name)\n",
    "        print (\"error\", sys.exc_info()[0],sys.exc_info()[1],sys.exc_info()[2].tb_lineno)\n",
    "        continue"
   ]
  },
  {
   "cell_type": "code",
   "execution_count": 21,
   "metadata": {},
   "outputs": [],
   "source": [
    "nDatFolders = 0\n",
    "DatFolderList = []\n",
    "for fp in volumePath.glob(animal +'*'):\n",
    "    DatFolderList.append(fp)\n",
    "    "
   ]
  },
  {
   "cell_type": "code",
   "execution_count": 35,
   "metadata": {},
   "outputs": [],
   "source": [
    "df = pd.DataFrame(csc_files,columns=['filenames','filename_stem','full_file_path','mod_time'])\n",
    "tetrodeID=[]\n",
    "tetrodeChanID=[]\n",
    "\n",
    "for uniqueID in df.filenames:\n",
    "    match = re.match(r\"([a-z]+)([0-9]+)([a-d])\", uniqueID, re.I)\n",
    "    if match:\n",
    "        items = match.groups()\n",
    "\n",
    "    tetrodeID.append(int(items[1]))\n",
    "    tetrodeChanID.append(items[2])\n",
    "\n",
    "# add columns to the CSC data frame identifying tetrode and tetrode channel ID\n",
    "df['tetrodeIDs']=tetrodeID\n",
    "df['tetrodeChanIDs']=tetrodeChanID\n",
    "\n",
    "tetrodeUniqueIDs = np.unique(tetrodeID)\n",
    "nTetrodes = len(tetrodeUniqueIDs)  \n",
    "\n",
    "tt_table ={}\n",
    "for tt in tetrodeUniqueIDs:\n",
    "    df[df[\"tetrodeIDs\"]== tt"
   ]
  },
  {
   "cell_type": "code",
   "execution_count": 72,
   "metadata": {},
   "outputs": [],
   "source": [
    "\n",
    "\n"
   ]
  },
  {
   "cell_type": "code",
   "execution_count": 75,
   "metadata": {},
   "outputs": [
    {
     "data": {
      "text/plain": [
       "[('VT1.nvt',\n",
       "  'VT1',\n",
       "  '/Users/alexgonzalez/Google Drive/PostDoc/Data/T3g/Li/Li_T3g_060418/VT1.nvt',\n",
       "  'Mon Jun  4 11:42:41 2018')]"
      ]
     },
     "execution_count": 75,
     "metadata": {},
     "output_type": "execute_result"
    }
   ],
   "source": [
    "vt_files"
   ]
  },
  {
   "cell_type": "code",
   "execution_count": 68,
   "metadata": {},
   "outputs": [
    {
     "data": {
      "text/plain": [
       "('Events.nev',\n",
       " 'Events',\n",
       " '/Users/alexgonzalez/Google Drive/PostDoc/Data/T3g/Li/Li_T3g_060418/Events.nev',\n",
       " 'Mon Jun  4 11:42:41 2018')"
      ]
     },
     "execution_count": 68,
     "metadata": {},
     "output_type": "execute_result"
    }
   ],
   "source": [
    "ev_files[0]\n"
   ]
  },
  {
   "cell_type": "code",
   "execution_count": 57,
   "metadata": {},
   "outputs": [
    {
     "data": {
      "text/plain": [
       "'aCSC1bCSC1cCSC1d'"
      ]
     },
     "execution_count": 57,
     "metadata": {},
     "output_type": "execute_result"
    }
   ],
   "source": [
    "('CSC'+str(1)).join(['a','b','c','d'])"
   ]
  },
  {
   "cell_type": "code",
   "execution_count": 62,
   "metadata": {},
   "outputs": [
    {
     "data": {
      "text/plain": [
       "['CSC1a.ncs', 'CSC1b.ncs', 'CSC1c.ncs', 'CSC1d.ncs']"
      ]
     },
     "execution_count": 62,
     "metadata": {},
     "output_type": "execute_result"
    }
   ],
   "source": [
    "tt=1\n",
    "['CSC{}{}.ncs'.format(tt,i) for i in ['a','b','c','d']]"
   ]
  },
  {
   "cell_type": "code",
   "execution_count": null,
   "metadata": {},
   "outputs": [],
   "source": [
    "animal = 'Li'\n",
    "volumePath=Path('/Volumes/InVivoDat/' + animal)\n",
    "task = 'OF'\n",
    "for f in volumePath.glob('*'+task+'*_Results2'):\n",
    "    f.rename(str(f)[:-1])"
   ]
  },
  {
   "cell_type": "code",
   "execution_count": null,
   "metadata": {},
   "outputs": [],
   "source": []
  },
  {
   "cell_type": "code",
   "execution_count": null,
   "metadata": {},
   "outputs": [],
   "source": []
  },
  {
   "cell_type": "code",
   "execution_count": null,
   "metadata": {},
   "outputs": [],
   "source": []
  }
 ],
 "metadata": {
  "kernelspec": {
   "display_name": "Python 3",
   "language": "python",
   "name": "python3"
  }
 },
 "nbformat": 4,
 "nbformat_minor": 2
}

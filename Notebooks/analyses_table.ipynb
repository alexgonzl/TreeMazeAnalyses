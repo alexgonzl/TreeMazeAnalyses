{
 "cells": [
  {
   "cell_type": "code",
   "execution_count": 1,
   "metadata": {},
   "outputs": [],
   "source": [
    "from pathlib import Path\n",
    "import os,sys, json, datetime, getopt\n",
    "import pickle as pkl\n",
    "import time"
   ]
  },
  {
   "cell_type": "code",
   "execution_count": 2,
   "metadata": {},
   "outputs": [],
   "source": [
    "\n",
    "oakPaths = {}\n",
    "oakPaths['Root'] = Path('/mnt/o/giocomo/alexg/')\n",
    "oakPaths['Clustered'] = Path('/mnt/o/giocomo/alexg/Clustered/')\n",
    "oakPaths['PreProcessed'] = Path('/mnt/o/giocomo/alexg/PreProcessed/')\n",
    "oakPaths['Raw'] = Path('/mnt/o/giocomo/alexg/RawData/InVivo/')\n",
    "oakPaths['Analyses'] = Path('/mnt/o/giocomo/alexg/Analyses')\n"
   ]
  },
  {
   "cell_type": "code",
   "execution_count": 3,
   "metadata": {},
   "outputs": [],
   "source": [
    "def getSessionPaths(rootPath, session,step=0.02,SR=32000):\n",
    "    tmp = session.split('_')\n",
    "    animal = tmp[0]\n",
    "    task = tmp[1]\n",
    "    date = tmp[2]\n",
    "\n",
    "    Paths = {}\n",
    "    Paths['session'] = session\n",
    "    Paths['animal']=animal\n",
    "    Paths['task'] = task\n",
    "    Paths['date'] = date\n",
    "    Paths['step'] = step\n",
    "    Paths['SR'] = SR\n",
    "    Paths['Clusters'] = rootPath['Clustered'] / animal /(session+'_KSClusters')\n",
    "    Paths['Raw'] = rootPath['Raw'] / animal / session\n",
    "    Paths['PreProcessed'] = rootPath['PreProcessed'] / animal / (session + '_Results')\n",
    "    Paths['Analyses'] = rootPath['Analyses'] / animal/ (session + '_Analyses')\n",
    "\n",
    "    Paths['ClusterTable'] = rootPath['Clustered'] / animal / (animal+'_ClusteringSummary.json')\n",
    "\n",
    "    if not Paths['Clusters'].exists():\n",
    "        print('Error, no Cluster Folder found.')\n",
    "    if not Paths['PreProcessed'].exists():\n",
    "        print('Error, no processed binaries found.')\n",
    "    if not Paths['ClusterTable'].exists():\n",
    "        print('Error, no clustering table found.')\n",
    "\n",
    "    Paths['Analyses'].mkdir(parents=True, exist_ok=True)\n",
    "\n",
    "    Paths['BehavTrackDat'] = Paths['Analyses'] / ('BehTrackVariables_{}ms.h5'.format(int(step*1000)))\n",
    "\n",
    "    Paths['Cell_Spikes'] = Paths['Analyses'] / 'Cell_Spikes.json'\n",
    "    Paths['Cell_Bin_Spikes'] = Paths['Analyses'] / ('Cell_Bin_Spikes_{}ms.npy'.format(int(step*1000)))\n",
    "    Paths['Cell_FR'] = Paths['Analyses'] / ('Cell_FR_{}ms.npy'.format(int(step*1000)))\n",
    "\n",
    "    Paths['Mua_Spikes'] = Paths['Analyses'] / 'Mua_Spikes.json'\n",
    "    Paths['Mua_Bin_Spikes'] = Paths['Analyses'] / ('Mua_Bin_Spikes_{}ms.npy'.format(int(step*1000)))\n",
    "    Paths['Mua_FR'] = Paths['Analyses'] / ('Mua_FR_{}ms.npy'.format(int(step*1000)))\n",
    "\n",
    "    Paths['Spike_IDs'] = Paths['Analyses'] / 'Spike_IDs.json'\n",
    "    Paths['ZoneAnalyses'] = Paths['Analyses'] / 'ZoneAnalyses.pkl'\n",
    "\n",
    "    Paths['TrialInfo'] = Paths['Analyses'] / 'TrInfo.pkl'\n",
    "    Paths['TrialCondMat'] = Paths['Analyses'] / 'TrialCondMat.csv'\n",
    "    Paths['TrLongPosMat'] = Paths['Analyses'] / 'TrLongPosMat.csv'\n",
    "    Paths['TrLongPosFRDat'] = Paths['Analyses'] / 'TrLongPosFRDat.csv'\n",
    "    Paths['TrModelFits'] = Paths['Analyses'] /  'TrModelFits.csv'\n",
    "\n",
    "    # plots directories\n",
    "    Paths['Plots'] = Paths['Analyses'] / 'Plots'\n",
    "    Paths['Plots'].mkdir(parents=True, exist_ok=True)\n",
    "    Paths['SampCountsPlots'] = Paths['Plots'] / 'SampCountsPlots'\n",
    "    Paths['SampCountsPlots'].mkdir(parents=True, exist_ok=True)\n",
    "\n",
    "    Paths['ZoneFRPlots'] = Paths['Plots'] / 'ZoneFRPlots'\n",
    "    Paths['ZoneFRPlots'].mkdir(parents=True, exist_ok=True)\n",
    "\n",
    "    Paths['ZoneCorrPlots'] = Paths['Plots'] / 'ZoneCorrPlots'\n",
    "    Paths['ZoneCorrPlots'].mkdir(parents=True, exist_ok=True)\n",
    "    Paths['SIPlots'] = Paths['Plots'] / 'SIPlots'\n",
    "    Paths['SIPlots'].mkdir(parents=True, exist_ok=True)\n",
    "\n",
    "    Paths['TrialPlots'] = Paths['Plots'] / 'TrialPlots'\n",
    "    Paths['TrialPlots'].mkdir(parents=True, exist_ok=True)\n"
   ]
  },
  {
   "cell_type": "code",
   "execution_count": 9,
   "metadata": {},
   "outputs": [],
   "source": [
    "an = 'Li'\n",
    "Tasks = ['OF','T3g','T3h','T3j','T3i']"
   ]
  },
  {
   "cell_type": "code",
   "execution_count": 7,
   "metadata": {},
   "outputs": [
    {
     "data": {
      "text/plain": [
       "PosixPath('/mnt/o/giocomo/alexg/RawData/InVivo/Li')"
      ]
     },
     "execution_count": 7,
     "metadata": {},
     "output_type": "execute_result"
    }
   ],
   "source": [
    "oakPaths['Raw']/an"
   ]
  },
  {
   "cell_type": "code",
   "execution_count": 17,
   "metadata": {},
   "outputs": [],
   "source": [
    "sessions = []\n",
    "if (oakPaths['Raw']/an).exists():\n",
    "    for session in (oakPaths['Raw']/an).glob('*'):\n",
    "        try:\n",
    "            temp = session.name.split('_')\n",
    "            anID = temp[0]\n",
    "            task = temp[1]\n",
    "            date = temp[2]\n",
    "\n",
    "            if (anID==an) & (task in Tasks):\n",
    "                sessions.append(session.name)\n",
    "        except:\n",
    "            pass\n"
   ]
  },
  {
   "cell_type": "code",
   "execution_count": 18,
   "metadata": {},
   "outputs": [
    {
     "data": {
      "text/plain": [
       "['Li_OF_052318',\n",
       " 'Li_OF_052418',\n",
       " 'Li_OF_052518',\n",
       " 'Li_OF_052818',\n",
       " 'Li_OF_052918',\n",
       " 'Li_OF_053018',\n",
       " 'Li_OF_053118',\n",
       " 'Li_OF_060118',\n",
       " 'Li_OF_060418',\n",
       " 'Li_OF_060518',\n",
       " 'Li_OF_060718',\n",
       " 'Li_OF_060818',\n",
       " 'Li_OF_061118',\n",
       " 'Li_OF_061218',\n",
       " 'Li_OF_061318',\n",
       " 'Li_OF_061418',\n",
       " 'Li_OF_061518',\n",
       " 'Li_OF_061818',\n",
       " 'Li_OF_062018',\n",
       " 'Li_OF_062518',\n",
       " 'Li_OF_062618',\n",
       " 'Li_OF_062718',\n",
       " 'Li_OF_062818',\n",
       " 'Li_OF_062918',\n",
       " 'Li_OF_070218',\n",
       " 'Li_OF_070618',\n",
       " 'Li_OF_071018',\n",
       " 'Li_OF_080118',\n",
       " 'Li_OF_080218',\n",
       " 'Li_T3g_052418',\n",
       " 'Li_T3g_052518',\n",
       " 'Li_T3g_052818',\n",
       " 'Li_T3g_052918',\n",
       " 'Li_T3g_053018',\n",
       " 'Li_T3g_053118',\n",
       " 'Li_T3g_060118',\n",
       " 'Li_T3g_060418',\n",
       " 'Li_T3g_061318',\n",
       " 'Li_T3g_061418',\n",
       " 'Li_T3g_061518',\n",
       " 'Li_T3g_061818',\n",
       " 'Li_T3g_062018',\n",
       " 'Li_T3g_062518',\n",
       " 'Li_T3g_062618',\n",
       " 'Li_T3g_062718',\n",
       " 'Li_T3g_062818',\n",
       " 'Li_T3g_062918',\n",
       " 'Li_T3g_070218',\n",
       " 'Li_T3g_070518',\n",
       " 'Li_T3g_070618',\n",
       " 'Li_T3g_070918',\n",
       " 'Li_T3g_071018',\n",
       " 'Li_T3g_071118',\n",
       " 'Li_T3g_072518',\n",
       " 'Li_T3g_072618',\n",
       " 'Li_T3g_073018',\n",
       " 'Li_T3g_080118',\n",
       " 'Li_T3g_080218',\n",
       " 'Li_T3g_080318',\n",
       " 'Li_T3g_080618',\n",
       " 'Li_T3g_080718',\n",
       " 'Li_T3i_060518',\n",
       " 'Li_T3i_060618',\n",
       " 'Li_T3i_060818',\n",
       " 'Li_T3i_061118',\n",
       " 'Li_T3i_061218']"
      ]
     },
     "execution_count": 18,
     "metadata": {},
     "output_type": "execute_result"
    }
   ],
   "source": [
    "sessions"
   ]
  }
 ],
 "metadata": {
  "kernelspec": {
   "display_name": "Python 3",
   "language": "python",
   "name": "python3"
  },
  "language_info": {
   "codemirror_mode": {
    "name": "ipython",
    "version": 3
   },
   "file_extension": ".py",
   "mimetype": "text/x-python",
   "name": "python",
   "nbconvert_exporter": "python",
   "pygments_lexer": "ipython3",
   "version": "3.7.3"
  }
 },
 "nbformat": 4,
 "nbformat_minor": 2
}

{
 "cells": [
  {
   "cell_type": "code",
   "execution_count": 1,
   "metadata": {},
   "outputs": [
    {
     "name": "stderr",
     "output_type": "stream",
     "text": [
      "/Users/alexgonzalez/anaconda3/lib/python3.6/site-packages/h5py/__init__.py:36: FutureWarning: Conversion of the second argument of issubdtype from `float` to `np.floating` is deprecated. In future, it will be treated as `np.float64 == np.dtype(float).type`.\n",
      "  from ._conv import register_converters as _register_converters\n"
     ]
    }
   ],
   "source": [
    "import numpy as np\n",
    "import time\n",
    "import pandas as pd\n",
    "from pathlib import Path\n",
    "from CSC_Wrapper import *\n",
    "from get_neuralynx import *\n",
    "import os,sys, shutil, subprocess\n"
   ]
  },
  {
   "cell_type": "markdown",
   "metadata": {},
   "source": [
    "Copy params files for each tetrode to the working directory. To edit one and then copy the same parameters to the rest run the following bash code from where the edited file is located.\n",
    "\n",
    "for f in {1..16}; do cp tt_1.params tt_$f.params; done"
   ]
  },
  {
   "cell_type": "code",
   "execution_count": 14,
   "metadata": {},
   "outputs": [
    {
     "name": "stdout",
     "output_type": "stream",
     "text": [
      "/Users/alexgonzalez/Google Drive/PostDoc/Data/T3g/Li/Li_T3g_062718_Results\n"
     ]
    }
   ],
   "source": [
    "# LOOP version\n",
    "animal = 'Li'\n",
    "task = 'T3g'\n",
    "#volumePath=Path('/Volumes/InVivoDat/' + animal)\n",
    "volumePath=Path('/Users/alexgonzalez/Google Drive/PostDoc/Data/',task,animal)\n",
    "paramsPath=Path('/Users/alexgonzalez/Google Drive/PostDoc/Code/spyking-circus/params')\n",
    "\n",
    "for fp in volumePath.glob('*'+task+'*18_Results'):\n",
    "    print(fp)\n",
    "    # copy probe file\n",
    "    shutil.copy2(paramsPath/'tetrode.prb',fp/'tetrode.prb')\n",
    "    # copy params file\n",
    "    for f in paramsPath.glob('*.params'):\n",
    "        currentFile = f.name\n",
    "        shutil.copy2(f,str(fp/f.name))\n",
    "# for fp in volumePath.glob('*'+task+'*18_Results'):\n",
    "#     print('Processing File '+str(fp.name))\n"
   ]
  },
  {
   "cell_type": "code",
   "execution_count": 15,
   "metadata": {},
   "outputs": [
    {
     "data": {
      "text/plain": [
       "[PosixPath('/Users/alexgonzalez/Google Drive/PostDoc/Data/T3g/Li/Li_T3g_062718_Results')]"
      ]
     },
     "execution_count": 15,
     "metadata": {},
     "output_type": "execute_result"
    }
   ],
   "source": [
    "list(volumePath.glob('*'+task+'*18_Results'))"
   ]
  },
  {
   "cell_type": "code",
   "execution_count": null,
   "metadata": {},
   "outputs": [],
   "source": []
  },
  {
   "cell_type": "code",
   "execution_count": 16,
   "metadata": {},
   "outputs": [
    {
     "name": "stdout",
     "output_type": "stream",
     "text": [
      "Processing: /Users/alexgonzalez/Google Drive/PostDoc/Data/T3g/Li/Li_T3g_062718_Results/tt_1.npy\n",
      "Time to process tt_1.npy = 247.7157530784607\n",
      "Processing: /Users/alexgonzalez/Google Drive/PostDoc/Data/T3g/Li/Li_T3g_062718_Results/tt_2.npy\n",
      "Time to process tt_2.npy = 497.6182198524475\n",
      "Processing: /Users/alexgonzalez/Google Drive/PostDoc/Data/T3g/Li/Li_T3g_062718_Results/tt_3.npy\n",
      "Time to process tt_3.npy = 1117.033119916916\n",
      "Processing: /Users/alexgonzalez/Google Drive/PostDoc/Data/T3g/Li/Li_T3g_062718_Results/tt_4.npy\n",
      "Time to process tt_4.npy = 283.5764389038086\n",
      "Processing: /Users/alexgonzalez/Google Drive/PostDoc/Data/T3g/Li/Li_T3g_062718_Results/tt_5.npy\n",
      "Time to process tt_5.npy = 1663.5777060985565\n",
      "Processing: /Users/alexgonzalez/Google Drive/PostDoc/Data/T3g/Li/Li_T3g_062718_Results/tt_6.npy\n",
      "Time to process tt_6.npy = 453.1104860305786\n",
      "Processing: /Users/alexgonzalez/Google Drive/PostDoc/Data/T3g/Li/Li_T3g_062718_Results/tt_7.npy\n",
      "Time to process tt_7.npy = 955.016618013382\n",
      "Processing: /Users/alexgonzalez/Google Drive/PostDoc/Data/T3g/Li/Li_T3g_062718_Results/tt_8.npy\n",
      "Time to process tt_8.npy = 1351.9663949012756\n",
      "Processing: /Users/alexgonzalez/Google Drive/PostDoc/Data/T3g/Li/Li_T3g_062718_Results/tt_9.npy\n",
      "Time to process tt_9.npy = 1826.6643812656403\n",
      "Processing: /Users/alexgonzalez/Google Drive/PostDoc/Data/T3g/Li/Li_T3g_062718_Results/tt_10.npy\n",
      "Time to process tt_10.npy = 1178.7034077644348\n",
      "Processing: /Users/alexgonzalez/Google Drive/PostDoc/Data/T3g/Li/Li_T3g_062718_Results/tt_11.npy\n",
      "Time to process tt_11.npy = 349.4520342350006\n",
      "Processing: /Users/alexgonzalez/Google Drive/PostDoc/Data/T3g/Li/Li_T3g_062718_Results/tt_12.npy\n",
      "Time to process tt_12.npy = 357.04646706581116\n",
      "Processing: /Users/alexgonzalez/Google Drive/PostDoc/Data/T3g/Li/Li_T3g_062718_Results/tt_13.npy\n",
      "Time to process tt_13.npy = 662.4355092048645\n",
      "Processing: /Users/alexgonzalez/Google Drive/PostDoc/Data/T3g/Li/Li_T3g_062718_Results/tt_14.npy\n",
      "Time to process tt_14.npy = 1363.6273579597473\n",
      "Processing: /Users/alexgonzalez/Google Drive/PostDoc/Data/T3g/Li/Li_T3g_062718_Results/tt_15.npy\n",
      "Time to process tt_15.npy = 824.295291185379\n",
      "Processing: /Users/alexgonzalez/Google Drive/PostDoc/Data/T3g/Li/Li_T3g_062718_Results/tt_16.npy\n",
      "Time to process tt_16.npy = 718.9657418727875\n"
     ]
    }
   ],
   "source": [
    "for fp in volumePath.glob('*'+task+'*18_Results'):\n",
    "    for tt in np.arange(1,17):\n",
    "        if (fp/'tt_{}.npy'.format(tt)).exists(): # if tetrode file exists\n",
    "            if not (fp/'tt_{}.results.hdf5'.format(tt)).exists(): # if spyking cluster hasn't given out results\n",
    "                try:\n",
    "                    print('Processing: '+str(fp)+'/tt_{}.npy'.format(tt))\n",
    "                    os.chdir(fp)\n",
    "                    t1=time.time()\n",
    "                    subprocess.call(['spyking-circus','tt_{}.npy'.format(tt),'-c',str(3)], stdout=subprocess.PIPE)\n",
    "                    t2=time.time()\n",
    "                    print('Time to process tt_{}.npy = {}'.format(tt,t2-t1))\n",
    "                except:\n",
    "                    print('Could not process file ')\n",
    "                    print (\"error\", sys.exc_info()[0],sys.exc_info()[1],sys.exc_info()[2].tb_lineno)"
   ]
  },
  {
   "cell_type": "code",
   "execution_count": null,
   "metadata": {},
   "outputs": [],
   "source": []
  },
  {
   "cell_type": "code",
   "execution_count": 84,
   "metadata": {},
   "outputs": [
    {
     "data": {
      "text/plain": [
       "1"
      ]
     },
     "execution_count": 84,
     "metadata": {},
     "output_type": "execute_result"
    }
   ],
   "source": [
    "subprocess.call(['spyking-circus','tt_{}.npy'.format(tt),'-c',str(3)])"
   ]
  },
  {
   "cell_type": "code",
   "execution_count": 80,
   "metadata": {},
   "outputs": [
    {
     "name": "stdout",
     "output_type": "stream",
     "text": [
      "2018-07-12 00:15:30,448 DEBUG    [circus.shared.parser] Creating a Circus Parser for datafile /Volumes/InVivoDat/Li/Li_OF_052418_Results/tt_16.npy\r\n",
      "2018-07-12 00:15:30,460 DEBUG    [circus.shared.probes] Reading the probe file /Volumes/InVivoDat/Li/Li_OF_052418_Results/tetrode.prb\r\n",
      "2018-07-12 00:15:30,479 DEBUG    [circus.shared.parser] Cluster not detected, so using global /tmp folder\r\n",
      "2018-07-12 00:15:30,480 DEBUG    [circus.shared.parser] Trying to read file /Volumes/InVivoDat/Li/Li_OF_052418_Results/tt_16.npy as numpy\r\n"
     ]
    }
   ],
   "source": []
  }
 ],
 "metadata": {
  "kernelspec": {
   "display_name": "Python 3",
   "language": "python",
   "name": "python3"
  },
  "language_info": {
   "codemirror_mode": {
    "name": "ipython",
    "version": 3
   },
   "file_extension": ".py",
   "mimetype": "text/x-python",
   "name": "python",
   "nbconvert_exporter": "python",
   "pygments_lexer": "ipython3",
   "version": "3.6.4"
  }
 },
 "nbformat": 4,
 "nbformat_minor": 2
}

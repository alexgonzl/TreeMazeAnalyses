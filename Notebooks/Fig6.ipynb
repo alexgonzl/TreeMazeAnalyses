{
 "cells": [
  {
   "cell_type": "code",
   "execution_count": 1,
   "metadata": {},
   "outputs": [],
   "source": [
    "%matplotlib inline\n",
    "from circus.shared.parser import CircusParser\n",
    "from circus.shared.files import load_data\n",
    "import matplotlib.pyplot as plt\n",
    "from pathlib import Path\n",
    "import os\n",
    "import numpy as np\n",
    "font = {'family' : 'sans-serif',\n",
    "        'size'   : 20}\n",
    "\n",
    "plt.rc('font', **font)"
   ]
  },
  {
   "cell_type": "code",
   "execution_count": 3,
   "metadata": {},
   "outputs": [],
   "source": [
    "animal = 'Li'\n",
    "task = 'T3g'\n",
    "date = '062718'\n",
    "filename = animal+'_'+task+'_'+date+'_Results'\n",
    "datPath=Path('/Users/alexgonzalez/Google Drive/PostDoc/Data/',task,animal,filename)\n",
    "savePath=Path('/Users/alexgonzalez/Google Drive/PostDoc/FundingFellowships/NRSA/')\n",
    "\n",
    "cwd = datPath.cwd()\n",
    "os.chdir(str(datPath))"
   ]
  },
  {
   "cell_type": "code",
   "execution_count": 29,
   "metadata": {},
   "outputs": [
    {
     "name": "stdout",
     "output_type": "stream",
     "text": [
      "/Users/alexgonzalez/Google Drive/PostDoc/Data/T3g/Li/Li_T3g_062718_Results/tt_8/tt_8.templates.hdf5 True\n",
      "<HDF5 file \"tt_8.templates.hdf5\" (mode r)>\n",
      "/Users/alexgonzalez/Google Drive/PostDoc/Data/T3g/Li/Li_T3g_062718_Results/tt_8/tt_8.templates.hdf5 True\n",
      "<HDF5 file \"tt_8.templates.hdf5\" (mode r)>\n",
      "/Users/alexgonzalez/Google Drive/PostDoc/Data/T3g/Li/Li_T3g_062718_Results/tt_8/tt_8.templates.hdf5 True\n",
      "<HDF5 file \"tt_8.templates.hdf5\" (mode r)>\n",
      "/Users/alexgonzalez/Google Drive/PostDoc/Data/T3g/Li/Li_T3g_062718_Results/tt_10/tt_10.templates.hdf5 True\n",
      "<HDF5 file \"tt_10.templates.hdf5\" (mode r)>\n"
     ]
    },
    {
     "data": {
      "image/png": "[encoded data removed]",
      "text/plain": [
       "<matplotlib.figure.Figure at 0x1c1f3b6a90>"
      ]
     },
     "metadata": {},
     "output_type": "display_data"
    }
   ],
   "source": [
    "\n",
    "nPlots= 4;\n",
    "TT=[8,8,8,10]\n",
    "Temp=[1,4,7,9]\n",
    "subID = ['a.','b.','c.','d.']\n",
    "\n",
    "fig, ax = plt.subplots(2,2,figsize=(4,4))\n",
    "ax=ax.flatten()\n",
    "for tt in np.arange(nPlots):\n",
    "    params    = CircusParser(str(datPath)+'/tt_'+str(TT[tt])+'.npy')\n",
    "    templates = load_data(params, 'templates') # To load the templates\n",
    "    results = load_data(params, 'results') # To load the templates\n",
    "    templates = templates.toarray()\n",
    "    nTemps = len(results['spiketimes'])\n",
    "    time = np.arange(97)/32\n",
    "    temp = Temp[tt]\n",
    "    nSpikes = len(results['spiketimes']['temp_'+str(temp)])\n",
    "    \n",
    "    ax[tt].plot(time,templates[:, temp].reshape(4, 97).T,alpha=0.7)\n",
    "    ax[tt].set_ylim(-10,5)\n",
    "    ax[tt].set_xlim(0,3)\n",
    "    ax[tt].set_axis_off()\n",
    "    ax[tt].text(-0.3,3,subID[tt],weight='bold',fontsize=16)\n",
    "    if tt==0:\n",
    "        ax[tt].set_ylabel('amp[z]')   \n",
    "        a = fig.add_axes(ax[tt].get_position(), frameon=False)\n",
    "        a.set_axis_off()\n",
    "        a.set_xlim(ax[tt].get_xlim())\n",
    "        a.set_ylim(ax[tt].get_ylim())\n",
    "        a.plot([0,1],[-8,-8],'k',linewidth=0.8)\n",
    "        a.plot([0,0],[-7.9,-3],'k') \n",
    "        a.text(0.15,-9.5,'1ms')\n",
    "        a.text(-0.3,-4.5,'5 std',rotation=90)\n",
    "\n",
    "fig.savefig(str(savePath)+'/Fig6.pdf',bbox_inches='tight')"
   ]
  },
  {
   "cell_type": "code",
   "execution_count": 69,
   "metadata": {},
   "outputs": [
    {
     "data": {
      "text/plain": [
       "PosixPath('~/Google\\\\ Drive/PostDoc/FundingFellowships/NRSA')"
      ]
     },
     "execution_count": 69,
     "metadata": {},
     "output_type": "execute_result"
    }
   ],
   "source": []
  },
  {
   "cell_type": "code",
   "execution_count": 33,
   "metadata": {},
   "outputs": [
    {
     "data": {
      "text/plain": [
       "Bbox([[0.5477272727272726, 0.125], [0.8999999999999999, 0.88]])"
      ]
     },
     "execution_count": 33,
     "metadata": {},
     "output_type": "execute_result"
    }
   ],
   "source": [
    "a.set_facecolor()\n"
   ]
  }
 ],
 "metadata": {
  "kernelspec": {
   "display_name": "Python 3",
   "language": "python",
   "name": "python3"
  },
  "language_info": {
   "codemirror_mode": {
    "name": "ipython",
    "version": 3
   },
   "file_extension": ".py",
   "mimetype": "text/x-python",
   "name": "python",
   "nbconvert_exporter": "python",
   "pygments_lexer": "ipython3",
   "version": "3.6.4"
  }
 },
 "nbformat": 4,
 "nbformat_minor": 2
}

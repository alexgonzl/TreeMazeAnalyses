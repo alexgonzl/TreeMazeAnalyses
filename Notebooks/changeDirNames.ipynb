{
 "cells": [
  {
   "cell_type": "code",
   "execution_count": 5,
   "metadata": {},
   "outputs": [],
   "source": [
    "import os, shutil\n"
   ]
  },
  {
   "cell_type": "code",
   "execution_count": 6,
   "metadata": {},
   "outputs": [],
   "source": [
    "localPath = '/mnt/e/Data/Ne'\n",
    "localDir = os.getcwd()\n",
    "os.chdir(localPath)\n",
    "for fn in os.listdir():\n",
    "     os.rename(fn,'Ne'+fn[2:])\n",
    "os.chdir(localDir)"
   ]
  },
  {
   "cell_type": "code",
   "execution_count": 7,
   "metadata": {},
   "outputs": [
    {
     "data": {
      "text/plain": [
       "'/mnt/e/Data/Ne/Ne_T3i_060818_KSClusters'"
      ]
     },
     "execution_count": 7,
     "metadata": {},
     "output_type": "execute_result"
    }
   ],
   "source": [
    "os.path.join(localPath,fn)"
   ]
  },
  {
   "cell_type": "code",
   "execution_count": 8,
   "metadata": {},
   "outputs": [
    {
     "data": {
      "text/plain": [
       "['NE_T3g_052918_KSClusters',\n",
       " 'NE_T3g_053118_KSClusters',\n",
       " 'NE_T3g_052818_KSClusters',\n",
       " 'NE_T3g_053018_KSClusters',\n",
       " 'Ne_T3g_052218_KSClusters',\n",
       " 'Ne_T3g_052318_KSClusters',\n",
       " 'NE_T3g_052418_KSClusters',\n",
       " 'NE_T3g_052518_KSClusters',\n",
       " 'NE_T3g_060118_KSClusters',\n",
       " 'NE_T3g_060418_KSClusters',\n",
       " 'NE_T3g_061218_KSClusters',\n",
       " 'NE_T3g_061518_KSClusters',\n",
       " 'NE_T3g_061818_KSClusters',\n",
       " 'NE_T3g_062018_KSClusters',\n",
       " 'NE_T3g_062518_KSClusters',\n",
       " 'NE_T3g_062618_KSClusters',\n",
       " 'NE_T3g_062918_KSClusters',\n",
       " 'NE_T3g_070518_KSClusters',\n",
       " 'NE_T3g_070618_KSClusters',\n",
       " 'NE_T3g_070918_KSClusters',\n",
       " 'NE_T3g_071018_KSClusters',\n",
       " 'NE_T3g_071118_KSClusters',\n",
       " 'NE_T3g_072518_KSClusters',\n",
       " 'NE_T3g_072618_KSClusters',\n",
       " 'NE_T3g_073018_KSClusters',\n",
       " 'NE_T3g_080118_KSClusters',\n",
       " 'NE_T3g_080318_KSClusters',\n",
       " 'NE_T3gj_062718_KSClusters',\n",
       " 'NE_T3gj_062818_KSClusters',\n",
       " 'NE_T3h_051618_KSClusters',\n",
       " 'NE_T3hg_051718_KSClusters',\n",
       " 'NE_T3hg_051818_KSClusters',\n",
       " 'NE_T3hg_052118_KSClusters',\n",
       " 'NE_T3i_060518_KSClusters',\n",
       " 'NE_T3i_060618_KSClusters',\n",
       " 'NE_T3i_061118_KSClusters',\n",
       " 'NE_T3i_062918_KSClusters',\n",
       " 'NE_T3i_070218_KSClusters',\n",
       " 'NE_T3i_070518_KSClusters',\n",
       " 'NE_T3i_071018_KSClusters',\n",
       " 'NE_T3i_071118_KSClusters',\n",
       " 'NE_T3i_072518_KSClusters',\n",
       " 'NE_T3i_072618_KSClusters',\n",
       " 'NE_T3i_073018_KSClusters',\n",
       " 'NE_T3i_080118_KSClusters',\n",
       " 'NE_T3i_080318_KSClusters',\n",
       " 'NE_T3j_062918_KSClusters',\n",
       " 'Ne_T3i_060818_KSClusters']"
      ]
     },
     "execution_count": 8,
     "metadata": {},
     "output_type": "execute_result"
    }
   ],
   "source": [
    "os.listdir(localPath)"
   ]
  }
 ],
 "metadata": {
  "kernelspec": {
   "display_name": "Python 3",
   "language": "python",
   "name": "python3"
  },
  "language_info": {
   "codemirror_mode": {
    "name": "ipython",
    "version": 3
   },
   "file_extension": ".py",
   "mimetype": "text/x-python",
   "name": "python",
   "nbconvert_exporter": "python",
   "pygments_lexer": "ipython3",
   "version": "3.7.3"
  }
 },
 "nbformat": 4,
 "nbformat_minor": 2
}

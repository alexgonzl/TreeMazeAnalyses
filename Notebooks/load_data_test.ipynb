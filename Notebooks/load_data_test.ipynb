{
 "cells": [
  {
   "cell_type": "markdown",
   "metadata": {},
   "source": [
    "# Import Python Libraries"
   ]
  },
  {
   "cell_type": "code",
   "execution_count": 2,
   "metadata": {},
   "outputs": [
    {
     "name": "stderr",
     "output_type": "stream",
     "text": [
      "/Users/alexgonzalez/anaconda3/lib/python3.6/site-packages/h5py/__init__.py:36: FutureWarning: Conversion of the second argument of issubdtype from `float` to `np.floating` is deprecated. In future, it will be treated as `np.float64 == np.dtype(float).type`.\n",
      "  from ._conv import register_converters as _register_converters\n"
     ]
    },
    {
     "ename": "ModuleNotFoundError",
     "evalue": "No module named 'FilterCSCs'",
     "output_type": "error",
     "traceback": [
      "\u001b[0;31m---------------------------------------------------------------------------\u001b[0m",
      "\u001b[0;31mModuleNotFoundError\u001b[0m                       Traceback (most recent call last)",
      "\u001b[0;32m<ipython-input-2-a66e30de0944>\u001b[0m in \u001b[0;36m<module>\u001b[0;34m()\u001b[0m\n\u001b[1;32m     11\u001b[0m \u001b[0;32mfrom\u001b[0m \u001b[0mget_neuralynx\u001b[0m \u001b[0;32mimport\u001b[0m \u001b[0;34m*\u001b[0m\u001b[0;34m\u001b[0m\u001b[0m\n\u001b[1;32m     12\u001b[0m \u001b[0;32mfrom\u001b[0m \u001b[0mrobust_stats\u001b[0m \u001b[0;32mimport\u001b[0m \u001b[0;34m*\u001b[0m\u001b[0;34m\u001b[0m\u001b[0m\n\u001b[0;32m---> 13\u001b[0;31m \u001b[0;32mfrom\u001b[0m \u001b[0mFilterCSCs\u001b[0m \u001b[0;32mimport\u001b[0m \u001b[0;34m*\u001b[0m\u001b[0;34m\u001b[0m\u001b[0m\n\u001b[0m\u001b[1;32m     14\u001b[0m font = {'family' : 'sans-serif',\n\u001b[1;32m     15\u001b[0m         'size'   : 20}\n",
      "\u001b[0;31mModuleNotFoundError\u001b[0m: No module named 'FilterCSCs'"
     ]
    }
   ],
   "source": [
    "%matplotlib inline\n",
    "\n",
    "import numpy as np\n",
    "import matplotlib.pyplot as plt\n",
    "import matplotlib.mlab as mlab\n",
    "import time\n",
    "from scipy import signal \n",
    "import pandas as pd\n",
    "import nept\n",
    "import metakernel; metakernel.register_ipython_magics()\n",
    "from get_neuralynx import *\n",
    "from robust_stats import *\n",
    "from FilterCSCs import *\n",
    "font = {'family' : 'sans-serif',\n",
    "        'size'   : 20}\n",
    "\n",
    "plt.rc('font', **font)"
   ]
  },
  {
   "cell_type": "code",
   "execution_count": 2,
   "metadata": {},
   "outputs": [],
   "source": [
    "def sig_hist(signal):\n",
    "    num_bins = 1000\n",
    "    fig, ax = plt.subplots(figsize=(6,4))\n",
    "    n, bins, patches = ax.hist(signal[~np.isnan(signal)], num_bins, normed=1, facecolor='blue', alpha=0.5)\n",
    "    ax.set(xlabel='Amplitude[uV]', ylabel='Probability',\n",
    "           title='Data Distribution for Chan '+channel)\n",
    "    ax.set_xlim(np.nanpercentile(signal,[0.1,99.9]))\n",
    "    return fig,ax"
   ]
  },
  {
   "cell_type": "markdown",
   "metadata": {},
   "source": [
    "# Filter Design (Matlab)"
   ]
  },
  {
   "cell_type": "markdown",
   "metadata": {},
   "source": [
    "``` OCTAVE\n",
    "fs = 32000; % sampling rate\n",
    "Ny = fs/2;  % nyquist\n",
    "fOrder = 64;\n",
    "\n",
    "% initial iir filt\n",
    "[b0,a] = cheby1(4,0.001,300/Ny,'high');\n",
    "\n",
    "b_lowpass =  fir1(fOrder, [6500]/Ny,kaiser(fOrder+1,8));\n",
    "b_highpass=  fir1(fOrder*4, [150]/Ny,'high',blackman(fOrder*4+1));\n",
    "\n",
    "% form equivalent filter\n",
    "beq=conv(conv(b0,b_lowpass),b_highpass);\n",
    "% plot\n",
    "fvtool(beq,a,b0,a,b_lowpass,1,b_highpass,1,'fs',fs)\n",
    "% save\n",
    "dlmwrite('filt_a.dat',a,'delimiter',',','precision',12)\n",
    "dlmwrite('filt_b.dat',beq,'delimiter',',','precision',12)\n",
    "\n",
    "```"
   ]
  },
  {
   "cell_type": "markdown",
   "metadata": {},
   "source": [
    "The above matlab code creates an IIR Filter. The code was run and the filter coefficients saved."
   ]
  },
  {
   "cell_type": "code",
   "execution_count": 7,
   "metadata": {},
   "outputs": [],
   "source": [
    "beq = np.fromfile('filt_b.dat',dtype='float',sep=',')\n",
    "a = np.fromfile('filt_a.dat',dtype='float',sep=',')\n",
    "\n",
    "w, h = signal.freqz(beq,a,)"
   ]
  },
  {
   "cell_type": "code",
   "execution_count": 4,
   "metadata": {},
   "outputs": [
    {
     "data": {
      "image/png": "[encoded data removed]",
      "text/plain": [
       "<matplotlib.figure.Figure at 0x1068d0f28>"
      ]
     },
     "metadata": {},
     "output_type": "display_data"
    }
   ],
   "source": [
    "fig, ax = plt.subplots(figsize=(6,4))\n",
    "\n",
    "ax.plot(w/np.pi*16000, abs(h), 'b',linewidth=3)\n",
    "ax.set(xlabel='Frequency (Hz)', ylabel='Amplitude',\n",
    "       title='Digital Filter Frequency Response',xlim=(0,12000))\n",
    "ax.grid()\n"
   ]
  },
  {
   "cell_type": "markdown",
   "metadata": {},
   "source": [
    "### Load a signal and filter"
   ]
  },
  {
   "cell_type": "code",
   "execution_count": 8,
   "metadata": {},
   "outputs": [],
   "source": [
    "dataDir = '/Users/alexgonzalez/Google Drive/PostDoc/Data/'\n",
    "animal = 'Li'\n",
    "task = 'T3g'\n",
    "date = '060418'\n",
    "channel = '1b'\n",
    "FolderName = animal+'_'+task+'_'+date\n",
    "FileName  = 'CSC'+channel+'.ncs'\n",
    "fn = dataDir+FolderName+'/'+FileName\n",
    "\n",
    "sig = nept.load_lfp(fn)\n",
    "sig.data = np.float32(sig.data.flatten()*1e6)"
   ]
  },
  {
   "cell_type": "code",
   "execution_count": 6,
   "metadata": {},
   "outputs": [
    {
     "data": {
      "text/plain": [
       "(<matplotlib.figure.Figure at 0x1c1fb043c8>,\n",
       " <matplotlib.axes._subplots.AxesSubplot at 0x1c1fb04be0>)"
      ]
     },
     "execution_count": 6,
     "metadata": {},
     "output_type": "execute_result"
    },
    {
     "data": {
      "image/png": "[encoded data removed]",
      "text/plain": [
       "<matplotlib.figure.Figure at 0x1c1fb043c8>"
      ]
     },
     "metadata": {},
     "output_type": "display_data"
    }
   ],
   "source": [
    "sig_hist(sig.data)"
   ]
  },
  {
   "cell_type": "code",
   "execution_count": 10,
   "metadata": {},
   "outputs": [],
   "source": [
    "info = {'fn':FolderName+'/'+FileName,'nSamps':len(sig.data),'filt_b_coef':beq,'filt_a_coef':a}\n",
    "h=get_header(fn)\n",
    "info={**info,**h}"
   ]
  },
  {
   "cell_type": "code",
   "execution_count": 15,
   "metadata": {},
   "outputs": [
    {
     "name": "stdout",
     "output_type": "stream",
     "text": [
      "Time to filter = 51.78\n"
     ]
    }
   ],
   "source": [
    "t1=time.time()\n",
    "#filtdat = signal.filtfilt(beq,a,sig.data).astype(np.float32)\n",
    "filtdat = FilterCSC(sig.data,info)\n",
    "t2=time.time()\n",
    "print('Time to filter = %0.2f' % (t2-t1))"
   ]
  },
  {
   "cell_type": "code",
   "execution_count": 48,
   "metadata": {},
   "outputs": [],
   "source": [
    "f, Pxx_den = signal.welch(sig.data, 32000, nperseg=1024)\n",
    "f, Pyy_den = signal.welch(filtdat, 32000, nperseg=1024)"
   ]
  },
  {
   "cell_type": "code",
   "execution_count": 59,
   "metadata": {
    "scrolled": false
   },
   "outputs": [
    {
     "data": {
      "text/plain": [
       "(1e-18, 1e-09)"
      ]
     },
     "execution_count": 59,
     "metadata": {},
     "output_type": "execute_result"
    },
    {
     "data": {
      "image/png": "[encoded data removed]",
      "text/plain": [
       "<matplotlib.figure.Figure at 0x1c2212e390>"
      ]
     },
     "metadata": {},
     "output_type": "display_data"
    }
   ],
   "source": [
    "fig, ax = plt.subplots(figsize=(6,4))\n",
    "ax.semilogy(f, Pxx_den)\n",
    "ax.semilogy(f,Pyy_den)\n",
    "#plt.ylim([0.5e-3, 1])\n",
    "ax.set_xlabel('frequency [Hz]')\n",
    "ax.set_ylabel('PSD [V**2/Hz]')\n",
    "ax.grid()\n",
    "#ax.set_xlim(-100,2000)\n",
    "ax.set_ylim(10e-19,10e-10)\n",
    "#ax.set_ylim(0,1e-12)"
   ]
  },
  {
   "cell_type": "code",
   "execution_count": 18,
   "metadata": {},
   "outputs": [
    {
     "name": "stdout",
     "output_type": "stream",
     "text": [
      "Time to reject samples above 1170.00 uV =  0.63 seconds\n",
      "Number of samples rejected = 0.000000\n"
     ]
    },
    {
     "name": "stderr",
     "output_type": "stream",
     "text": [
      "/Users/alexgonzalez/Google Drive/PostDoc/Code/PreProcessing/FilterCSCs.py:16: RuntimeWarning: invalid value encountered in greater_equal\n",
      "  badSamps=np.where(abs(signal)>=info['AmpRejThr'])[0]\n"
     ]
    }
   ],
   "source": [
    "info['AmpPercentileThr']=0.975\n",
    "t1=time.time()\n",
    "filtdat, info = AmpRej(filtdat,info)\n",
    "t2=time.time()\n",
    "print('Time to reject samples above %0.2f uV =  %0.2f seconds'%(info['AmpRejThr'],t2-t1))\n",
    "print('Number of samples rejected = %f' % info['nBadAmpSamps'] )"
   ]
  },
  {
   "cell_type": "code",
   "execution_count": 24,
   "metadata": {},
   "outputs": [
    {
     "data": {
      "text/plain": [
       "<matplotlib.legend.Legend at 0x1c2caab390>"
      ]
     },
     "execution_count": 24,
     "metadata": {},
     "output_type": "execute_result"
    },
    {
     "data": {
      "image/png": "[encoded data removed]",
      "text/plain": [
       "<matplotlib.figure.Figure at 0x1c2caaba90>"
      ]
     },
     "metadata": {},
     "output_type": "display_data"
    }
   ],
   "source": [
    "num_bins = 1000\n",
    "fig, ax = plt.subplots(figsize=(6,4))\n",
    "n, bins, patches = ax.hist(sig.data, num_bins, normed=1, facecolor='black', alpha=0.5)\n",
    "n, bins, patches = ax.hist(filtdat[~badSamps], num_bins, normed=1, facecolor='red', alpha=0.7)\n",
    "ax.set(xlabel='Amplitude[uV]', ylabel='Probability',\n",
    "       title='Data Distribution for Chan '+channel)\n",
    "ax.set_xlim(-100,100)\n",
    "ax.legend(['original','filtered'])"
   ]
  },
  {
   "cell_type": "code",
   "execution_count": 19,
   "metadata": {},
   "outputs": [
    {
     "ename": "NameError",
     "evalue": "name 'filtdat' is not defined",
     "output_type": "error",
     "traceback": [
      "\u001b[0;31m---------------------------------------------------------------------------\u001b[0m",
      "\u001b[0;31mNameError\u001b[0m                                 Traceback (most recent call last)",
      "\u001b[0;32m<ipython-input-19-78bcd0ae1825>\u001b[0m in \u001b[0;36m<module>\u001b[0;34m()\u001b[0m\n\u001b[1;32m      1\u001b[0m \u001b[0;31m# standarize data\u001b[0m\u001b[0;34m\u001b[0m\u001b[0;34m\u001b[0m\u001b[0m\n\u001b[1;32m      2\u001b[0m \u001b[0;31m#z = (filtdat-np.nanmedian(filtdat))/(mad(filtdat)*1.4826)\u001b[0m\u001b[0;34m\u001b[0m\u001b[0;34m\u001b[0m\u001b[0m\n\u001b[0;32m----> 3\u001b[0;31m \u001b[0mz\u001b[0m \u001b[0;34m=\u001b[0m \u001b[0mrobust_zscore\u001b[0m\u001b[0;34m(\u001b[0m\u001b[0mfiltdat\u001b[0m\u001b[0;34m)\u001b[0m\u001b[0;34m\u001b[0m\u001b[0m\n\u001b[0m",
      "\u001b[0;32m~/Google Drive/PostDoc/Code/PreProcessing/robust_stats.py\u001b[0m in \u001b[0;36mrobust_zscore\u001b[0;34m(signal)\u001b[0m\n\u001b[1;32m    106\u001b[0m \u001b[0;34m\u001b[0m\u001b[0m\n\u001b[1;32m    107\u001b[0m     \"\"\"\n\u001b[0;32m--> 108\u001b[0;31m     \u001b[0;32mreturn\u001b[0m \u001b[0;34m(\u001b[0m\u001b[0mfiltdat\u001b[0m\u001b[0;34m-\u001b[0m\u001b[0mnp\u001b[0m\u001b[0;34m.\u001b[0m\u001b[0mnanmedian\u001b[0m\u001b[0;34m(\u001b[0m\u001b[0mfiltdat\u001b[0m\u001b[0;34m)\u001b[0m\u001b[0;34m)\u001b[0m\u001b[0;34m/\u001b[0m\u001b[0;34m(\u001b[0m\u001b[0mmad\u001b[0m\u001b[0;34m(\u001b[0m\u001b[0mfiltdat\u001b[0m\u001b[0;34m)\u001b[0m\u001b[0;34m*\u001b[0m\u001b[0;36m1.4826\u001b[0m\u001b[0;34m)\u001b[0m\u001b[0;34m\u001b[0m\u001b[0m\n\u001b[0m",
      "\u001b[0;31mNameError\u001b[0m: name 'filtdat' is not defined"
     ]
    }
   ],
   "source": [
    "# standarize data\n",
    "#z = (filtdat-np.nanmedian(filtdat))/(mad(filtdat)*1.4826)\n",
    "z = robust_zscore(filtdat)\n"
   ]
  },
  {
   "cell_type": "code",
   "execution_count": 13,
   "metadata": {},
   "outputs": [
    {
     "data": {
      "text/plain": [
       "'/Users/alexgonzalez/Google Drive/PostDoc/Data/Li_T3g_060418/CSC1b.ncs'"
      ]
     },
     "execution_count": 13,
     "metadata": {},
     "output_type": "execute_result"
    }
   ],
   "source": [
    "fn"
   ]
  },
  {
   "cell_type": "code",
   "execution_count": 35,
   "metadata": {},
   "outputs": [
    {
     "data": {
      "text/plain": [
       "{'AD': array(3.66210937e-08),\n",
       " 'ChanID': 1,\n",
       " 'InputRange': 1200,\n",
       " 'RefChan': 19,\n",
       " 'fs': 32000}"
      ]
     },
     "execution_count": 35,
     "metadata": {},
     "output_type": "execute_result"
    }
   ],
   "source": [
    "h"
   ]
  },
  {
   "cell_type": "code",
   "execution_count": null,
   "metadata": {},
   "outputs": [],
   "source": [
    "hh=nept.load_neuralynx_header(fn)"
   ]
  },
  {
   "cell_type": "code",
   "execution_count": 4,
   "metadata": {},
   "outputs": [],
   "source": [
    "dataDir = '/Users/alexgonzalez/Google Drive/PostDoc/Data/'\n",
    "animal = 'Li'\n",
    "task = 'T3g'\n",
    "date = '060418'\n",
    "channel = '1b'\n",
    "FolderName = animal+'_'+task+'_'+date\n",
    "FileName  = 'CSC'+channel+'.ncs'\n",
    "fn = dataDir+FolderName+'/'+FileName\n",
    "h=get_header(fn)"
   ]
  },
  {
   "cell_type": "code",
   "execution_count": 7,
   "metadata": {},
   "outputs": [
    {
     "data": {
      "text/plain": [
       "{'AD': array(3.66210937e-08),\n",
       " 'ChanID': 1,\n",
       " 'InputRange': 1200,\n",
       " 'RefChan': 19,\n",
       " 'fs': 32000}"
      ]
     },
     "execution_count": 7,
     "metadata": {},
     "output_type": "execute_result"
    }
   ],
   "source": []
  }
 ],
 "metadata": {
  "kernelspec": {
   "display_name": "Python 3",
   "language": "python",
   "name": "python3"
  }
 },
 "nbformat": 4,
 "nbformat_minor": 2
}

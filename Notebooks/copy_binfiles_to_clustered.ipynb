{
 "cells": [
  {
   "cell_type": "code",
   "execution_count": 4,
   "metadata": {
    "collapsed": true
   },
   "outputs": [],
   "source": [
    "import sys,re, shutil, filecmp\n",
    "from pathlib import Path"
   ]
  },
  {
   "cell_type": "code",
   "execution_count": 5,
   "metadata": {
    "collapsed": true
   },
   "outputs": [],
   "source": [
    "dir_animal = 'Ca'\n",
    "animal = 'Ca'\n",
    "#Dest = Path('/oak/stanford/groups/giocomo/alexg/Clustered/',dir_animal)\n",
    "#Source =Path('/oak/stanford/groups/giocomo/alexg/PreProcessed/',dir_animal)\n",
    "Dest =  Path('/mnt/o/giocomo/alexg/Clustered/',animal)\n",
    "Source = Path('/mnt/o/giocomo/alexg/PreProcessed/',animal)\n"
   ]
  },
  {
   "cell_type": "code",
   "execution_count": null,
   "metadata": {},
   "outputs": [
    {
     "name": "stdout",
     "output_type": "stream",
     "text": [
      "Error Copying File /mnt/o/giocomo/alexg/PreProcessed/Ca/Ca_OF_030419_Results/tt_1.bin\n",
      "Error <class 'PermissionError'> [Errno 1] Operation not permitted 19\n",
      "Error Copying File /mnt/o/giocomo/alexg/PreProcessed/Ca/Ca_OF_030419_Results/tt_2.bin\n",
      "Error <class 'PermissionError'> [Errno 1] Operation not permitted 19\n",
      "Error Copying File /mnt/o/giocomo/alexg/PreProcessed/Ca/Ca_OF_030419_Results/tt_3.bin\n",
      "Error <class 'PermissionError'> [Errno 1] Operation not permitted 19\n",
      "Error Copying File /mnt/o/giocomo/alexg/PreProcessed/Ca/Ca_OF_030419_Results/tt_4.bin\n",
      "Error <class 'PermissionError'> [Errno 1] Operation not permitted 19\n",
      "Error Copying File /mnt/o/giocomo/alexg/PreProcessed/Ca/Ca_OF_030419_Results/tt_5.bin\n",
      "Error <class 'PermissionError'> [Errno 1] Operation not permitted 19\n",
      "Error Copying File /mnt/o/giocomo/alexg/PreProcessed/Ca/Ca_OF_030419_Results/tt_6.bin\n",
      "Error <class 'PermissionError'> [Errno 1] Operation not permitted 19\n",
      "Error Copying File /mnt/o/giocomo/alexg/PreProcessed/Ca/Ca_OF_030419_Results/tt_7.bin\n",
      "Error <class 'PermissionError'> [Errno 1] Operation not permitted 19\n",
      "Error Copying File /mnt/o/giocomo/alexg/PreProcessed/Ca/Ca_OF_030419_Results/tt_8.bin\n",
      "Error <class 'PermissionError'> [Errno 1] Operation not permitted 19\n",
      "Error Copying File /mnt/o/giocomo/alexg/PreProcessed/Ca/Ca_OF_030419_Results/tt_9.bin\n",
      "Error <class 'PermissionError'> [Errno 1] Operation not permitted 19\n",
      "Error Copying File /mnt/o/giocomo/alexg/PreProcessed/Ca/Ca_OF_030419_Results/tt_10.bin\n",
      "Error <class 'PermissionError'> [Errno 1] Operation not permitted 19\n",
      "Error Copying File /mnt/o/giocomo/alexg/PreProcessed/Ca/Ca_OF_030419_Results/tt_11.bin\n",
      "Error <class 'PermissionError'> [Errno 1] Operation not permitted 19\n",
      "Error Copying File /mnt/o/giocomo/alexg/PreProcessed/Ca/Ca_OF_030419_Results/tt_12.bin\n",
      "Error <class 'PermissionError'> [Errno 1] Operation not permitted 19\n",
      "Error Copying File /mnt/o/giocomo/alexg/PreProcessed/Ca/Ca_OF_030419_Results/tt_13.bin\n",
      "Error <class 'PermissionError'> [Errno 1] Operation not permitted 19\n",
      "Error Copying File /mnt/o/giocomo/alexg/PreProcessed/Ca/Ca_OF_030419_Results/tt_14.bin\n",
      "Error <class 'PermissionError'> [Errno 1] Operation not permitted 19\n",
      "Error Copying File /mnt/o/giocomo/alexg/PreProcessed/Ca/Ca_OF_030419_Results/tt_15.bin\n",
      "Error <class 'PermissionError'> [Errno 1] Operation not permitted 19\n",
      "Error Copying File /mnt/o/giocomo/alexg/PreProcessed/Ca/Ca_OF_030419_Results/tt_16.bin\n",
      "Error <class 'PermissionError'> [Errno 1] Operation not permitted 19\n",
      "Error Copying File /mnt/o/giocomo/alexg/PreProcessed/Ca/Ca_OF_030519_Results/tt_1.bin\n",
      "Error <class 'PermissionError'> [Errno 1] Operation not permitted 19\n",
      "Error Copying File /mnt/o/giocomo/alexg/PreProcessed/Ca/Ca_OF_030519_Results/tt_2.bin\n",
      "Error <class 'PermissionError'> [Errno 1] Operation not permitted 19\n",
      "Error Copying File /mnt/o/giocomo/alexg/PreProcessed/Ca/Ca_OF_030519_Results/tt_3.bin\n",
      "Error <class 'PermissionError'> [Errno 1] Operation not permitted 19\n",
      "Error Copying File /mnt/o/giocomo/alexg/PreProcessed/Ca/Ca_OF_030519_Results/tt_4.bin\n",
      "Error <class 'PermissionError'> [Errno 1] Operation not permitted 19\n",
      "Error Copying File /mnt/o/giocomo/alexg/PreProcessed/Ca/Ca_OF_030519_Results/tt_5.bin\n",
      "Error <class 'PermissionError'> [Errno 1] Operation not permitted 19\n",
      "Error Copying File /mnt/o/giocomo/alexg/PreProcessed/Ca/Ca_OF_030519_Results/tt_6.bin\n",
      "Error <class 'PermissionError'> [Errno 1] Operation not permitted 19\n",
      "Error Copying File /mnt/o/giocomo/alexg/PreProcessed/Ca/Ca_OF_030519_Results/tt_7.bin\n",
      "Error <class 'PermissionError'> [Errno 1] Operation not permitted 19\n",
      "Error Copying File /mnt/o/giocomo/alexg/PreProcessed/Ca/Ca_OF_030519_Results/tt_8.bin\n",
      "Error <class 'PermissionError'> [Errno 1] Operation not permitted 19\n",
      "Error Copying File /mnt/o/giocomo/alexg/PreProcessed/Ca/Ca_OF_030519_Results/tt_9.bin\n",
      "Error <class 'PermissionError'> [Errno 1] Operation not permitted 19\n",
      "Error Copying File /mnt/o/giocomo/alexg/PreProcessed/Ca/Ca_OF_030519_Results/tt_10.bin\n",
      "Error <class 'PermissionError'> [Errno 1] Operation not permitted 19\n",
      "Error Copying File /mnt/o/giocomo/alexg/PreProcessed/Ca/Ca_OF_030519_Results/tt_11.bin\n",
      "Error <class 'KeyboardInterrupt'>  19\n"
     ]
    }
   ],
   "source": [
    "for se in Source.glob(\"*\"):\n",
    "    temp = re.split(\"_\",se.stem)\n",
    "    task = temp[1]\n",
    "    date = temp[2]\n",
    "    targetDir = Dest / (\"{}_{}_{}_KSClusters\").format(animal,task,date)\n",
    "    for tt in range(1,17):\n",
    "        try:\n",
    "            sfile = (se / 'tt_{}.bin'.format(tt))\n",
    "            tfolder = (targetDir/'tt_{}'.format(tt))\n",
    "            tfile = (tfolder / 'tt_{}.bin'.format(tt))\n",
    "            if sfile.exists():\n",
    "                if tfile.exists():\n",
    "                    if not filecmp.cmp(sfile,tfile, shallow=True):\n",
    "                        shutil.copy2(sfile,tfile)\n",
    "                        print('Copy completed for file {}'.format(sfile))\n",
    "                    else:\n",
    "                        print('File {} already exists at destination. '.format(sfile))\n",
    "                else:\n",
    "                    shutil.copy2(sfile,tfile)\n",
    "                    print('Copy completed for file {}'.format(sfile))\n",
    "        except:\n",
    "            print('Error Copying File {}'.format(sfile))\n",
    "            print (\"Error\", sys.exc_info()[0],sys.exc_info()[1],sys.exc_info()[2].tb_lineno)\n"
   ]
  },
  {
   "cell_type": "code",
   "execution_count": 6,
   "metadata": {},
   "outputs": [
    {
     "name": "stdout",
     "output_type": "stream",
     "text": [
      "/mnt/o/giocomo/alexg/PreProcessed/Ca/Ca_OF_030419_Results\n",
      "/mnt/o/giocomo/alexg/PreProcessed/Ca/Ca_OF_030519_Results\n",
      "/mnt/o/giocomo/alexg/PreProcessed/Ca/Ca_OF_030619_Results\n",
      "/mnt/o/giocomo/alexg/PreProcessed/Ca/Ca_OF_030719_Results\n",
      "/mnt/o/giocomo/alexg/PreProcessed/Ca/Ca_OF_030819_Results\n",
      "/mnt/o/giocomo/alexg/PreProcessed/Ca/Ca_OF_030919_Results\n",
      "/mnt/o/giocomo/alexg/PreProcessed/Ca/Ca_OF_031219_Results\n",
      "/mnt/o/giocomo/alexg/PreProcessed/Ca/Ca_OF_031319_Results\n",
      "/mnt/o/giocomo/alexg/PreProcessed/Ca/Ca_OF_031819_Results\n",
      "/mnt/o/giocomo/alexg/PreProcessed/Ca/Ca_OF_031919_Results\n",
      "/mnt/o/giocomo/alexg/PreProcessed/Ca/Ca_OF_032019_Results\n",
      "/mnt/o/giocomo/alexg/PreProcessed/Ca/Ca_OF_032119_Results\n",
      "/mnt/o/giocomo/alexg/PreProcessed/Ca/Ca_OF_032219_Results\n",
      "/mnt/o/giocomo/alexg/PreProcessed/Ca/Ca_OF_032519_Results\n",
      "/mnt/o/giocomo/alexg/PreProcessed/Ca/Ca_OF_032619_Results\n",
      "/mnt/o/giocomo/alexg/PreProcessed/Ca/Ca_OF_032819_Results\n",
      "/mnt/o/giocomo/alexg/PreProcessed/Ca/Ca_OF_032919_Results\n",
      "/mnt/o/giocomo/alexg/PreProcessed/Ca/Ca_OF_040219_Results\n",
      "/mnt/o/giocomo/alexg/PreProcessed/Ca/Ca_OF_040419_Results\n",
      "/mnt/o/giocomo/alexg/PreProcessed/Ca/Ca_OF_040519_Results\n",
      "/mnt/o/giocomo/alexg/PreProcessed/Ca/Ca_OF_040819_Results\n",
      "/mnt/o/giocomo/alexg/PreProcessed/Ca/Ca_OF_040919_Results\n",
      "/mnt/o/giocomo/alexg/PreProcessed/Ca/Ca_OF_041219_Results\n",
      "/mnt/o/giocomo/alexg/PreProcessed/Ca/Ca_OF_041619_Results\n",
      "/mnt/o/giocomo/alexg/PreProcessed/Ca/Ca_OF_041719_Results\n",
      "/mnt/o/giocomo/alexg/PreProcessed/Ca/Ca_OF_041919_Results\n",
      "/mnt/o/giocomo/alexg/PreProcessed/Ca/Ca_OF_042219_Results\n",
      "/mnt/o/giocomo/alexg/PreProcessed/Ca/Ca_OF_042319_Results\n",
      "/mnt/o/giocomo/alexg/PreProcessed/Ca/Ca_T3g_030419_Results\n",
      "/mnt/o/giocomo/alexg/PreProcessed/Ca/Ca_T3g_030519_Results\n",
      "/mnt/o/giocomo/alexg/PreProcessed/Ca/Ca_T3g_030619_Results\n",
      "/mnt/o/giocomo/alexg/PreProcessed/Ca/Ca_T3g_030719_Results\n",
      "/mnt/o/giocomo/alexg/PreProcessed/Ca/Ca_T3g_030819_Results\n",
      "/mnt/o/giocomo/alexg/PreProcessed/Ca/Ca_T3g_030919_Results\n",
      "/mnt/o/giocomo/alexg/PreProcessed/Ca/Ca_T3g_031119_Results\n",
      "/mnt/o/giocomo/alexg/PreProcessed/Ca/Ca_T3g_031219_Results\n",
      "/mnt/o/giocomo/alexg/PreProcessed/Ca/Ca_T3g_031319_Results\n",
      "/mnt/o/giocomo/alexg/PreProcessed/Ca/Ca_T3g_031419_Results\n",
      "/mnt/o/giocomo/alexg/PreProcessed/Ca/Ca_T3g_031519_Results\n",
      "/mnt/o/giocomo/alexg/PreProcessed/Ca/Ca_T3g_031819_Results\n",
      "/mnt/o/giocomo/alexg/PreProcessed/Ca/Ca_T3g_031919_Results\n",
      "/mnt/o/giocomo/alexg/PreProcessed/Ca/Ca_T3g_032019_Results\n",
      "/mnt/o/giocomo/alexg/PreProcessed/Ca/Ca_T3g_032119_Results\n",
      "/mnt/o/giocomo/alexg/PreProcessed/Ca/Ca_T3g_032219_Results\n",
      "/mnt/o/giocomo/alexg/PreProcessed/Ca/Ca_T3g_032519_Results\n",
      "/mnt/o/giocomo/alexg/PreProcessed/Ca/Ca_T3g_032619_Results\n",
      "/mnt/o/giocomo/alexg/PreProcessed/Ca/Ca_T3g_032819_Results\n",
      "/mnt/o/giocomo/alexg/PreProcessed/Ca/Ca_T3g_032919_Results\n",
      "/mnt/o/giocomo/alexg/PreProcessed/Ca/Ca_T3g_040119_Results\n",
      "/mnt/o/giocomo/alexg/PreProcessed/Ca/Ca_T3g_040219_Results\n",
      "/mnt/o/giocomo/alexg/PreProcessed/Ca/Ca_T3g_040419_Results\n",
      "/mnt/o/giocomo/alexg/PreProcessed/Ca/Ca_T3g_040519_Results\n",
      "/mnt/o/giocomo/alexg/PreProcessed/Ca/Ca_T3g_040819_Results\n",
      "/mnt/o/giocomo/alexg/PreProcessed/Ca/Ca_T3g_040919_Results\n",
      "/mnt/o/giocomo/alexg/PreProcessed/Ca/Ca_T3g_041119_Results\n",
      "/mnt/o/giocomo/alexg/PreProcessed/Ca/Ca_T3g_041219_Results\n",
      "/mnt/o/giocomo/alexg/PreProcessed/Ca/Ca_T3g_041619_Results\n",
      "/mnt/o/giocomo/alexg/PreProcessed/Ca/Ca_T3g_041719_Results\n",
      "/mnt/o/giocomo/alexg/PreProcessed/Ca/Ca_T3g_041919_Results\n",
      "/mnt/o/giocomo/alexg/PreProcessed/Ca/Ca_T3g_042219_Results\n",
      "/mnt/o/giocomo/alexg/PreProcessed/Ca/Ca_T3g_042319_Results\n"
     ]
    }
   ],
   "source": [
    "for se in Source.glob('*'):\n",
    "    print(se)"
   ]
  },
  {
   "cell_type": "code",
   "execution_count": 15,
   "metadata": {},
   "outputs": [
    {
     "data": {
      "text/plain": [
       "True"
      ]
     },
     "execution_count": 15,
     "metadata": {},
     "output_type": "execute_result"
    }
   ],
   "source": [
    "Dest.exists()"
   ]
  }
 ],
 "metadata": {
  "kernelspec": {
   "display_name": "Python 3",
   "language": "python",
   "name": "python3"
  },
  "language_info": {
   "codemirror_mode": {
    "name": "ipython",
    "version": 3
   },
   "file_extension": ".py",
   "mimetype": "text/x-python",
   "name": "python",
   "nbconvert_exporter": "python",
   "pygments_lexer": "ipython3",
   "version": "3.7.3"
  }
 },
 "nbformat": 4,
 "nbformat_minor": 2
}

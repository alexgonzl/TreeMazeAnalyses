{
 "cells": [
  {
   "cell_type": "code",
   "execution_count": 4,
   "metadata": {
    "collapsed": true
   },
   "outputs": [],
   "source": [
    "import sys,re, shutil, filecmp\n",
    "from pathlib import Path"
   ]
  },
  {
   "cell_type": "code",
   "execution_count": 2,
   "metadata": {
    "collapsed": true
   },
   "outputs": [],
   "source": [
    "dir_animal = 'Li'\n",
    "animal = 'Li'\n",
    "#C = Path('/oak/stanford/groups/giocomo/alexg/Clustered/'+dir_animal)\n",
    "#P =Path('/oak/stanford/groups/giocomo/alexg/PreProcessed/'+dir_animal)\n",
    "Dest =  Path('/mnt/o/giocomo/alexg/Clustered/',animal)\n",
    "Source = Path('/mnt/o/giocomo/alexg/PreProcessed/',animal)\n"
   ]
  },
  {
   "cell_type": "code",
   "execution_count": null,
   "metadata": {},
   "outputs": [
    {
     "name": "stdout",
     "output_type": "stream",
     "text": [
      "Error Copying File /mnt/o/giocomo/alexg/PreProcessed/Li/Li_OF_052818_Results/tt_1.bin\n",
      "Error <class 'PermissionError'> [Errno 1] Operation not permitted 19\n",
      "Error Copying File /mnt/o/giocomo/alexg/PreProcessed/Li/Li_OF_052818_Results/tt_2.bin\n",
      "Error <class 'KeyboardInterrupt'>  19\n",
      "Error Copying File /mnt/o/giocomo/alexg/PreProcessed/Li/Li_OF_052818_Results/tt_3.bin\n",
      "Error <class 'KeyboardInterrupt'>  19\n",
      "Error Copying File /mnt/o/giocomo/alexg/PreProcessed/Li/Li_OF_052818_Results/tt_4.bin\n",
      "Error <class 'KeyboardInterrupt'>  19\n",
      "Error Copying File /mnt/o/giocomo/alexg/PreProcessed/Li/Li_OF_052818_Results/tt_5.bin\n",
      "Error <class 'KeyboardInterrupt'>  19\n",
      "Error Copying File /mnt/o/giocomo/alexg/PreProcessed/Li/Li_OF_052818_Results/tt_6.bin\n",
      "Error <class 'KeyboardInterrupt'>  19\n"
     ]
    }
   ],
   "source": [
    "for se in Source.glob(\"*\"):\n",
    "    temp = re.split(\"_\",se.stem)\n",
    "    task = temp[1]\n",
    "    date = temp[2]\n",
    "    targetDir = Dest / (\"{}_{}_{}_KSClusters\").format(animal,task,date)\n",
    "    for tt in range(1,17):\n",
    "        try:\n",
    "            sfile = (se / 'tt_{}.bin'.format(tt))\n",
    "            tfolder = (targetDir/'tt_{}'.format(tt))\n",
    "            tfile = (tfolder / 'tt_{}.bin'.format(tt))\n",
    "            if sfile.exists():\n",
    "                if tfile.exists():\n",
    "                    if not filecmp.cmp(sfile,tfile, shallow=True):\n",
    "                        shutil.copy2(sfile,tfile)\n",
    "                        print('Copy completed for file {}'.format(sfile))\n",
    "                    else:\n",
    "                        print('File {} already exists at destination. '.format(sfile))\n",
    "                else:\n",
    "                    shutil.copy2(sfile,tfile)\n",
    "                    print('Copy completed for file {}'.format(sfile))\n",
    "        except:\n",
    "            print('Error Copying File {}'.format(sfile))\n",
    "            print (\"Error\", sys.exc_info()[0],sys.exc_info()[1],sys.exc_info()[2].tb_lineno)\n"
   ]
  },
  {
   "cell_type": "code",
   "execution_count": 4,
   "metadata": {},
   "outputs": [
    {
     "ename": "SyntaxError",
     "evalue": "invalid syntax (<ipython-input-4-c30dba8197a1>, line 1)",
     "output_type": "error",
     "traceback": [
      "\u001b[0;36m  File \u001b[0;32m\"<ipython-input-4-c30dba8197a1>\"\u001b[0;36m, line \u001b[0;32m1\u001b[0m\n\u001b[0;31m    +\u001b[0m\n\u001b[0m     ^\u001b[0m\n\u001b[0;31mSyntaxError\u001b[0m\u001b[0;31m:\u001b[0m invalid syntax\n"
     ]
    }
   ],
   "source": []
  }
 ],
 "metadata": {
  "kernelspec": {
   "display_name": "Python 3",
   "language": "python",
   "name": "python3"
  },
  "language_info": {
   "codemirror_mode": {
    "name": "ipython",
    "version": 3
   },
   "file_extension": ".py",
   "mimetype": "text/x-python",
   "name": "python",
   "nbconvert_exporter": "python",
   "pygments_lexer": "ipython3",
   "version": "3.7.3"
  }
 },
 "nbformat": 4,
 "nbformat_minor": 2
}

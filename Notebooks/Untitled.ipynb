{
 "cells": [
  {
   "cell_type": "code",
   "execution_count": 20,
   "metadata": {},
   "outputs": [],
   "source": [
    "%matplotlib inline\n",
    "\n",
    "import numpy as np\n",
    "import pandas as pd\n",
    "from pathlib import Path\n",
    "\n",
    "import matplotlib.pyplot as plt\n",
    "import matplotlib.ticker as ticker\n",
    "from matplotlib.ticker import FormatStrFormatter\n",
    "import seaborn as sns\n",
    "font = {'family' : 'sans-serif',\n",
    "        'size'   : 20}\n",
    "\n",
    "plt.rc('font', **font)\n"
   ]
  },
  {
   "cell_type": "code",
   "execution_count": 4,
   "metadata": {},
   "outputs": [],
   "source": [
    "animal = 'Li'\n",
    "task = 'T3g'\n",
    "date = '062718'\n",
    "fn = animal+'_'+task+'_'+date+'_KSClusters'\n",
    "datPath = Path('/Volumes/groups/giocomo/alexg/Clustered/',animal,fn)\n",
    "tt = 10\n",
    "spikesPath = datPath/('tt_'+str(tt))/'spike_times.npy'\n",
    "clustersPath = datPath/('tt_'+str(tt))/'spike_clusters.npy'"
   ]
  },
  {
   "cell_type": "code",
   "execution_count": 10,
   "metadata": {},
   "outputs": [],
   "source": [
    "tt = 10\n",
    "spikesPath = datPath/('tt_'+str(tt))/'spike_times.npy'\n",
    "clustersPath = datPath/('tt_'+str(tt))/'spike_clusters.npy'"
   ]
  },
  {
   "cell_type": "code",
   "execution_count": 11,
   "metadata": {},
   "outputs": [],
   "source": [
    "spikes = np.load(spikesPath)\n",
    "clusters = np.load(clustersPath)"
   ]
  },
  {
   "cell_type": "code",
   "execution_count": 22,
   "metadata": {},
   "outputs": [
    {
     "data": {
      "text/plain": [
       "(array([   636.,  49479.,  10289.,      0.,  34467.,  39087.,  12259.,\n",
       "         53329.,  20853.,  49390.,      0.,   4862.,  30603.,  43108.,\n",
       "         29251.,      0.,      0., 132836.,      0.]),\n",
       " array([ 0,  1,  2,  3,  4,  5,  6,  7,  8,  9, 10, 11, 12, 13, 14, 15, 16,\n",
       "        17, 18, 19]),\n",
       " <a list of 19 Patch objects>)"
      ]
     },
     "execution_count": 22,
     "metadata": {},
     "output_type": "execute_result"
    },
    {
     "data": {
      "image/png": "[encoded data removed]",
      "text/plain": [
       "<matplotlib.figure.Figure at 0x1a25471a58>"
      ]
     },
     "metadata": {},
     "output_type": "display_data"
    }
   ],
   "source": [
    "plt.hist(clusters,np.arange(20))"
   ]
  },
  {
   "cell_type": "code",
   "execution_count": 9,
   "metadata": {},
   "outputs": [
    {
     "data": {
      "text/plain": [
       "array([[2.62500000e-03],\n",
       "       [2.07812500e-02],\n",
       "       [2.34375000e-02],\n",
       "       ...,\n",
       "       [3.57266950e+03],\n",
       "       [3.57267063e+03],\n",
       "       [3.57267162e+03]])"
      ]
     },
     "execution_count": 9,
     "metadata": {},
     "output_type": "execute_result"
    }
   ],
   "source": [
    "d/32000"
   ]
  }
 ],
 "metadata": {
  "kernelspec": {
   "display_name": "Python 3",
   "language": "python",
   "name": "python3"
  },
  "language_info": {
   "codemirror_mode": {
    "name": "ipython",
    "version": 3
   },
   "file_extension": ".py",
   "mimetype": "text/x-python",
   "name": "python",
   "nbconvert_exporter": "python",
   "pygments_lexer": "ipython3",
   "version": "3.6.8"
  }
 },
 "nbformat": 4,
 "nbformat_minor": 2
}

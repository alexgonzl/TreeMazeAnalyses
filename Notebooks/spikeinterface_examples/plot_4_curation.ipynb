{
  "cells": [
    {
      "cell_type": "code",
      "execution_count": null,
      "metadata": {
        "collapsed": false
      },
      "outputs": [],
      "source": [
        "%matplotlib inline"
      ]
    },
    {
      "cell_type": "markdown",
      "metadata": {},
      "source": [
        "\nCuration Tutorial\n======================\n\nAfter spike sorting and computing validation metrics, you can automatically curate the spike sorting output using the\nquality metrics. This can be done with the :code:`toolkit.curation` submodule.\n\n\n"
      ]
    },
    {
      "cell_type": "code",
      "execution_count": null,
      "metadata": {
        "collapsed": false
      },
      "outputs": [],
      "source": [
        "import spikeinterface.extractors as se\nimport spikeinterface.toolkit as st\nimport spikeinterface.sorters as ss"
      ]
    },
    {
      "cell_type": "markdown",
      "metadata": {},
      "source": [
        "First, let's create a toy example:\n\n"
      ]
    },
    {
      "cell_type": "code",
      "execution_count": null,
      "metadata": {
        "collapsed": false
      },
      "outputs": [],
      "source": [
        "recording, sorting = se.example_datasets.toy_example(num_channels=4, duration=30, seed=0)"
      ]
    },
    {
      "cell_type": "markdown",
      "metadata": {},
      "source": [
        "and let's spike sort using klusta\n\n"
      ]
    },
    {
      "cell_type": "code",
      "execution_count": null,
      "metadata": {
        "collapsed": false
      },
      "outputs": [],
      "source": [
        "sorting_KL = ss.run_klusta(recording)\n\nprint('Units:', sorting_KL.get_unit_ids())\nprint('Number of units:', len(sorting_KL.get_unit_ids()))"
      ]
    },
    {
      "cell_type": "markdown",
      "metadata": {},
      "source": [
        "There are several available functions that enables to only retrieve units with respect to some rules. For example,\nlet's automatically curate the sorting output so that only the units with SNR > 10 and mean firing rate > 2.3 Hz are\nkept:\n\n"
      ]
    },
    {
      "cell_type": "code",
      "execution_count": null,
      "metadata": {
        "collapsed": false
      },
      "outputs": [],
      "source": [
        "sorting_fr = st.curation.threshold_firing_rate(sorting_KL, threshold=2.3, threshold_sign='less')\n\nprint('Units after FR theshold:', sorting_fr.get_unit_ids())\nprint('Number of units after FR theshold:', len(sorting_fr.get_unit_ids()))\n\nsorting_snr = st.curation.threshold_snr(sorting_fr, recording, threshold=10, threshold_sign='less')\n\nprint('Units after SNR theshold:', sorting_snr.get_unit_ids())\nprint('Number of units after SNR theshold:', len(sorting_snr.get_unit_ids()))"
      ]
    },
    {
      "cell_type": "markdown",
      "metadata": {},
      "source": [
        "Let's now check with the :code:`toolkit.validation` submodule that all units have a firing rate > 10 and snr > 0\n\n"
      ]
    },
    {
      "cell_type": "code",
      "execution_count": null,
      "metadata": {
        "collapsed": false
      },
      "outputs": [],
      "source": [
        "fr = st.validation.compute_firing_rates(sorting_snr)\nsnrs = st.validation.compute_snrs(sorting_snr, recording)\n\nprint('Firing rates:', fr)\nprint('SNR:', snrs)"
      ]
    }
  ],
  "metadata": {
    "kernelspec": {
      "display_name": "Python 3",
      "language": "python",
      "name": "python3"
    },
    "language_info": {
      "codemirror_mode": {
        "name": "ipython",
        "version": 3
      },
      "file_extension": ".py",
      "mimetype": "text/x-python",
      "name": "python",
      "nbconvert_exporter": "python",
      "pygments_lexer": "ipython3",
      "version": "3.6.8"
    }
  },
  "nbformat": 4,
  "nbformat_minor": 0
}
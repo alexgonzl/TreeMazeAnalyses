{
  "cells": [
    {
      "cell_type": "code",
      "execution_count": null,
      "metadata": {
        "collapsed": false
      },
      "outputs": [],
      "source": [
        "%matplotlib inline"
      ]
    },
    {
      "cell_type": "markdown",
      "metadata": {},
      "source": [
        "\nComparison Widgets Gallery\n===================================\n\nHere is a gallery of all the available widgets using SortingExtractor objects.\n\n"
      ]
    },
    {
      "cell_type": "code",
      "execution_count": null,
      "metadata": {
        "collapsed": false
      },
      "outputs": [],
      "source": [
        "import spikeinterface.extractors as se\nimport spikeinterface.widgets as sw"
      ]
    },
    {
      "cell_type": "markdown",
      "metadata": {},
      "source": [
        "First, let's create a toy example with the `extractors` module:\n\n"
      ]
    },
    {
      "cell_type": "code",
      "execution_count": null,
      "metadata": {
        "collapsed": false
      },
      "outputs": [],
      "source": [
        "recording, sorting_true = se.example_datasets.toy_example(duration=10, num_channels=4, seed=0)"
      ]
    },
    {
      "cell_type": "markdown",
      "metadata": {},
      "source": [
        "Let's run some spike sorting:\n\n"
      ]
    },
    {
      "cell_type": "code",
      "execution_count": null,
      "metadata": {
        "collapsed": false
      },
      "outputs": [],
      "source": [
        "import spikeinterface.sorters as ss\n\nsorting_MS4 = ss.run_mountainsort4(recording)\nsorting_KL = ss.run_klusta(recording)"
      ]
    },
    {
      "cell_type": "markdown",
      "metadata": {},
      "source": [
        "Widgets using SortingComparison\n---------------------------------\n\nWe can compare the spike sorting output to the ground-truth sorting :code:`sorting_true` using the\n:code:`comparison` module. :code:`comp_MS4` and :code:`comp_KL` are :code:`SortingComparison` objects\n\n"
      ]
    },
    {
      "cell_type": "code",
      "execution_count": null,
      "metadata": {
        "collapsed": false
      },
      "outputs": [],
      "source": [
        "import spikeinterface.comparison as sc\n\ncomp_MS4 = sc.compare_sorter_to_ground_truth(sorting_true, sorting_MS4)\ncomp_KL = sc.compare_sorter_to_ground_truth(sorting_true, sorting_KL)"
      ]
    },
    {
      "cell_type": "markdown",
      "metadata": {},
      "source": [
        "plot_confusion_matrix()\n~~~~~~~~~~~~~~~~~~~~~~~~~~\n\n"
      ]
    },
    {
      "cell_type": "code",
      "execution_count": null,
      "metadata": {
        "collapsed": false
      },
      "outputs": [],
      "source": [
        "w_comp_MS4 = sw.plot_confusion_matrix(comp_MS4, count_text=False)\nw_comp_KL = sw.plot_confusion_matrix(comp_KL, count_text=False)"
      ]
    },
    {
      "cell_type": "markdown",
      "metadata": {},
      "source": [
        "plot_agreement_matrix()\n~~~~~~~~~~~~~~~~~~~~~~~~~~\n\n"
      ]
    },
    {
      "cell_type": "code",
      "execution_count": null,
      "metadata": {
        "collapsed": false
      },
      "outputs": [],
      "source": [
        "w_agr_MS4 = sw.plot_agreement_matrix(comp_MS4, count_text=False)"
      ]
    },
    {
      "cell_type": "markdown",
      "metadata": {},
      "source": [
        "plot_sorting_performance()\n~~~~~~~~~~~~~~~~~~~~~~~~~~\n\nWe can also plot a performance metric (e.g. accuracy, recall, precision) with respect to a quality metric, for\nexample signal-to-noise ratio. Quality metrics can be computed using the :code:`toolkit.validation` submodule\n\n"
      ]
    },
    {
      "cell_type": "code",
      "execution_count": null,
      "metadata": {
        "collapsed": false
      },
      "outputs": [],
      "source": [
        "import spikeinterface.toolkit as st\n\nsnrs = st.validation.compute_snrs(sorting_true, recording, save_as_property=True)\n\nw_perf = sw.plot_sorting_performance(comp_MS4, property_name='snr', metric='accuracy')"
      ]
    },
    {
      "cell_type": "markdown",
      "metadata": {},
      "source": [
        "Widgets using MultiSortingComparison\n-------------------------------------\n\nWe can also compare all three SortingExtractor objects, obtaining a :code:`MultiSortingComparison` object.\n\n"
      ]
    },
    {
      "cell_type": "code",
      "execution_count": null,
      "metadata": {
        "collapsed": false
      },
      "outputs": [],
      "source": [
        "multicomp = sc.compare_multiple_sorters([sorting_true, sorting_MS4, sorting_KL])"
      ]
    },
    {
      "cell_type": "markdown",
      "metadata": {},
      "source": [
        "plot_multicomp_graph()\n~~~~~~~~~~~~~~~~~~~~~~~~~~\n\n"
      ]
    },
    {
      "cell_type": "code",
      "execution_count": null,
      "metadata": {
        "collapsed": false
      },
      "outputs": [],
      "source": [
        "w_multi = sw.plot_multicomp_graph(multicomp, edge_cmap='coolwarm', node_cmap='viridis', draw_labels=False,\n                                  colorbar=True)"
      ]
    }
  ],
  "metadata": {
    "kernelspec": {
      "display_name": "Python 3",
      "language": "python",
      "name": "python3"
    },
    "language_info": {
      "codemirror_mode": {
        "name": "ipython",
        "version": 3
      },
      "file_extension": ".py",
      "mimetype": "text/x-python",
      "name": "python",
      "nbconvert_exporter": "python",
      "pygments_lexer": "ipython3",
      "version": "3.6.8"
    }
  },
  "nbformat": 4,
  "nbformat_minor": 0
}
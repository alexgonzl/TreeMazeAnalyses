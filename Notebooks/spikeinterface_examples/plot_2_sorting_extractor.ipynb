{
 "cells": [
  {
   "cell_type": "code",
   "execution_count": 1,
   "metadata": {
    "collapsed": false,
    "jupyter": {
     "outputs_hidden": false
    }
   },
   "outputs": [],
   "source": [
    "%matplotlib inline"
   ]
  },
  {
   "cell_type": "markdown",
   "metadata": {},
   "source": [
    "\n",
    "SortingExtractor objects\n",
    "========================\n",
    "\n",
    "The :code:`SortingExtractor` is the basic class for handling spike sorted data. Here is how it works.\n",
    "\n"
   ]
  },
  {
   "cell_type": "code",
   "execution_count": 2,
   "metadata": {
    "collapsed": false,
    "jupyter": {
     "outputs_hidden": false
    }
   },
   "outputs": [],
   "source": [
    "import numpy as np\n",
    "import spikeinterface.extractors as se"
   ]
  },
  {
   "cell_type": "markdown",
   "metadata": {},
   "source": [
    "We will create a :code:`SortingExtractor` object from scratch using :code:`numpy` and the\n",
    ":code:`NumpySortingExtractor`\n",
    "\n",
    "Let's define the properties of the dataset\n",
    "\n"
   ]
  },
  {
   "cell_type": "code",
   "execution_count": 3,
   "metadata": {
    "collapsed": false,
    "jupyter": {
     "outputs_hidden": false
    }
   },
   "outputs": [],
   "source": [
    "sampling_frequency = 30000\n",
    "duration = 20\n",
    "num_timepoints = int(sampling_frequency * duration)\n",
    "num_units = 4\n",
    "num_events = 1000"
   ]
  },
  {
   "cell_type": "markdown",
   "metadata": {},
   "source": [
    "We generate some random events.\n",
    "\n"
   ]
  },
  {
   "cell_type": "code",
   "execution_count": 4,
   "metadata": {
    "collapsed": false,
    "jupyter": {
     "outputs_hidden": false
    }
   },
   "outputs": [],
   "source": [
    "times = np.int_(np.sort(np.random.uniform(0, num_timepoints, num_events)))\n",
    "labels = np.random.randint(1, num_units + 1, size=num_events)"
   ]
  },
  {
   "cell_type": "markdown",
   "metadata": {},
   "source": [
    "And instantiate a :code:`NumpyRecordingExtractor`:\n",
    "\n"
   ]
  },
  {
   "cell_type": "code",
   "execution_count": 5,
   "metadata": {
    "collapsed": false,
    "jupyter": {
     "outputs_hidden": false
    }
   },
   "outputs": [],
   "source": [
    "sorting = se.NumpySortingExtractor()\n",
    "sorting.set_times_labels(times=times, labels=labels)\n",
    "sorting.set_sampling_frequency(sampling_frequency=sampling_frequency)"
   ]
  },
  {
   "cell_type": "markdown",
   "metadata": {},
   "source": [
    "We can now print properties that the :code:`SortingExtractor` retrieves from the underlying sorted dataset.\n",
    "\n"
   ]
  },
  {
   "cell_type": "code",
   "execution_count": 6,
   "metadata": {
    "collapsed": false,
    "jupyter": {
     "outputs_hidden": false
    }
   },
   "outputs": [
    {
     "name": "stdout",
     "output_type": "stream",
     "text": [
      "Unit ids = [1, 2, 3, 4]\n",
      "Num. events for unit 1 = 249\n",
      "Num. events for first second of unit 1 = 15\n"
     ]
    }
   ],
   "source": [
    "print('Unit ids = {}'.format(sorting.get_unit_ids()))\n",
    "st = sorting.get_unit_spike_train(unit_id=1)\n",
    "print('Num. events for unit 1 = {}'.format(len(st)))\n",
    "st1 = sorting.get_unit_spike_train(unit_id=1, start_frame=0, end_frame=30000)\n",
    "print('Num. events for first second of unit 1 = {}'.format(len(st1)))"
   ]
  },
  {
   "cell_type": "markdown",
   "metadata": {},
   "source": [
    "Some extractors also implement a :code:`write` function. We can for example save our newly created sorting into\n",
    "MDA format (Mountainsort4 format):\n",
    "\n"
   ]
  },
  {
   "cell_type": "code",
   "execution_count": 7,
   "metadata": {
    "collapsed": false,
    "jupyter": {
     "outputs_hidden": false
    }
   },
   "outputs": [],
   "source": [
    "se.MdaSortingExtractor.write_sorting(sorting=sorting, save_path='firings_true.mda')"
   ]
  },
  {
   "cell_type": "markdown",
   "metadata": {},
   "source": [
    "and read it back with the proper extractor:\n",
    "\n"
   ]
  },
  {
   "cell_type": "code",
   "execution_count": 8,
   "metadata": {
    "collapsed": false,
    "jupyter": {
     "outputs_hidden": false
    }
   },
   "outputs": [
    {
     "name": "stdout",
     "output_type": "stream",
     "text": [
      "Unit ids = [1, 2, 3, 4]\n",
      "Num. events for unit 1 = 249\n",
      "Num. events for first second of unit 1 = 15\n"
     ]
    }
   ],
   "source": [
    "sorting2 = se.MdaSortingExtractor(file_path='firings_true.mda',\n",
    "                                  sampling_frequency=sampling_frequency)\n",
    "print('Unit ids = {}'.format(sorting2.get_unit_ids()))\n",
    "st = sorting2.get_unit_spike_train(unit_id=1)\n",
    "print('Num. events for unit 1 = {}'.format(len(st)))\n",
    "st1 = sorting2.get_unit_spike_train(unit_id=1, start_frame=0, end_frame=30000)\n",
    "print('Num. events for first second of unit 1 = {}'.format(len(st1)))"
   ]
  },
  {
   "cell_type": "markdown",
   "metadata": {},
   "source": [
    "Unit properties are name value pairs that we can store for any unit. We will now calculate a unit\n",
    "property and store it in the :code:`SortingExtractor`\n",
    "\n"
   ]
  },
  {
   "cell_type": "code",
   "execution_count": 9,
   "metadata": {
    "collapsed": false,
    "jupyter": {
     "outputs_hidden": false
    }
   },
   "outputs": [
    {
     "name": "stdout",
     "output_type": "stream",
     "text": [
      "Average firing rate during the recording of unit 1 = 0.0083\n",
      "Spike property names: ['max_channel']\n"
     ]
    }
   ],
   "source": [
    "full_spike_train = sorting2.get_unit_spike_train(unit_id=1)\n",
    "firing_rate = float(len(full_spike_train)) / sorting2.get_sampling_frequency()\n",
    "sorting2.set_unit_property(unit_id=1, property_name='firing_rate', value=firing_rate)\n",
    "print('Average firing rate during the recording of unit 1 = {}'.format(sorting2.get_unit_property(unit_id=1,\n",
    "                                                                                                  property_name='firing_rate')))\n",
    "print(\"Spike property names: \" + str(sorting2.get_shared_unit_property_names()))"
   ]
  },
  {
   "cell_type": "markdown",
   "metadata": {},
   "source": [
    ":code:`SubSortingExtractor` objects can be used to extract arbitrary subsets of your units/spike trains manually\n",
    "\n"
   ]
  },
  {
   "cell_type": "code",
   "execution_count": 10,
   "metadata": {
    "collapsed": false,
    "jupyter": {
     "outputs_hidden": false
    }
   },
   "outputs": [
    {
     "name": "stdout",
     "output_type": "stream",
     "text": [
      "Num. units = 2\n",
      "Average firing rate of units1 during frames 10000-20000 = 0.0008333333333333334\n"
     ]
    }
   ],
   "source": [
    "sorting3 = se.SubSortingExtractor(parent_sorting=sorting2, unit_ids=[1, 2],\n",
    "                                  start_frame=10000, end_frame=20000)\n",
    "print('Num. units = {}'.format(len(sorting3.get_unit_ids())))\n",
    "print('Average firing rate of units1 during frames 10000-20000 = {}'.format(\n",
    "    float(len(sorting3.get_unit_spike_train(unit_id=1))) / 6000))"
   ]
  },
  {
   "cell_type": "markdown",
   "metadata": {},
   "source": [
    "Unit features are name value pairs that we can store for each spike. Let's load a randomly generated 'random_value'\n",
    "features. Features are used, for example, to store waveforms, amplitude, and PCA scores\n",
    "\n"
   ]
  },
  {
   "cell_type": "code",
   "execution_count": 11,
   "metadata": {
    "collapsed": false,
    "jupyter": {
     "outputs_hidden": false
    }
   },
   "outputs": [
    {
     "name": "stdout",
     "output_type": "stream",
     "text": [
      "Spike feature names: []\n"
     ]
    }
   ],
   "source": [
    "random_values = np.random.randn(len(sorting3.get_unit_spike_train(unit_id=1)))\n",
    "sorting3.set_unit_spike_features(unit_id=1, feature_name='random_value',\n",
    "                                 value=random_values)\n",
    "print(\"Spike feature names: \" + str(sorting3.get_shared_unit_spike_feature_names()))"
   ]
  }
 ],
 "metadata": {
  "kernelspec": {
   "display_name": "Python 3",
   "language": "python",
   "name": "python3"
  },
  "language_info": {
   "codemirror_mode": {
    "name": "ipython",
    "version": 3
   },
   "file_extension": ".py",
   "mimetype": "text/x-python",
   "name": "python",
   "nbconvert_exporter": "python",
   "pygments_lexer": "ipython3",
   "version": "3.7.0"
  }
 },
 "nbformat": 4,
 "nbformat_minor": 4
}

{
  "cells": [
    {
      "cell_type": "code",
      "execution_count": null,
      "metadata": {
        "collapsed": false
      },
      "outputs": [],
      "source": [
        "%matplotlib inline"
      ]
    },
    {
      "cell_type": "markdown",
      "metadata": {},
      "source": [
        "\nRun spike sorting by property\n=============================\n\nSometimes you may want to spike sort different electrodes separately. For example your probe can have several channel\ngroups (for example tetrodes) or you might want to spike sort different brain regions separately, In these cases, you\ncan spike sort by property.\n\n"
      ]
    },
    {
      "cell_type": "code",
      "execution_count": null,
      "metadata": {
        "collapsed": false
      },
      "outputs": [],
      "source": [
        "import spikeinterface.extractors as se\nimport spikeinterface.sorters as ss\nimport time"
      ]
    },
    {
      "cell_type": "markdown",
      "metadata": {},
      "source": [
        "Sometimes, you might want to sort your data depending on a specific\u00a0property of your recording channels.\n\u00a0\nFor example, when using multiple tetrodes, a good idea is to sort each tetrode separately. In this case, channels\nbelonging to the same tetrode will be in the same 'group'. Alternatively, for long silicon probes, such as\nNeuropixels, you could sort different areas separately, for example hippocampus and thalamus.\n\u00a0\nAll this can be done by sorting by 'property'. Properties can be loaded to the recording channels either manually\n(using the :code:`set_channel_property` method), or by using a probe file. In this example we will create a 16 channel\nrecording and split it in four channel groups (tetrodes).\n\nLet's create a toy example with 16 channels:\n\n"
      ]
    },
    {
      "cell_type": "code",
      "execution_count": null,
      "metadata": {
        "collapsed": false
      },
      "outputs": [],
      "source": [
        "recording_tetrodes, sorting_true = se.example_datasets.toy_example(duration=10, num_channels=16)"
      ]
    },
    {
      "cell_type": "markdown",
      "metadata": {},
      "source": [
        "Initially there is no group information ('location' is loaded automatically when creating toy data):\n\n"
      ]
    },
    {
      "cell_type": "code",
      "execution_count": null,
      "metadata": {
        "collapsed": false
      },
      "outputs": [],
      "source": [
        "print(recording_tetrodes.get_shared_channel_property_names())"
      ]
    },
    {
      "cell_type": "markdown",
      "metadata": {},
      "source": [
        "The file tetrode_16.prb contain the channel group description\n\n.. parsed-literal::\n\n    channel_groups = {\n        0: {\n            'channels': [0,1,2,3],\n        },\n        1: {\n            'channels': [4,5,6,7],\n        },\n        2: {\n            'channels': [8,9,10,11],\n        },\n        3: {\n            'channels': [12,13,14,15],\n        }\n    }\n\n"
      ]
    },
    {
      "cell_type": "markdown",
      "metadata": {},
      "source": [
        "We can load 'group' information using the '.prb' file:\n\n"
      ]
    },
    {
      "cell_type": "code",
      "execution_count": null,
      "metadata": {
        "collapsed": false
      },
      "outputs": [],
      "source": [
        "recording_tetrodes = recording_tetrodes.load_probe_file('tetrode_16.prb')\nprint(recording_tetrodes.get_shared_channel_property_names())"
      ]
    },
    {
      "cell_type": "markdown",
      "metadata": {},
      "source": [
        "We can now use the launcher to spike sort by the property 'group'. The different groups can also be sorted in\nparallel, and the output sorting extractor will have the same property used for sorting. Running in parallel\n(in separate threads) can speed up the computations.\n\nLet's first run the four channel groups sequentially:\n\n"
      ]
    },
    {
      "cell_type": "code",
      "execution_count": null,
      "metadata": {
        "collapsed": false
      },
      "outputs": [],
      "source": [
        "t_start = time.time()\nsorting_tetrodes = ss.run_sorter('klusta', recording_tetrodes, output_folder='tmp_tetrodes',\n                                 grouping_property='group', parallel=False, verbose=False)\nprint('Elapsed time: ', time.time() - t_start)"
      ]
    },
    {
      "cell_type": "markdown",
      "metadata": {},
      "source": [
        "then in parallel:\n\n"
      ]
    },
    {
      "cell_type": "code",
      "execution_count": null,
      "metadata": {
        "collapsed": false
      },
      "outputs": [],
      "source": [
        "t_start = time.time()\nsorting_tetrodes_p = ss.run_sorter('klusta', recording_tetrodes, output_folder='tmp_tetrodes_par',\n                                   grouping_property='group', parallel=True, verbose=False)\nprint('Elapsed time parallel: ', time.time() - t_start)"
      ]
    },
    {
      "cell_type": "markdown",
      "metadata": {},
      "source": [
        "The units of the sorted output will have the same property used for spike sorting:\n\n"
      ]
    },
    {
      "cell_type": "code",
      "execution_count": null,
      "metadata": {
        "collapsed": false
      },
      "outputs": [],
      "source": [
        "print(sorting_tetrodes.get_shared_unit_property_names())"
      ]
    },
    {
      "cell_type": "markdown",
      "metadata": {},
      "source": [
        "Note that channels can be split by any property. Let's for example assume that half of the tetrodes are in hippocampus\nCA1 region, and the other half is in CA3. first we have to load this property (this can be done also from the '.prb'\nfile):\n\n"
      ]
    },
    {
      "cell_type": "code",
      "execution_count": null,
      "metadata": {
        "collapsed": false
      },
      "outputs": [],
      "source": [
        "for ch in recording_tetrodes.get_channel_ids()[:int(recording_tetrodes.get_num_channels() / 2)]:\n    recording_tetrodes.set_channel_property(ch, property_name='region', value='CA1')\n\nfor ch in recording_tetrodes.get_channel_ids()[int(recording_tetrodes.get_num_channels() / 2):]:\n    recording_tetrodes.set_channel_property(ch, property_name='region', value='CA3')\n\nfor ch in recording_tetrodes.get_channel_ids():\n    print(recording_tetrodes.get_channel_property(ch, property_name='region'))"
      ]
    },
    {
      "cell_type": "markdown",
      "metadata": {},
      "source": [
        "Now let's spike sort by 'region' and check that the units of the sorted output have this property:\n\n"
      ]
    },
    {
      "cell_type": "code",
      "execution_count": null,
      "metadata": {
        "collapsed": false
      },
      "outputs": [],
      "source": [
        "sorting_regions = ss.run_sorter('klusta', recording_tetrodes, output_folder='tmp_regions',\n                                grouping_property='region', parallel=True)\n\nprint(sorting_regions.get_shared_unit_property_names())"
      ]
    }
  ],
  "metadata": {
    "kernelspec": {
      "display_name": "Python 3",
      "language": "python",
      "name": "python3"
    },
    "language_info": {
      "codemirror_mode": {
        "name": "ipython",
        "version": 3
      },
      "file_extension": ".py",
      "mimetype": "text/x-python",
      "name": "python",
      "nbconvert_exporter": "python",
      "pygments_lexer": "ipython3",
      "version": "3.6.8"
    }
  },
  "nbformat": 4,
  "nbformat_minor": 0
}
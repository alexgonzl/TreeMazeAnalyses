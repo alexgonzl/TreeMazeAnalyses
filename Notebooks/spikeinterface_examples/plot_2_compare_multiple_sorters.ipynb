{
  "cells": [
    {
      "cell_type": "code",
      "execution_count": null,
      "metadata": {
        "collapsed": false
      },
      "outputs": [],
      "source": [
        "%matplotlib inline"
      ]
    },
    {
      "cell_type": "markdown",
      "metadata": {},
      "source": [
        "\nCompare multiple sorters and consensus based method\n====================================================\n\nWith 3 or more spike sorters, the comparison is implemented with a\ngraph-based method. The multiple sorter comparison also allows to clean\nthe output by applying a consensus-based method which only selects spike\ntrains and spikes in agreement with multiple sorters.\n\n\n"
      ]
    },
    {
      "cell_type": "markdown",
      "metadata": {},
      "source": [
        "Import\n\n"
      ]
    },
    {
      "cell_type": "code",
      "execution_count": null,
      "metadata": {
        "collapsed": false
      },
      "outputs": [],
      "source": [
        "import numpy as np\nimport matplotlib.pyplot as plt\n\nimport spikeinterface.extractors as se\nimport spikeinterface.sorters as sorters\nimport spikeinterface.comparison as sc\nimport spikeinterface.widgets as sw"
      ]
    },
    {
      "cell_type": "markdown",
      "metadata": {},
      "source": [
        "First, let's create a toy example:\n\n"
      ]
    },
    {
      "cell_type": "code",
      "execution_count": null,
      "metadata": {
        "collapsed": false
      },
      "outputs": [],
      "source": [
        "recording, sorting = se.example_datasets.toy_example(num_channels=4, duration=20, seed=0)"
      ]
    },
    {
      "cell_type": "markdown",
      "metadata": {},
      "source": [
        "Then run 3 spike sorters and compare their ouput.\n\n"
      ]
    },
    {
      "cell_type": "code",
      "execution_count": null,
      "metadata": {
        "collapsed": false
      },
      "outputs": [],
      "source": [
        "sorting_KL = sorters.run_klusta(recording)\nsorting_MS4 = sorters.run_mountainsort4(recording)\nsorting_TDC = sorters.run_tridesclous(recording)"
      ]
    },
    {
      "cell_type": "markdown",
      "metadata": {},
      "source": [
        "Compare multiple spike sorter outputs\n-------------------------------------------\n\n"
      ]
    },
    {
      "cell_type": "code",
      "execution_count": null,
      "metadata": {
        "collapsed": false
      },
      "outputs": [],
      "source": [
        "mcmp = sc.compare_multiple_sorters(sorting_list=[sorting_KL, sorting_MS4, sorting_TDC],\n                                   name_list=['KL', 'MS4', 'TDC'], verbose=True)"
      ]
    },
    {
      "cell_type": "markdown",
      "metadata": {},
      "source": [
        "The multiple sorters comparison internally computes pairwise comparison,\nthat can be accessed as follows:\n\n"
      ]
    },
    {
      "cell_type": "code",
      "execution_count": null,
      "metadata": {
        "collapsed": false
      },
      "outputs": [],
      "source": [
        "print(mcmp.comparisons[0].sorting1, mcmp.comparisons[0].sorting2)\nmcmp.comparisons[0].get_mapped_sorting1().get_mapped_unit_ids()"
      ]
    },
    {
      "cell_type": "code",
      "execution_count": null,
      "metadata": {
        "collapsed": false
      },
      "outputs": [],
      "source": [
        "print(mcmp.comparisons[1].sorting1, mcmp.comparisons[1].sorting2)\nmcmp.comparisons[0].get_mapped_sorting1().get_mapped_unit_ids()"
      ]
    },
    {
      "cell_type": "markdown",
      "metadata": {},
      "source": [
        "The global multi comparison can be visualized with this graph\n\n"
      ]
    },
    {
      "cell_type": "code",
      "execution_count": null,
      "metadata": {
        "collapsed": false
      },
      "outputs": [],
      "source": [
        "sw.plot_multicomp_graph(mcmp)"
      ]
    },
    {
      "cell_type": "markdown",
      "metadata": {},
      "source": [
        "We can see that there is a better agreement between tridesclous and\n\u00a0mountainsort (5 units matched), while klusta only has two matched units\n\u00a0with tridesclous, and three with mountainsort.\n\n"
      ]
    },
    {
      "cell_type": "markdown",
      "metadata": {},
      "source": [
        "Consensus-based method\n---------------------------\n\u00a0\nWe can pull the units in agreement with different sorters using the\n:code:`get_agreement_sorting` method. This allows to make spike sorting more\nrobust by integrating the output of several algorithms. On the other\nhand, it might suffer from weak performance of single algorithms.\n\u00a0\nWhen extracting the units in agreement, the spike trains are modified so\nthat only the true positive spikes between the comparison with the best\nmatch are used.\n\n"
      ]
    },
    {
      "cell_type": "code",
      "execution_count": null,
      "metadata": {
        "collapsed": false
      },
      "outputs": [],
      "source": [
        "agr_3 = mcmp.get_agreement_sorting(minimum_matching=3)\nprint('Units in agreement for all three sorters: ', agr_3.get_unit_ids())"
      ]
    },
    {
      "cell_type": "code",
      "execution_count": null,
      "metadata": {
        "collapsed": false
      },
      "outputs": [],
      "source": [
        "agr_2 = mcmp.get_agreement_sorting(minimum_matching=2)\nprint('Units in agreement for at least two sorters: ', agr_2.get_unit_ids())"
      ]
    },
    {
      "cell_type": "code",
      "execution_count": null,
      "metadata": {
        "collapsed": false
      },
      "outputs": [],
      "source": [
        "agr_all = mcmp.get_agreement_sorting()"
      ]
    },
    {
      "cell_type": "markdown",
      "metadata": {},
      "source": [
        "The unit index of the different sorters can also be retrieved from the\nagreement sorting object (:code:`agr_3`) property :code:`sorter_unit_ids`.\n\n"
      ]
    },
    {
      "cell_type": "code",
      "execution_count": null,
      "metadata": {
        "collapsed": false
      },
      "outputs": [],
      "source": [
        "print(agr_3.get_shared_unit_property_names())"
      ]
    },
    {
      "cell_type": "code",
      "execution_count": null,
      "metadata": {
        "collapsed": false
      },
      "outputs": [],
      "source": [
        "print(agr_3.get_unit_ids())\n# take one unit in agreement\nu = agr_3.get_unit_ids()[0]\nprint(agr_3.get_unit_property(u, 'sorter_unit_ids'))"
      ]
    },
    {
      "cell_type": "markdown",
      "metadata": {},
      "source": [
        "Now that we found our unit, we can plot a rasters with the spike trains\nof the single sorters and the one from the consensus based method. When\nextracting the agreement sorting, spike trains are cleaned so that only\ntrue positives remain from the comparison with the largest agreement are\nkept. Let\u2019s take a look at the raster plots for the different sorters\nand the agreement sorter:\n\n"
      ]
    },
    {
      "cell_type": "code",
      "execution_count": null,
      "metadata": {
        "collapsed": false
      },
      "outputs": [],
      "source": [
        "d = agr_3.get_unit_property(u, 'sorter_unit_ids')\nst0 = sorting_KL.get_unit_spike_train(d['KL'])\nst1 = sorting_MS4.get_unit_spike_train(d['MS4'])\nst2 = sorting_TDC.get_unit_spike_train(d['TDC'])\nst3 = agr_3.get_unit_spike_train(u)\n\nfig, ax = plt.subplots()\nax.plot(st0, 0 * np.ones(st0.size), '|')\nax.plot(st1, 1 * np.ones(st1.size), '|')\nax.plot(st2, 2 * np.ones(st2.size), '|')\nax.plot(st3, 3 * np.ones(st3.size), '|')\n\nprint('Klusta spike train length', st0.size)\nprint('Mountainsort spike train length', st1.size)\nprint('Tridesclous spike train length', st2.size)\nprint('Agreement spike train length', st3.size)"
      ]
    },
    {
      "cell_type": "markdown",
      "metadata": {},
      "source": [
        "As we can see, the best match is between Mountainsort and Tridesclous,\nbut only the true positive spikes make up the agreement spike train.\n\n"
      ]
    },
    {
      "cell_type": "code",
      "execution_count": null,
      "metadata": {
        "collapsed": false
      },
      "outputs": [],
      "source": [
        "plt.show()"
      ]
    }
  ],
  "metadata": {
    "kernelspec": {
      "display_name": "Python 3",
      "language": "python",
      "name": "python3"
    },
    "language_info": {
      "codemirror_mode": {
        "name": "ipython",
        "version": 3
      },
      "file_extension": ".py",
      "mimetype": "text/x-python",
      "name": "python",
      "nbconvert_exporter": "python",
      "pygments_lexer": "ipython3",
      "version": "3.6.8"
    }
  },
  "nbformat": 4,
  "nbformat_minor": 0
}
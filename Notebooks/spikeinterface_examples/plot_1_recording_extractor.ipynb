{
 "cells": [
  {
   "cell_type": "code",
   "execution_count": 1,
   "metadata": {
    "collapsed": false,
    "jupyter": {
     "outputs_hidden": false
    }
   },
   "outputs": [],
   "source": [
    "%matplotlib inline"
   ]
  },
  {
   "cell_type": "markdown",
   "metadata": {},
   "source": [
    "\n",
    "RecordingExtractor objects\n",
    "==========================\n",
    "\n",
    "The :code:`RecordingExtractor` is the basic class for handling recorded data. Here is how it works.\n",
    "\n"
   ]
  },
  {
   "cell_type": "code",
   "execution_count": 2,
   "metadata": {
    "collapsed": false,
    "jupyter": {
     "outputs_hidden": false
    }
   },
   "outputs": [],
   "source": [
    "import numpy as np\n",
    "import spikeinterface.extractors as se"
   ]
  },
  {
   "cell_type": "markdown",
   "metadata": {},
   "source": [
    "We will create a :code:`RecordingExtractor` object from scratch using :code:`numpy` and the\n",
    ":code:`NumpyRecordingExtractor`\n",
    "\n",
    "Let's define the properties of the dataset\n",
    "\n"
   ]
  },
  {
   "cell_type": "code",
   "execution_count": 3,
   "metadata": {
    "collapsed": false,
    "jupyter": {
     "outputs_hidden": false
    }
   },
   "outputs": [],
   "source": [
    "num_channels = 7\n",
    "sampling_frequency = 30000  # in Hz\n",
    "duration = 20\n",
    "num_timepoints = int(sampling_frequency * duration)"
   ]
  },
  {
   "cell_type": "markdown",
   "metadata": {},
   "source": [
    "We can generate a pure-noise timeseries dataset recorded by a linear probe geometry\n",
    "\n"
   ]
  },
  {
   "cell_type": "code",
   "execution_count": 5,
   "metadata": {
    "collapsed": false,
    "jupyter": {
     "outputs_hidden": false
    }
   },
   "outputs": [],
   "source": [
    "timeseries = np.random.normal(0, 10, (num_channels, num_timepoints))\n",
    "geom = np.zeros((num_channels, 2))\n",
    "geom[:, 0] = range(num_channels)"
   ]
  },
  {
   "cell_type": "markdown",
   "metadata": {},
   "source": [
    "And instantiate a :code:`NumpyRecordingExtractor`:\n",
    "\n"
   ]
  },
  {
   "cell_type": "code",
   "execution_count": 7,
   "metadata": {
    "collapsed": false,
    "jupyter": {
     "outputs_hidden": false
    }
   },
   "outputs": [],
   "source": [
    "recording = se.NumpyRecordingExtractor(timeseries=timeseries, geom=geom, sampling_frequency=sampling_frequency)"
   ]
  },
  {
   "cell_type": "markdown",
   "metadata": {},
   "source": [
    "We can now print properties that the :code:`RecordingExtractor` retrieves from the underlying recording.\n",
    "\n"
   ]
  },
  {
   "cell_type": "code",
   "execution_count": 8,
   "metadata": {
    "collapsed": false,
    "jupyter": {
     "outputs_hidden": false
    }
   },
   "outputs": [
    {
     "name": "stdout",
     "output_type": "stream",
     "text": [
      "Num. channels = 7\n",
      "Sampling frequency = 30000.0 Hz\n",
      "Num. timepoints = 600000\n",
      "Stdev. on third channel = 9.994705622099628\n",
      "Location of third electrode = [2. 0.]\n"
     ]
    }
   ],
   "source": [
    "print('Num. channels = {}'.format(len(recording.get_channel_ids())))\n",
    "print('Sampling frequency = {} Hz'.format(recording.get_sampling_frequency()))\n",
    "print('Num. timepoints = {}'.format(recording.get_num_frames()))\n",
    "print('Stdev. on third channel = {}'.format(np.std(recording.get_traces(channel_ids=2))))\n",
    "print('Location of third electrode = {}'.format(recording.get_channel_property(channel_id=2, property_name='location')))"
   ]
  },
  {
   "cell_type": "markdown",
   "metadata": {},
   "source": [
    "Some extractors also implement a :code:`write` function. We can for example save our newly created recording into\n",
    "MDA format (Mountainsort4 format):\n",
    "\n"
   ]
  },
  {
   "cell_type": "code",
   "execution_count": 9,
   "metadata": {
    "collapsed": false,
    "jupyter": {
     "outputs_hidden": false
    }
   },
   "outputs": [],
   "source": [
    "se.MdaRecordingExtractor.write_recording(recording=recording, save_path='sample_mountainsort_dataset')"
   ]
  },
  {
   "cell_type": "markdown",
   "metadata": {},
   "source": [
    "and read it back with the proper extractor:\n",
    "\n"
   ]
  },
  {
   "cell_type": "code",
   "execution_count": 10,
   "metadata": {
    "collapsed": false,
    "jupyter": {
     "outputs_hidden": false
    }
   },
   "outputs": [
    {
     "name": "stdout",
     "output_type": "stream",
     "text": [
      "Num. channels = 7\n",
      "Sampling frequency = 30000.0 Hz\n",
      "Num. timepoints = 600000\n",
      "Stdev. on third channel = 9.994706153869629\n",
      "Location of third electrode = [2. 0.]\n"
     ]
    }
   ],
   "source": [
    "recording2 = se.MdaRecordingExtractor(folder_path='sample_mountainsort_dataset')\n",
    "print('Num. channels = {}'.format(len(recording2.get_channel_ids())))\n",
    "print('Sampling frequency = {} Hz'.format(recording2.get_sampling_frequency()))\n",
    "print('Num. timepoints = {}'.format(recording2.get_num_frames()))\n",
    "print('Stdev. on third channel = {}'.format(np.std(recording2.get_traces(channel_ids=2))))\n",
    "print('Location of third electrode = {}'.format(recording.get_channel_property(channel_id=2, property_name='location')))"
   ]
  },
  {
   "cell_type": "markdown",
   "metadata": {},
   "source": [
    "Sometimes experiments are run with different conditions, e.g. a drug is applied, or stimulation is performed. \n",
    "In order to define different phases of an experiment, one can use epochs:\n",
    "\n"
   ]
  },
  {
   "cell_type": "code",
   "execution_count": 11,
   "metadata": {
    "collapsed": false,
    "jupyter": {
     "outputs_hidden": false
    }
   },
   "outputs": [
    {
     "data": {
      "text/plain": [
       "['pre_stimulation', 'stimulation', 'post_stimulation']"
      ]
     },
     "execution_count": 11,
     "metadata": {},
     "output_type": "execute_result"
    }
   ],
   "source": [
    "recording2.add_epoch(epoch_name='stimulation', start_frame=1000, end_frame=6000)\n",
    "recording2.add_epoch(epoch_name='post_stimulation', start_frame=6000, end_frame=10000)\n",
    "recording2.add_epoch(epoch_name='pre_stimulation', start_frame=0, end_frame=1000)\n",
    "\n",
    "recording2.get_epoch_names()"
   ]
  },
  {
   "cell_type": "markdown",
   "metadata": {},
   "source": [
    "An Epoch can be retrieved and it is returned as a :code:`SubRecordingExtractor`, which is a subclass of the\n",
    ":code:`RecordingExtractor`, hence maintaining the same functionality.\n",
    "\n"
   ]
  },
  {
   "cell_type": "code",
   "execution_count": 12,
   "metadata": {
    "collapsed": false,
    "jupyter": {
     "outputs_hidden": false
    }
   },
   "outputs": [
    {
     "name": "stdout",
     "output_type": "stream",
     "text": [
      "Epoch Name = stimulation\n",
      "Start Frame = 1000\n",
      "End Frame = 6000\n",
      "Mean. on second channel during stimulation = -0.007983386516571045\n",
      "Location of third electrode = [2. 0.]\n"
     ]
    }
   ],
   "source": [
    "recording3 = recording2.get_epoch(epoch_name='stimulation')\n",
    "epoch_info = recording2.get_epoch_info('stimulation')\n",
    "start_frame = epoch_info['start_frame']\n",
    "end_frame = epoch_info['end_frame']\n",
    "\n",
    "print('Epoch Name = stimulation')\n",
    "print('Start Frame = {}'.format(start_frame))\n",
    "print('End Frame = {}'.format(end_frame))\n",
    "print('Mean. on second channel during stimulation = {}'.format(np.mean(recording3.get_traces(channel_ids=1))))\n",
    "print('Location of third electrode = {}'.format(recording.get_channel_property(channel_id=2, property_name='location')))"
   ]
  },
  {
   "cell_type": "markdown",
   "metadata": {},
   "source": [
    ":code:`SubRecordingExtractor` objects can be used to extract arbitrary subsets of your data/channels manually without\n",
    "epoch functionality:\n",
    "\n"
   ]
  },
  {
   "cell_type": "code",
   "execution_count": 13,
   "metadata": {
    "collapsed": false,
    "jupyter": {
     "outputs_hidden": false
    }
   },
   "outputs": [
    {
     "name": "stdout",
     "output_type": "stream",
     "text": [
      "Num. channels = 4\n",
      "Sampling frequency = 30000.0 Hz\n",
      "Num. timepoints = 2000\n",
      "Stdev. on third channel = 10.044038772583008\n",
      "Location of third electrode = [2. 0.]\n"
     ]
    }
   ],
   "source": [
    "recording4 = se.SubRecordingExtractor(parent_recording=recording2, channel_ids=[2, 3, 4, 5], start_frame=14000,\n",
    "                                      end_frame=16000)\n",
    "\n",
    "print('Num. channels = {}'.format(len(recording4.get_channel_ids())))\n",
    "print('Sampling frequency = {} Hz'.format(recording4.get_sampling_frequency()))\n",
    "print('Num. timepoints = {}'.format(recording4.get_num_frames()))\n",
    "print('Stdev. on third channel = {}'.format(np.std(recording4.get_traces(channel_ids=2))))\n",
    "print(\n",
    "    'Location of third electrode = {}'.format(recording4.get_channel_property(channel_id=2, property_name='location')))"
   ]
  },
  {
   "cell_type": "markdown",
   "metadata": {},
   "source": [
    "or to remap the channel ids:\n",
    "\n"
   ]
  },
  {
   "cell_type": "code",
   "execution_count": 14,
   "metadata": {
    "collapsed": false,
    "jupyter": {
     "outputs_hidden": false
    }
   },
   "outputs": [
    {
     "name": "stdout",
     "output_type": "stream",
     "text": [
      "New ids = [0, 1, 2, 3]\n",
      "Original ids = [2, 3, 4, 5]\n",
      "Num. channels = 4\n",
      "Sampling frequency = 30000.0 Hz\n",
      "Num. timepoints = 2000\n",
      "Stdev. on third channel = 10.044038772583008\n",
      "Location of third electrode = [2. 0.]\n"
     ]
    }
   ],
   "source": [
    "recording5 = se.SubRecordingExtractor(parent_recording=recording2, channel_ids=[2, 3, 4, 5],\n",
    "                                      renamed_channel_ids=[0, 1, 2, 3],\n",
    "                                      start_frame=14000, end_frame=16000)\n",
    "print('New ids = {}'.format(recording5.get_channel_ids()))\n",
    "print('Original ids = {}'.format(recording5.get_original_channel_ids([0, 1, 2, 3])))\n",
    "print('Num. channels = {}'.format(len(recording5.get_channel_ids())))\n",
    "print('Sampling frequency = {} Hz'.format(recording5.get_sampling_frequency()))\n",
    "print('Num. timepoints = {}'.format(recording5.get_num_frames()))\n",
    "print('Stdev. on third channel = {}'.format(np.std(recording5.get_traces(channel_ids=0))))\n",
    "print(\n",
    "    'Location of third electrode = {}'.format(recording5.get_channel_property(channel_id=0, property_name='location')))"
   ]
  }
 ],
 "metadata": {
  "kernelspec": {
   "display_name": "Python 3",
   "language": "python",
   "name": "python3"
  },
  "language_info": {
   "codemirror_mode": {
    "name": "ipython",
    "version": 3
   },
   "file_extension": ".py",
   "mimetype": "text/x-python",
   "name": "python",
   "nbconvert_exporter": "python",
   "pygments_lexer": "ipython3",
   "version": "3.7.0"
  }
 },
 "nbformat": 4,
 "nbformat_minor": 4
}

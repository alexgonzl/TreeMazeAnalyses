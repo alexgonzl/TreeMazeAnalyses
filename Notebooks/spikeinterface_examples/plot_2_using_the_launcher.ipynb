{
  "cells": [
    {
      "cell_type": "code",
      "execution_count": null,
      "metadata": {
        "collapsed": false
      },
      "outputs": [],
      "source": [
        "%matplotlib inline"
      ]
    },
    {
      "cell_type": "markdown",
      "metadata": {},
      "source": [
        "\nUse the spike sorting launcher\n==============================\n\nThis example shows how to use the spike sorting launcher. The launcher allows to parameterize the sorter name and\nto run several sorters on one or multiple recordings.\n\n\n"
      ]
    },
    {
      "cell_type": "code",
      "execution_count": null,
      "metadata": {
        "collapsed": false
      },
      "outputs": [],
      "source": [
        "import spikeinterface.extractors as se\nimport spikeinterface.sorters as ss"
      ]
    },
    {
      "cell_type": "markdown",
      "metadata": {},
      "source": [
        "First, let's create the usueal toy example:\n\n"
      ]
    },
    {
      "cell_type": "code",
      "execution_count": null,
      "metadata": {
        "collapsed": false
      },
      "outputs": [],
      "source": [
        "recording, sorting_true = se.example_datasets.toy_example(duration=10, seed=0)"
      ]
    },
    {
      "cell_type": "markdown",
      "metadata": {},
      "source": [
        "The launcher enables to call any spike sorter with the same functions:  :code:`run_sorter` and :code:`run_sorters`.\nFor running multiple sorters on the same recording extractor or a collection of them, the :code:`run_sorters`\nfunction can be used.\n\nLet's first see how to run a single sorter, for example, Klusta:\n\n"
      ]
    },
    {
      "cell_type": "code",
      "execution_count": null,
      "metadata": {
        "collapsed": false
      },
      "outputs": [],
      "source": [
        "# The sorter name can be now a parameter, e.g. chosen with a command line interface or a GUI\nsorter_name = 'klusta'\nsorting_KL = ss.run_sorter(sorter_name_or_class='klusta', recording=recording, output_folder='my_sorter_output')\nprint(sorting_KL.get_unit_ids())"
      ]
    },
    {
      "cell_type": "markdown",
      "metadata": {},
      "source": [
        "This will launch the klusta sorter on the recording object.\n\nYou can also run multiple sorters on the same recording:\n\n"
      ]
    },
    {
      "cell_type": "code",
      "execution_count": null,
      "metadata": {
        "collapsed": false
      },
      "outputs": [],
      "source": [
        "recording_list = [recording]\nsorter_list = ['klusta', 'mountainsort4', 'tridesclous']\nsorting_output = ss.run_sorters(sorter_list, recording_list, working_folder='tmp_some_sorters', mode='overwrite')"
      ]
    },
    {
      "cell_type": "markdown",
      "metadata": {},
      "source": [
        "The 'mode' argument allows to 'overwrite' the 'working_folder' (if existing), 'raise' and Exception, or 'keep' the\nfolder and skip the spike sorting run.\n\nTo 'sorting_output' is a dictionary that has (recording, sorter) pairs as keys and the correspondent\n:code:`SortingExtractor` as values. It can be accessed as follows:\n\n"
      ]
    },
    {
      "cell_type": "code",
      "execution_count": null,
      "metadata": {
        "collapsed": false
      },
      "outputs": [],
      "source": [
        "for (rec, sorter), sort in sorting_output.items():\n    print(rec, sorter, ':', sort.get_unit_ids())"
      ]
    },
    {
      "cell_type": "markdown",
      "metadata": {},
      "source": [
        "With the same mechanism, you can run several spike sorters on many recordings, just by creating a list of\n:code:`RecordingExtractor` objects (:code:`recording_list`).\n\n"
      ]
    }
  ],
  "metadata": {
    "kernelspec": {
      "display_name": "Python 3",
      "language": "python",
      "name": "python3"
    },
    "language_info": {
      "codemirror_mode": {
        "name": "ipython",
        "version": 3
      },
      "file_extension": ".py",
      "mimetype": "text/x-python",
      "name": "python",
      "nbconvert_exporter": "python",
      "pygments_lexer": "ipython3",
      "version": "3.6.8"
    }
  },
  "nbformat": 4,
  "nbformat_minor": 0
}
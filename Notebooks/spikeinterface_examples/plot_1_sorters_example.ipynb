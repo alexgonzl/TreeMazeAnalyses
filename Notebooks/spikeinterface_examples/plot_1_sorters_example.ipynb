{
  "cells": [
    {
      "cell_type": "code",
      "execution_count": null,
      "metadata": {
        "collapsed": false
      },
      "outputs": [],
      "source": [
        "%matplotlib inline"
      ]
    },
    {
      "cell_type": "markdown",
      "metadata": {},
      "source": [
        "\nRun spike sorting algorithms\n============================\n\nThis example shows the basic usage of the :code:`sorters` module of :code:`spikeinterface`\n\n"
      ]
    },
    {
      "cell_type": "code",
      "execution_count": null,
      "metadata": {
        "collapsed": false
      },
      "outputs": [],
      "source": [
        "import spikeinterface.extractors as se\nimport spikeinterface.sorters as ss"
      ]
    },
    {
      "cell_type": "markdown",
      "metadata": {},
      "source": [
        "First, let's create a toy example:\n\n"
      ]
    },
    {
      "cell_type": "code",
      "execution_count": null,
      "metadata": {
        "collapsed": false
      },
      "outputs": [],
      "source": [
        "recording, sorting_true = se.example_datasets.toy_example(duration=10, seed=0)"
      ]
    },
    {
      "cell_type": "markdown",
      "metadata": {},
      "source": [
        "Check available sorters\n--------------------------\n\n\n"
      ]
    },
    {
      "cell_type": "code",
      "execution_count": null,
      "metadata": {
        "collapsed": false
      },
      "outputs": [],
      "source": [
        "print(ss.available_sorters())"
      ]
    },
    {
      "cell_type": "markdown",
      "metadata": {},
      "source": [
        "This will list the sorters installed in the machine. Each spike sorter\nis implemented in a class. To access the class names you can run:\n\n"
      ]
    },
    {
      "cell_type": "code",
      "execution_count": null,
      "metadata": {
        "collapsed": false
      },
      "outputs": [],
      "source": [
        "print(ss.installed_sorter_list)"
      ]
    },
    {
      "cell_type": "markdown",
      "metadata": {},
      "source": [
        "Change sorter parameters\n-----------------------------------\n\n\n"
      ]
    },
    {
      "cell_type": "code",
      "execution_count": null,
      "metadata": {
        "collapsed": false
      },
      "outputs": [],
      "source": [
        "default_ms4_params = ss.Mountainsort4Sorter.default_params()\nprint(default_ms4_params)"
      ]
    },
    {
      "cell_type": "markdown",
      "metadata": {},
      "source": [
        "Parameters can be changed either by passing a full dictionary, or by\npassing single arguments.\n\n"
      ]
    },
    {
      "cell_type": "code",
      "execution_count": null,
      "metadata": {
        "collapsed": false
      },
      "outputs": [],
      "source": [
        "# Mountainsort4 spike sorting\ndefault_ms4_params['detect_threshold'] = 4\ndefault_ms4_params['curation'] = False\n\n# parameters set by params dictionary\nsorting_MS4 = ss.run_mountainsort4(recording=recording, **default_ms4_params,\n                                   output_folder='tmp_MS4')"
      ]
    },
    {
      "cell_type": "code",
      "execution_count": null,
      "metadata": {
        "collapsed": false
      },
      "outputs": [],
      "source": [
        "# parameters set by params dictionary\nsorting_MS4_10 = ss.run_mountainsort4(recording=recording, detect_threshold=10,\n                                      output_folder='tmp_MS4')"
      ]
    },
    {
      "cell_type": "code",
      "execution_count": null,
      "metadata": {
        "collapsed": false
      },
      "outputs": [],
      "source": [
        "print('Units found with threshold = 4:', sorting_MS4.get_unit_ids())\nprint('Units found with threshold = 10:', sorting_MS4_10.get_unit_ids())"
      ]
    },
    {
      "cell_type": "markdown",
      "metadata": {},
      "source": [
        "Run other sorters\n------------------\n\n"
      ]
    },
    {
      "cell_type": "code",
      "execution_count": null,
      "metadata": {
        "collapsed": false
      },
      "outputs": [],
      "source": [
        "# SpyKING Circus spike sorting\n# sorting_SC = ss.run_spykingcircus(recording, output_folder='tmp_SC')\n# print('Units found with Spyking Circus:', sorting_SC.get_unit_ids())"
      ]
    },
    {
      "cell_type": "code",
      "execution_count": null,
      "metadata": {
        "collapsed": false
      },
      "outputs": [],
      "source": [
        "# KiloSort spike sorting (KILOSORT_PATH and NPY_MATLAB_PATH can be set as environment variables)\n# sorting_KS = ss.run_kilosort(recording, output_folder='tmp_KS')\n# \u00a0print('Units found with Kilosort:', sorting_KS.get_unit_ids())"
      ]
    },
    {
      "cell_type": "code",
      "execution_count": null,
      "metadata": {
        "collapsed": false
      },
      "outputs": [],
      "source": [
        "# Kilosort2 spike sorting (KILOSORT2_PATH and NPY_MATLAB_PATH can be set as environment variables)\n# sorting_KS2 = ss.run_kilosort2(recording, output_folder='tmp_KS2')\n# \u00a0print('Units found with Kilosort2', sorting_KS2.get_unit_ids())"
      ]
    },
    {
      "cell_type": "code",
      "execution_count": null,
      "metadata": {
        "collapsed": false
      },
      "outputs": [],
      "source": [
        "# Klusta spike sorting\n# \u00a0sorting_KL = ss.run_klusta(recording, output_folder='tmp_KL')\n# print('Units found with Klusta:', sorting_KL.get_unit_ids())"
      ]
    },
    {
      "cell_type": "code",
      "execution_count": null,
      "metadata": {
        "collapsed": false
      },
      "outputs": [],
      "source": [
        "# IronClust spike sorting (IRONCLUST_PATH can be set as environment variables)\n# sorting_IC = ss.run_ironclust(recording, output_folder='tmp_IC')\n# print('Units found with Ironclust:', sorting_IC.get_unit_ids())"
      ]
    },
    {
      "cell_type": "code",
      "execution_count": null,
      "metadata": {
        "collapsed": false
      },
      "outputs": [],
      "source": [
        "# Tridesclous spike sorting\n# sorting_TDC = ss.run_tridesclous(recording, output_folder='tmp_TDC')\n# print('Units found with Tridesclous:', sorting_TDC.get_unit_ids())"
      ]
    }
  ],
  "metadata": {
    "kernelspec": {
      "display_name": "Python 3",
      "language": "python",
      "name": "python3"
    },
    "language_info": {
      "codemirror_mode": {
        "name": "ipython",
        "version": 3
      },
      "file_extension": ".py",
      "mimetype": "text/x-python",
      "name": "python",
      "nbconvert_exporter": "python",
      "pygments_lexer": "ipython3",
      "version": "3.6.8"
    }
  },
  "nbformat": 4,
  "nbformat_minor": 0
}
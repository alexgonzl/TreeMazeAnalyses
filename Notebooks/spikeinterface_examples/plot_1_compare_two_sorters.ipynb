{
  "cells": [
    {
      "cell_type": "code",
      "execution_count": null,
      "metadata": {
        "collapsed": false
      },
      "outputs": [],
      "source": [
        "%matplotlib inline"
      ]
    },
    {
      "cell_type": "markdown",
      "metadata": {},
      "source": [
        "\nCompare two sorters\n====================\n\nThis example show how to compare the result of two sorters.\n\n\n"
      ]
    },
    {
      "cell_type": "markdown",
      "metadata": {},
      "source": [
        "Import\n\n"
      ]
    },
    {
      "cell_type": "code",
      "execution_count": null,
      "metadata": {
        "collapsed": false
      },
      "outputs": [],
      "source": [
        "import numpy as np\nimport matplotlib.pyplot as plt\n\nimport spikeinterface.extractors as se\nimport spikeinterface.sorters as sorters\nimport spikeinterface.comparison as sc\nimport spikeinterface.widgets as sw"
      ]
    },
    {
      "cell_type": "markdown",
      "metadata": {},
      "source": [
        "First, let's create a toy example:\n\n"
      ]
    },
    {
      "cell_type": "code",
      "execution_count": null,
      "metadata": {
        "collapsed": false
      },
      "outputs": [],
      "source": [
        "recording, sorting = se.example_datasets.toy_example(num_channels=4, duration=10, seed=0)"
      ]
    },
    {
      "cell_type": "markdown",
      "metadata": {},
      "source": [
        "Then run two spike sorters and compare their ouput.\n\n"
      ]
    },
    {
      "cell_type": "code",
      "execution_count": null,
      "metadata": {
        "collapsed": false
      },
      "outputs": [],
      "source": [
        "sorting_KL = sorters.run_klusta(recording)\nsorting_MS4 = sorters.run_mountainsort4(recording)"
      ]
    },
    {
      "cell_type": "markdown",
      "metadata": {},
      "source": [
        "The :code:`compare_two_sorters` function allows us to compare the spike\n\u00a0sorting output. It returns a :code:`SortingComparison` object, with methods\n\u00a0to inspect the comparison output easily. The comparison matches the\n\u00a0units by comparing the agreement between unit spike trains.\n\u00a0\n\u00a0Let\u2019s see how to inspect and access this matching.\n\n"
      ]
    },
    {
      "cell_type": "code",
      "execution_count": null,
      "metadata": {
        "collapsed": false
      },
      "outputs": [],
      "source": [
        "cmp_KL_MS4 = sc.compare_two_sorters(sorting1=sorting_KL, sorting2=sorting_MS4, \n                                               sorting1_name='klusta', sorting2_name='ms4')"
      ]
    },
    {
      "cell_type": "markdown",
      "metadata": {},
      "source": [
        "We can check the agreement matrix to inspect the matching.\n\n"
      ]
    },
    {
      "cell_type": "code",
      "execution_count": null,
      "metadata": {
        "collapsed": false
      },
      "outputs": [],
      "source": [
        "sw.plot_agreement_matrix(cmp_KL_MS4)"
      ]
    },
    {
      "cell_type": "markdown",
      "metadata": {},
      "source": [
        "Some useful internal dataframes help to check the match and count\n\u00a0 like **match_event_count** or **agreement_scores**\n\n"
      ]
    },
    {
      "cell_type": "code",
      "execution_count": null,
      "metadata": {
        "collapsed": false
      },
      "outputs": [],
      "source": [
        "print(cmp_KL_MS4.match_event_count)\nprint(cmp_KL_MS4.agreement_scores)"
      ]
    },
    {
      "cell_type": "markdown",
      "metadata": {},
      "source": [
        "In order to check which units were matched, the :code:`get_mapped_sorting`\n\u00a0methods can be used. If units are not matched they are listed as -1.\n\n"
      ]
    },
    {
      "cell_type": "code",
      "execution_count": null,
      "metadata": {
        "collapsed": false
      },
      "outputs": [],
      "source": [
        "# units matched to klusta units\nmapped_sorting_klusta = cmp_KL_MS4.get_mapped_sorting1()\nprint('Klusta units:', sorting_KL.get_unit_ids())\nprint('Klusta mapped units:', mapped_sorting_klusta.get_mapped_unit_ids())\n\n# units matched to ms4 units\nmapped_sorting_ms4 = cmp_KL_MS4.get_mapped_sorting2()\nprint('Mountainsort units:',sorting_MS4.get_unit_ids())\nprint('Mountainsort mapped units:',mapped_sorting_ms4.get_mapped_unit_ids())"
      ]
    },
    {
      "cell_type": "markdown",
      "metadata": {},
      "source": [
        "The :code:get_unit_spike_train` returns the mapped spike train. We can use\n\u00a0it to check the spike times.\n\n"
      ]
    },
    {
      "cell_type": "code",
      "execution_count": null,
      "metadata": {
        "collapsed": false
      },
      "outputs": [],
      "source": [
        "# find a unit from KL that have a match\nind  = np.where(np.array(mapped_sorting_klusta.get_mapped_unit_ids())!=-1)[0][0]\nu1 = sorting_KL.get_unit_ids()[ind]\nprint(ind, u1)\n\n# check that matched spike trains correspond\nst1 = sorting_KL.get_unit_spike_train(u1)\nst2 = mapped_sorting_klusta.get_unit_spike_train(u1)\nfig, ax = plt.subplots()\nax.plot(st1, np.zeros(st1.size), '|')\nax.plot(st2, np.ones(st2.size), '|')\n\nplt.show()"
      ]
    }
  ],
  "metadata": {
    "kernelspec": {
      "display_name": "Python 3",
      "language": "python",
      "name": "python3"
    },
    "language_info": {
      "codemirror_mode": {
        "name": "ipython",
        "version": 3
      },
      "file_extension": ".py",
      "mimetype": "text/x-python",
      "name": "python",
      "nbconvert_exporter": "python",
      "pygments_lexer": "ipython3",
      "version": "3.6.8"
    }
  },
  "nbformat": 4,
  "nbformat_minor": 0
}
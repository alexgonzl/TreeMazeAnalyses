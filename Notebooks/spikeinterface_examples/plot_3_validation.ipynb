{
 "cells": [
  {
   "cell_type": "code",
   "execution_count": null,
   "metadata": {
    "collapsed": false,
    "jupyter": {
     "outputs_hidden": false
    }
   },
   "outputs": [],
   "source": [
    "%matplotlib inline"
   ]
  },
  {
   "cell_type": "markdown",
   "metadata": {},
   "source": [
    "\n",
    "Validation Tutorial\n",
    "======================\n",
    "\n",
    "After spike sorting, you might want to validate the goodness of the sorted units. This can be done using the\n",
    ":code:`toolkit.validation` submodule, which computes several quality metrics of the sorted units.\n",
    "\n",
    "\n"
   ]
  },
  {
   "cell_type": "code",
   "execution_count": 1,
   "metadata": {
    "collapsed": false,
    "jupyter": {
     "outputs_hidden": false
    }
   },
   "outputs": [],
   "source": [
    "import spikeinterface.extractors as se\n",
    "import spikeinterface.toolkit as st"
   ]
  },
  {
   "cell_type": "markdown",
   "metadata": {},
   "source": [
    "First, let's create a toy example:\n",
    "\n"
   ]
  },
  {
   "cell_type": "code",
   "execution_count": 2,
   "metadata": {
    "collapsed": false,
    "jupyter": {
     "outputs_hidden": false
    }
   },
   "outputs": [],
   "source": [
    "recording, sorting = se.example_datasets.toy_example(num_channels=4, duration=10, seed=0)"
   ]
  },
  {
   "cell_type": "markdown",
   "metadata": {},
   "source": [
    "The :code:`toolkit.validation` submodule has a :code:`MetricCalculator` class that enables to compute metrics in a\n",
    "compact and easy way. You first need to instantiate a :code:`MetricCalculator` object with the\n",
    ":code:`SortingExtractor` and :code:`RecordingExtractor` objects.\n",
    "\n"
   ]
  },
  {
   "cell_type": "code",
   "execution_count": 3,
   "metadata": {
    "collapsed": false,
    "jupyter": {
     "outputs_hidden": false
    }
   },
   "outputs": [],
   "source": [
    "mc = st.validation.MetricCalculator(sorting, recording)"
   ]
  },
  {
   "cell_type": "markdown",
   "metadata": {},
   "source": [
    "You can then compute metrics as follows:\n",
    "\n"
   ]
  },
  {
   "cell_type": "code",
   "execution_count": 4,
   "metadata": {
    "collapsed": false,
    "jupyter": {
     "outputs_hidden": false
    }
   },
   "outputs": [
    {
     "data": {
      "text/plain": [
       "[[array([22., 26., 22., 25., 25., 27., 22., 22., 28., 22.])],\n",
       " [array([2.21783882, 2.62108224, 2.21783882, 2.52027138, 2.52027138,\n",
       "         2.72189309, 2.21783882, 2.21783882, 2.82270395, 2.21783882])],\n",
       " [array([0.19, 0.18, 0.19, 0.2 , 0.19, 0.19, 0.18, 0.17, 0.21, 0.18])],\n",
       " [array([0., 0., 0., 0., 0., 0., 0., 0., 0., 0.])],\n",
       " [array([0.31818182, 0.00995317, 0.01176284, 0.34323105, 0.0103513 ,\n",
       "         0.00958454, 0.5       , 0.01176284, 0.00924223, 0.01176284])],\n",
       " [array([17.28855003,  6.69706996,  7.83535302, 21.28924521,  5.17806876,\n",
       "          5.0760474 , 36.23133249,  8.4387248 ,  9.27256614,  4.90017896])],\n",
       " [array([0., 0., 0., 0., 0., 0., 0., 0., 0., 0.])],\n",
       " [array([0., 0., 0., 0., 0., 0., 0., 0., 0., 0.])],\n",
       " [array([0.75031651, 0.45219082, 0.43741785, 0.71725813, 0.27145332,\n",
       "         0.12420755, 0.87756152, 0.24526729, 0.12420755, 0.35516105])],\n",
       " [array([  799.1698853 ,   297.49489578,   228.12910791,  1132.82693872,\n",
       "           103.72573726,    90.17160697, 10297.36545923,   245.27551731,\n",
       "           186.23357236,    91.72280366])],\n",
       " [array([0.00000000e+00, 5.58808555e-12, 3.09240203e-17, 0.00000000e+00,\n",
       "         1.71246150e-04, 9.41661741e-04, 0.00000000e+00, 0.00000000e+00,\n",
       "         5.21231467e-19, 9.13747046e-05])],\n",
       " [array([10.38829713,  2.5603577 ,  1.09963727, 10.87438029,  1.90400863,\n",
       "          2.61564493, 37.51485459,  6.60988843,  7.83960391,  3.19202433])],\n",
       " [array([1.        , 0.98717949, 0.98484848, 1.        , 0.93333333,\n",
       "         0.91358025, 1.        , 0.95454545, 0.97619048, 0.92424242])],\n",
       " [array([0.        , 0.        , 0.00152207, 0.        , 0.01851852,\n",
       "         0.00623053, 0.        , 0.        , 0.        , 0.01065449])]]"
      ]
     },
     "execution_count": 4,
     "metadata": {},
     "output_type": "execute_result"
    }
   ],
   "source": [
    "mc.compute_metrics()"
   ]
  },
  {
   "cell_type": "markdown",
   "metadata": {},
   "source": [
    "This is the list of the computed metrics:\n",
    "\n"
   ]
  },
  {
   "cell_type": "code",
   "execution_count": 5,
   "metadata": {
    "collapsed": false,
    "jupyter": {
     "outputs_hidden": false
    }
   },
   "outputs": [
    {
     "name": "stdout",
     "output_type": "stream",
     "text": [
      "['num_spikes', 'firing_rate', 'presence_ratio', 'isi_viol', 'amplitude_cutoff', 'snr', 'max_drift', 'cumulative_drift', 'silhouette_score', 'isolation_distance', 'l_ratio', 'd_prime', 'nn_hit_rate', 'nn_miss_rate']\n"
     ]
    }
   ],
   "source": [
    "print(list(mc.get_metrics_dict().keys()))"
   ]
  },
  {
   "cell_type": "code",
   "execution_count": 6,
   "metadata": {},
   "outputs": [
    {
     "data": {
      "text/html": [
       "<div>\n",
       "<style scoped>\n",
       "    .dataframe tbody tr th:only-of-type {\n",
       "        vertical-align: middle;\n",
       "    }\n",
       "\n",
       "    .dataframe tbody tr th {\n",
       "        vertical-align: top;\n",
       "    }\n",
       "\n",
       "    .dataframe thead th {\n",
       "        text-align: right;\n",
       "    }\n",
       "</style>\n",
       "<table border=\"1\" class=\"dataframe\">\n",
       "  <thead>\n",
       "    <tr style=\"text-align: right;\">\n",
       "      <th></th>\n",
       "      <th>unit_ids</th>\n",
       "      <th>num_spikes</th>\n",
       "      <th>firing_rate</th>\n",
       "      <th>presence_ratio</th>\n",
       "      <th>isi_viol</th>\n",
       "      <th>amplitude_cutoff</th>\n",
       "      <th>snr</th>\n",
       "      <th>max_drift</th>\n",
       "      <th>cumulative_drift</th>\n",
       "      <th>silhouette_score</th>\n",
       "      <th>isolation_distance</th>\n",
       "      <th>l_ratio</th>\n",
       "      <th>d_prime</th>\n",
       "      <th>nn_hit_rate</th>\n",
       "      <th>nn_miss_rate</th>\n",
       "      <th>epoch_name</th>\n",
       "      <th>epoch_start</th>\n",
       "      <th>epoch_end</th>\n",
       "    </tr>\n",
       "  </thead>\n",
       "  <tbody>\n",
       "    <tr>\n",
       "      <th>0</th>\n",
       "      <td>1</td>\n",
       "      <td>22.0</td>\n",
       "      <td>2.217839</td>\n",
       "      <td>0.19</td>\n",
       "      <td>0.0</td>\n",
       "      <td>0.318182</td>\n",
       "      <td>17.288550</td>\n",
       "      <td>0.0</td>\n",
       "      <td>0.0</td>\n",
       "      <td>0.750317</td>\n",
       "      <td>799.169885</td>\n",
       "      <td>0.000000e+00</td>\n",
       "      <td>10.388297</td>\n",
       "      <td>1.000000</td>\n",
       "      <td>0.000000</td>\n",
       "      <td>complete_session</td>\n",
       "      <td>0</td>\n",
       "      <td>inf</td>\n",
       "    </tr>\n",
       "    <tr>\n",
       "      <th>1</th>\n",
       "      <td>2</td>\n",
       "      <td>26.0</td>\n",
       "      <td>2.621082</td>\n",
       "      <td>0.18</td>\n",
       "      <td>0.0</td>\n",
       "      <td>0.009953</td>\n",
       "      <td>6.697070</td>\n",
       "      <td>0.0</td>\n",
       "      <td>0.0</td>\n",
       "      <td>0.452191</td>\n",
       "      <td>297.494896</td>\n",
       "      <td>5.588086e-12</td>\n",
       "      <td>2.560358</td>\n",
       "      <td>0.987179</td>\n",
       "      <td>0.000000</td>\n",
       "      <td>complete_session</td>\n",
       "      <td>0</td>\n",
       "      <td>inf</td>\n",
       "    </tr>\n",
       "    <tr>\n",
       "      <th>2</th>\n",
       "      <td>3</td>\n",
       "      <td>22.0</td>\n",
       "      <td>2.217839</td>\n",
       "      <td>0.19</td>\n",
       "      <td>0.0</td>\n",
       "      <td>0.011763</td>\n",
       "      <td>7.835353</td>\n",
       "      <td>0.0</td>\n",
       "      <td>0.0</td>\n",
       "      <td>0.437418</td>\n",
       "      <td>228.129108</td>\n",
       "      <td>3.092402e-17</td>\n",
       "      <td>1.099637</td>\n",
       "      <td>0.984848</td>\n",
       "      <td>0.001522</td>\n",
       "      <td>complete_session</td>\n",
       "      <td>0</td>\n",
       "      <td>inf</td>\n",
       "    </tr>\n",
       "    <tr>\n",
       "      <th>3</th>\n",
       "      <td>4</td>\n",
       "      <td>25.0</td>\n",
       "      <td>2.520271</td>\n",
       "      <td>0.20</td>\n",
       "      <td>0.0</td>\n",
       "      <td>0.343231</td>\n",
       "      <td>21.289245</td>\n",
       "      <td>0.0</td>\n",
       "      <td>0.0</td>\n",
       "      <td>0.717258</td>\n",
       "      <td>1132.826939</td>\n",
       "      <td>0.000000e+00</td>\n",
       "      <td>10.874380</td>\n",
       "      <td>1.000000</td>\n",
       "      <td>0.000000</td>\n",
       "      <td>complete_session</td>\n",
       "      <td>0</td>\n",
       "      <td>inf</td>\n",
       "    </tr>\n",
       "    <tr>\n",
       "      <th>4</th>\n",
       "      <td>5</td>\n",
       "      <td>25.0</td>\n",
       "      <td>2.520271</td>\n",
       "      <td>0.19</td>\n",
       "      <td>0.0</td>\n",
       "      <td>0.010351</td>\n",
       "      <td>5.178069</td>\n",
       "      <td>0.0</td>\n",
       "      <td>0.0</td>\n",
       "      <td>0.271453</td>\n",
       "      <td>103.725737</td>\n",
       "      <td>1.712462e-04</td>\n",
       "      <td>1.904009</td>\n",
       "      <td>0.933333</td>\n",
       "      <td>0.018519</td>\n",
       "      <td>complete_session</td>\n",
       "      <td>0</td>\n",
       "      <td>inf</td>\n",
       "    </tr>\n",
       "    <tr>\n",
       "      <th>5</th>\n",
       "      <td>6</td>\n",
       "      <td>27.0</td>\n",
       "      <td>2.721893</td>\n",
       "      <td>0.19</td>\n",
       "      <td>0.0</td>\n",
       "      <td>0.009585</td>\n",
       "      <td>5.076047</td>\n",
       "      <td>0.0</td>\n",
       "      <td>0.0</td>\n",
       "      <td>0.124208</td>\n",
       "      <td>90.171607</td>\n",
       "      <td>9.416617e-04</td>\n",
       "      <td>2.615645</td>\n",
       "      <td>0.913580</td>\n",
       "      <td>0.006231</td>\n",
       "      <td>complete_session</td>\n",
       "      <td>0</td>\n",
       "      <td>inf</td>\n",
       "    </tr>\n",
       "    <tr>\n",
       "      <th>6</th>\n",
       "      <td>7</td>\n",
       "      <td>22.0</td>\n",
       "      <td>2.217839</td>\n",
       "      <td>0.18</td>\n",
       "      <td>0.0</td>\n",
       "      <td>0.500000</td>\n",
       "      <td>36.231332</td>\n",
       "      <td>0.0</td>\n",
       "      <td>0.0</td>\n",
       "      <td>0.877562</td>\n",
       "      <td>10297.365459</td>\n",
       "      <td>0.000000e+00</td>\n",
       "      <td>37.514855</td>\n",
       "      <td>1.000000</td>\n",
       "      <td>0.000000</td>\n",
       "      <td>complete_session</td>\n",
       "      <td>0</td>\n",
       "      <td>inf</td>\n",
       "    </tr>\n",
       "    <tr>\n",
       "      <th>7</th>\n",
       "      <td>8</td>\n",
       "      <td>22.0</td>\n",
       "      <td>2.217839</td>\n",
       "      <td>0.17</td>\n",
       "      <td>0.0</td>\n",
       "      <td>0.011763</td>\n",
       "      <td>8.438725</td>\n",
       "      <td>0.0</td>\n",
       "      <td>0.0</td>\n",
       "      <td>0.245267</td>\n",
       "      <td>245.275517</td>\n",
       "      <td>0.000000e+00</td>\n",
       "      <td>6.609888</td>\n",
       "      <td>0.954545</td>\n",
       "      <td>0.000000</td>\n",
       "      <td>complete_session</td>\n",
       "      <td>0</td>\n",
       "      <td>inf</td>\n",
       "    </tr>\n",
       "    <tr>\n",
       "      <th>8</th>\n",
       "      <td>9</td>\n",
       "      <td>28.0</td>\n",
       "      <td>2.822704</td>\n",
       "      <td>0.21</td>\n",
       "      <td>0.0</td>\n",
       "      <td>0.009242</td>\n",
       "      <td>9.272566</td>\n",
       "      <td>0.0</td>\n",
       "      <td>0.0</td>\n",
       "      <td>0.124208</td>\n",
       "      <td>186.233572</td>\n",
       "      <td>5.212315e-19</td>\n",
       "      <td>7.839604</td>\n",
       "      <td>0.976190</td>\n",
       "      <td>0.000000</td>\n",
       "      <td>complete_session</td>\n",
       "      <td>0</td>\n",
       "      <td>inf</td>\n",
       "    </tr>\n",
       "    <tr>\n",
       "      <th>9</th>\n",
       "      <td>10</td>\n",
       "      <td>22.0</td>\n",
       "      <td>2.217839</td>\n",
       "      <td>0.18</td>\n",
       "      <td>0.0</td>\n",
       "      <td>0.011763</td>\n",
       "      <td>4.900179</td>\n",
       "      <td>0.0</td>\n",
       "      <td>0.0</td>\n",
       "      <td>0.355161</td>\n",
       "      <td>91.722804</td>\n",
       "      <td>9.137470e-05</td>\n",
       "      <td>3.192024</td>\n",
       "      <td>0.924242</td>\n",
       "      <td>0.010654</td>\n",
       "      <td>complete_session</td>\n",
       "      <td>0</td>\n",
       "      <td>inf</td>\n",
       "    </tr>\n",
       "  </tbody>\n",
       "</table>\n",
       "</div>"
      ],
      "text/plain": [
       "   unit_ids  num_spikes  firing_rate  presence_ratio  isi_viol  \\\n",
       "0         1        22.0     2.217839            0.19       0.0   \n",
       "1         2        26.0     2.621082            0.18       0.0   \n",
       "2         3        22.0     2.217839            0.19       0.0   \n",
       "3         4        25.0     2.520271            0.20       0.0   \n",
       "4         5        25.0     2.520271            0.19       0.0   \n",
       "5         6        27.0     2.721893            0.19       0.0   \n",
       "6         7        22.0     2.217839            0.18       0.0   \n",
       "7         8        22.0     2.217839            0.17       0.0   \n",
       "8         9        28.0     2.822704            0.21       0.0   \n",
       "9        10        22.0     2.217839            0.18       0.0   \n",
       "\n",
       "   amplitude_cutoff        snr  max_drift  cumulative_drift  silhouette_score  \\\n",
       "0          0.318182  17.288550        0.0               0.0          0.750317   \n",
       "1          0.009953   6.697070        0.0               0.0          0.452191   \n",
       "2          0.011763   7.835353        0.0               0.0          0.437418   \n",
       "3          0.343231  21.289245        0.0               0.0          0.717258   \n",
       "4          0.010351   5.178069        0.0               0.0          0.271453   \n",
       "5          0.009585   5.076047        0.0               0.0          0.124208   \n",
       "6          0.500000  36.231332        0.0               0.0          0.877562   \n",
       "7          0.011763   8.438725        0.0               0.0          0.245267   \n",
       "8          0.009242   9.272566        0.0               0.0          0.124208   \n",
       "9          0.011763   4.900179        0.0               0.0          0.355161   \n",
       "\n",
       "   isolation_distance       l_ratio    d_prime  nn_hit_rate  nn_miss_rate  \\\n",
       "0          799.169885  0.000000e+00  10.388297     1.000000      0.000000   \n",
       "1          297.494896  5.588086e-12   2.560358     0.987179      0.000000   \n",
       "2          228.129108  3.092402e-17   1.099637     0.984848      0.001522   \n",
       "3         1132.826939  0.000000e+00  10.874380     1.000000      0.000000   \n",
       "4          103.725737  1.712462e-04   1.904009     0.933333      0.018519   \n",
       "5           90.171607  9.416617e-04   2.615645     0.913580      0.006231   \n",
       "6        10297.365459  0.000000e+00  37.514855     1.000000      0.000000   \n",
       "7          245.275517  0.000000e+00   6.609888     0.954545      0.000000   \n",
       "8          186.233572  5.212315e-19   7.839604     0.976190      0.000000   \n",
       "9           91.722804  9.137470e-05   3.192024     0.924242      0.010654   \n",
       "\n",
       "         epoch_name  epoch_start  epoch_end  \n",
       "0  complete_session            0        inf  \n",
       "1  complete_session            0        inf  \n",
       "2  complete_session            0        inf  \n",
       "3  complete_session            0        inf  \n",
       "4  complete_session            0        inf  \n",
       "5  complete_session            0        inf  \n",
       "6  complete_session            0        inf  \n",
       "7  complete_session            0        inf  \n",
       "8  complete_session            0        inf  \n",
       "9  complete_session            0        inf  "
      ]
     },
     "execution_count": 6,
     "metadata": {},
     "output_type": "execute_result"
    }
   ],
   "source": [
    "mc.get_metrics_df()"
   ]
  },
  {
   "cell_type": "markdown",
   "metadata": {},
   "source": [
    "The :code:`get_metrics_dict` and :code:`get_metrics_df` return all metrics as a dictionary or a pandas dataframe:\n",
    "\n"
   ]
  },
  {
   "cell_type": "code",
   "execution_count": null,
   "metadata": {
    "collapsed": false,
    "jupyter": {
     "outputs_hidden": false
    }
   },
   "outputs": [],
   "source": [
    "print(mc.get_metrics_dict())\n",
    "print(mc.get_metrics_df())"
   ]
  },
  {
   "cell_type": "markdown",
   "metadata": {},
   "source": [
    "If you don't need to compute all metrics, you can either pass a 'metric_names' list to the :code:`compute_metrics` or\n",
    "call separate methods for computing single metrics:\n",
    "\n"
   ]
  },
  {
   "cell_type": "code",
   "execution_count": null,
   "metadata": {
    "collapsed": false,
    "jupyter": {
     "outputs_hidden": false
    }
   },
   "outputs": [],
   "source": [
    "# This only compute signal-to-noise ratio (SNR)\n",
    "mc.compute_metrics(metric_names=['snr'])\n",
    "print(mc.get_metrics_df()['snr'])\n",
    "\n",
    "# This function also returns the SNRs\n",
    "snrs = st.validation.compute_snrs(sorting, recording)\n",
    "print(snrs)"
   ]
  }
 ],
 "metadata": {
  "kernelspec": {
   "display_name": "Python 3",
   "language": "python",
   "name": "python3"
  },
  "language_info": {
   "codemirror_mode": {
    "name": "ipython",
    "version": 3
   },
   "file_extension": ".py",
   "mimetype": "text/x-python",
   "name": "python",
   "nbconvert_exporter": "python",
   "pygments_lexer": "ipython3",
   "version": "3.7.0"
  }
 },
 "nbformat": 4,
 "nbformat_minor": 4
}

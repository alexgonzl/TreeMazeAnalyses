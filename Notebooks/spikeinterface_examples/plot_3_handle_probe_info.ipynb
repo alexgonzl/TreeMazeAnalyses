{
 "cells": [
  {
   "cell_type": "code",
   "execution_count": 1,
   "metadata": {
    "collapsed": false,
    "jupyter": {
     "outputs_hidden": false
    }
   },
   "outputs": [],
   "source": [
    "%matplotlib inline"
   ]
  },
  {
   "cell_type": "markdown",
   "metadata": {},
   "source": [
    "\n",
    "Handling probe information\n",
    "===========================\n",
    "\n",
    "In order to properly spike sort, you may need to load information related to the probe you are using.\n",
    "You can easily load probe information in :code:`spikeinterface.extractors` module.\n",
    "\n",
    "Here's how!\n",
    "\n"
   ]
  },
  {
   "cell_type": "code",
   "execution_count": 2,
   "metadata": {
    "collapsed": false,
    "jupyter": {
     "outputs_hidden": false
    }
   },
   "outputs": [],
   "source": [
    "import numpy as np\n",
    "import spikeinterface.extractors as se"
   ]
  },
  {
   "cell_type": "markdown",
   "metadata": {},
   "source": [
    "First, let's create a toy example:\n",
    "\n"
   ]
  },
  {
   "cell_type": "code",
   "execution_count": 3,
   "metadata": {
    "collapsed": false,
    "jupyter": {
     "outputs_hidden": false
    }
   },
   "outputs": [],
   "source": [
    "recording, sorting_true = se.example_datasets.toy_example(duration=10, num_channels=32, seed=0)"
   ]
  },
  {
   "cell_type": "markdown",
   "metadata": {},
   "source": [
    "Probe information may be required to:\n",
    "\n",
    "- apply a channel map\n",
    "- load 'group' information\n",
    "- load 'location' information\n",
    "- load arbitrary information\n",
    "\n",
    "Probe information can be loaded either using a '.prb' or a '.csv' file. We recommend using a '.prb' file, since it\n",
    "allows users to load several information as once.\n",
    "\n",
    "A '.prb' file is a python dictionary. Here is the content of a sample '.prb' file (eight_tetrodes.prb), that splits\n",
    "the channels in 8 channel groups, applies a channel map (reversing the order of each tetrode), and loads a 'label'\n",
    "for each electrode (arbitrary information):\n",
    "\n",
    ":code:`eight_tetrodes.prb`:\n",
    "\n",
    ".. parsed-literal::\n",
    "\n",
    "   channel_groups = {\n",
    "       # Tetrode index\n",
    "       0:\n",
    "           {\n",
    "             'channels': [3, 2, 1, 0],\n",
    "             'geometry': [[0,0], [1,0], [2,0], [3,0]],\n",
    "             'label': ['t_00', 't_01', 't_02', 't_03'],\n",
    "           },\n",
    "       1:\n",
    "           {\n",
    "             'channels': [7, 6, 5, 4],\n",
    "             'geometry': [[6,0], [7,0], [8,0], [9,0]],\n",
    "             'label': ['t_10', 't_11', 't_12', 't_13'],\n",
    "           },\n",
    "       2:\n",
    "           {\n",
    "             'channels': [11, 10, 9, 8],\n",
    "             'geometry': [[12,0], [13,0], [14,0], [15,0]],\n",
    "             'label': ['t_20', 't_21', 't_22', 't_23'],\n",
    "           },\n",
    "       3:\n",
    "           {\n",
    "             'channels': [15, 14, 13, 12],\n",
    "             'geometry': [[18,0], [19,0], [20,0], [21,0]],\n",
    "             'label': ['t_30', 't_31', 't_32', 't_33'],\n",
    "            },\n",
    "       4:\n",
    "           {\n",
    "             'channels': [19, 18, 17, 16],\n",
    "             'geometry': [[30,0], [31,0], [32,0], [33,0]],\n",
    "             'label': ['t_40', 't_41', 't_42', 't_43'],\n",
    "           },\n",
    "       5:\n",
    "           {\n",
    "             'channels': [23, 22, 21, 20],\n",
    "             'geometry': [[36,0], [37,0], [38,0], [39,0]],\n",
    "             'label': ['t_50', 't_51', 't_52', 't_53'],\n",
    "           },\n",
    "       6:\n",
    "           {\n",
    "             'channels': [27, 26, 25, 24],\n",
    "             'geometry': [[42,0], [43,0], [44,0], [45,0]],\n",
    "             'label': ['t_60', 't_61', 't_62', 't_63'],\n",
    "           },\n",
    "       7:\n",
    "           {\n",
    "             'channels': [31, 30, 29, 28],\n",
    "             'geometry': [[48,0], [49,0], [50,0], [51,0]],\n",
    "             'label': ['t_70', 't_71', 't_72', 't_73'],\n",
    "           }\n",
    "       }\n",
    "\n",
    "You can load the probe file using the :code:`load_probe_file` function in the RecordingExtractor.\n",
    "**IMPORTANT** This function returns a **new** :code:`RecordingExtractor` object:\n",
    "\n"
   ]
  },
  {
   "cell_type": "code",
   "execution_count": 4,
   "metadata": {
    "collapsed": false,
    "jupyter": {
     "outputs_hidden": false
    }
   },
   "outputs": [],
   "source": [
    "recording_tetrodes = recording.load_probe_file(probe_file='eight_tetrodes.prb')"
   ]
  },
  {
   "cell_type": "markdown",
   "metadata": {},
   "source": [
    "Now let's check what we have loaded:\n",
    "\n"
   ]
  },
  {
   "cell_type": "code",
   "execution_count": 5,
   "metadata": {
    "collapsed": false,
    "jupyter": {
     "outputs_hidden": false
    }
   },
   "outputs": [
    {
     "name": "stdout",
     "output_type": "stream",
     "text": [
      "Channel ids: [0, 1, 2, 3, 7, 6, 5, 4, 11, 10, 9, 8, 15, 14, 13, 12, 19, 18, 17, 16, 23, 22, 21, 20, 27, 26, 25, 24, 31, 30, 29, 28]\n",
      "Loaded properties ['group', 'label', 'location']\n",
      "Label of channel 0: t_00\n"
     ]
    }
   ],
   "source": [
    "print('Channel ids:', recording_tetrodes.get_channel_ids())\n",
    "print('Loaded properties', recording_tetrodes.get_shared_channel_property_names())\n",
    "print('Label of channel 0:', recording_tetrodes.get_channel_property(channel_id=0, property_name='label'))"
   ]
  },
  {
   "cell_type": "markdown",
   "metadata": {},
   "source": [
    "and let's plot the probe layout:\n",
    "\n"
   ]
  },
  {
   "cell_type": "code",
   "execution_count": 6,
   "metadata": {
    "collapsed": false,
    "jupyter": {
     "outputs_hidden": false
    }
   },
   "outputs": [],
   "source": [
    "import spikeinterface.widgets as sw\n",
    "w_el_tetrode = sw.plot_electrode_geometry(recording_tetrodes)"
   ]
  },
  {
   "cell_type": "markdown",
   "metadata": {},
   "source": [
    "Alternatively, one can use a '.csv' file to load the electrode locations. Let's create a '.csv' file\n",
    "with 2D locations in a circular layout:\n",
    "\n"
   ]
  },
  {
   "cell_type": "code",
   "execution_count": 12,
   "metadata": {
    "collapsed": false,
    "jupyter": {
     "outputs_hidden": false
    }
   },
   "outputs": [],
   "source": [
    "delta_deg = 2 * np.pi / recording.get_num_channels()\n",
    "with open('circular_layout.csv', 'w') as f:\n",
    "    for i in range(recording.get_num_channels()):\n",
    "        angle = i * delta_deg\n",
    "        radius = 50\n",
    "        x = radius * np.cos(angle)\n",
    "        y = radius * np.sin(angle)\n",
    "        f.write(str(x) + ',' + str(y) + '\\n')"
   ]
  },
  {
   "cell_type": "markdown",
   "metadata": {},
   "source": [
    "When loading the probe file as a '.csv' file, we can also pass a 'channel_map' and a 'channel_groups' arguments.\n",
    "For example, let's reverse the channel order and split the channels in two groups:\n",
    "\n"
   ]
  },
  {
   "cell_type": "code",
   "execution_count": 13,
   "metadata": {
    "collapsed": false,
    "jupyter": {
     "outputs_hidden": false
    }
   },
   "outputs": [
    {
     "name": "stdout",
     "output_type": "stream",
     "text": [
      "Created channel map [31, 30, 29, 28, 27, 26, 25, 24, 23, 22, 21, 20, 19, 18, 17, 16, 15, 14, 13, 12, 11, 10, 9, 8, 7, 6, 5, 4, 3, 2, 1, 0]\n",
      "Created channel groups [0 0 0 0 0 0 0 0 0 0 0 0 0 0 0 0 1 1 1 1 1 1 1 1 1 1 1 1 1 1 1 1]\n"
     ]
    }
   ],
   "source": [
    "channel_map = list(range(recording.get_num_channels()))[::-1]\n",
    "channel_groups = np.array(([0] * int(recording.get_num_channels())))\n",
    "channel_groups[int(recording.get_num_channels() / 2):] = 1\n",
    "\n",
    "print('Created channel map', channel_map)\n",
    "print('Created channel groups', channel_groups)"
   ]
  },
  {
   "cell_type": "markdown",
   "metadata": {},
   "source": [
    "We can now load the probe information from the newly created '.csv' file:\n",
    "\n"
   ]
  },
  {
   "cell_type": "code",
   "execution_count": 14,
   "metadata": {
    "collapsed": false,
    "jupyter": {
     "outputs_hidden": false
    }
   },
   "outputs": [],
   "source": [
    "recording_circ = recording.load_probe_file(probe_file='circular_layout.csv',\n",
    "                                           channel_map=channel_map,\n",
    "                                           channel_groups=channel_groups)"
   ]
  },
  {
   "cell_type": "markdown",
   "metadata": {},
   "source": [
    "Here is now the probe layout:\n",
    "\n"
   ]
  },
  {
   "cell_type": "code",
   "execution_count": 15,
   "metadata": {
    "collapsed": false,
    "jupyter": {
     "outputs_hidden": false
    }
   },
   "outputs": [
    {
     "data": {
      "image/png": "[encoded data removed]",
      "text/plain": [
       "<Figure size 432x288 with 1 Axes>"
      ]
     },
     "metadata": {},
     "output_type": "display_data"
    }
   ],
   "source": [
    "w_el_circ = sw.plot_electrode_geometry(recording_circ)"
   ]
  },
  {
   "cell_type": "markdown",
   "metadata": {},
   "source": [
    "Let's check that we loaded the information correctly:\n",
    "\n"
   ]
  },
  {
   "cell_type": "code",
   "execution_count": 16,
   "metadata": {
    "collapsed": false,
    "jupyter": {
     "outputs_hidden": false
    }
   },
   "outputs": [
    {
     "name": "stdout",
     "output_type": "stream",
     "text": [
      "Loaded channel ids [31, 30, 29, 28, 27, 26, 25, 24, 23, 22, 21, 20, 19, 18, 17, 16, 15, 14, 13, 12, 11, 10, 9, 8, 7, 6, 5, 4, 3, 2, 1, 0]\n",
      "Loaded channel groups [0, 0, 0, 0, 0, 0, 0, 0, 0, 0, 0, 0, 0, 0, 0, 0, 1, 1, 1, 1, 1, 1, 1, 1, 1, 1, 1, 1, 1, 1, 1, 1]\n"
     ]
    }
   ],
   "source": [
    "print('Loaded channel ids', recording_circ.get_channel_ids())\n",
    "print('Loaded channel groups', recording_circ.get_channel_groups())"
   ]
  }
 ],
 "metadata": {
  "kernelspec": {
   "display_name": "Python 3",
   "language": "python",
   "name": "python3"
  },
  "language_info": {
   "codemirror_mode": {
    "name": "ipython",
    "version": 3
   },
   "file_extension": ".py",
   "mimetype": "text/x-python",
   "name": "python",
   "nbconvert_exporter": "python",
   "pygments_lexer": "ipython3",
   "version": "3.7.0"
  }
 },
 "nbformat": 4,
 "nbformat_minor": 4
}

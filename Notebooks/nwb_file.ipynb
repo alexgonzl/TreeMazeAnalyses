{
 "cells": [
  {
   "cell_type": "code",
   "execution_count": 1,
   "metadata": {},
   "outputs": [
    {
     "name": "stderr",
     "output_type": "stream",
     "text": [
      "/Users/alexgonzalez/anaconda3/lib/python3.6/site-packages/h5py/__init__.py:36: FutureWarning: Conversion of the second argument of issubdtype from `float` to `np.floating` is deprecated. In future, it will be treated as `np.float64 == np.dtype(float).type`.\n",
      "  from ._conv import register_converters as _register_converters\n"
     ]
    }
   ],
   "source": [
    "%matplotlib inline\n",
    "from datetime import datetime\n",
    "from pynwb import NWBFile\n",
    "import numpy as np\n",
    "from scipy import signal \n",
    "import pandas as pd\n",
    "from pynwb.ecephys import ElectricalSeries"
   ]
  },
  {
   "cell_type": "code",
   "execution_count": 2,
   "metadata": {},
   "outputs": [],
   "source": [
    "datHead = NWBFile('Tetrode Test', 'Data formating test using NWB', 'Li_T3g_060418', datetime(2018,6,4),\n",
    "                  experimenter='Alex Gonzalez',\n",
    "                  lab='Giocomo Lab',\n",
    "                  institution='Stanford University',\n",
    "                  experiment_description='Recording during maze session, T3g.',\n",
    "                  session_id='20')\n",
    "device = datHead.create_device(name='AlexRig',source='NeuralynxAck')"
   ]
  },
  {
   "cell_type": "code",
   "execution_count": 3,
   "metadata": {},
   "outputs": [],
   "source": [
    "nTetrodes = 1\n",
    "for tetrodeID in np.arange(nTetrodes):\n",
    "    electrode_name = 'tetrode%i' % tetrodeID\n",
    "    source = \"\"\n",
    "    description = \"Platinum tetrode prepared by hand and DC electroplated.\"\n",
    "    location = \"MEC\"\n",
    "\n",
    "    electrode_group = datHead.create_electrode_group(electrode_name,\n",
    "                                                     source=source,\n",
    "                                                     description=description,\n",
    "                                                     location=location,\n",
    "                                                     device=device)"
   ]
  },
  {
   "cell_type": "code",
   "execution_count": 4,
   "metadata": {},
   "outputs": [],
   "source": [
    "xPos = np.array([0.0,0,20,20])\n",
    "yPos = np.array([0.0,20,0,20])\n",
    "zPos = 0.0\n",
    "for idx in np.arange(4):\n",
    "    datHead.add_electrode(idx,\n",
    "                          x=xPos[idx], y=yPos[idx], z=zPos,\n",
    "                          imp=float(250),\n",
    "                          location='MEC', filtering='none',\n",
    "                          description='channel %s' % idx, group=electrode_group)"
   ]
  },
  {
   "cell_type": "code",
   "execution_count": 5,
   "metadata": {},
   "outputs": [
    {
     "data": {
      "text/plain": [
       "<pynwb.ecephys.ElectricalSeries at 0x1c244fc470>"
      ]
     },
     "execution_count": 5,
     "metadata": {},
     "output_type": "execute_result"
    }
   ],
   "source": [
    "electrode_table_region = datHead.create_electrode_table_region([0,1, 2,3], 'tetrode')\n",
    "\n",
    "rate = 1000.0\n",
    "np.random.seed(1234)\n",
    "data_len = int(rate*60*5)\n",
    "ephys_data = np.random.randn(data_len * 4)+np.random.poisson(0.1,data_len * 4)*2\n",
    "ephys_data=ephys_data.reshape((data_len, 4))\n",
    "np.save('ecephys_example',ephys_data)\n",
    "ephys_timestamps = np.arange(data_len) / rate\n",
    "\n",
    "ephys_ts = ElectricalSeries('test_ephys_data',\n",
    "                            'an hypothetical source',\n",
    "                            ephys_data,\n",
    "                            electrode_table_region,\n",
    "                            timestamps=ephys_timestamps,\n",
    "                            # Alternatively, could specify starting_time and rate as follows\n",
    "                            # starting_time=ephys_timestamps[0],\n",
    "                            # rate=rate,\n",
    "                            resolution=0.001,\n",
    "                            comments=\"This data was randomly generated with numpy, using 1234 as the seed\",\n",
    "                            description=\"Random numbers generated with numpy.random.rand\")\n",
    "datHead.add_acquisition(ephys_ts)"
   ]
  },
  {
   "cell_type": "code",
   "execution_count": 6,
   "metadata": {},
   "outputs": [],
   "source": [
    "from pynwb import NWBHDF5IO\n",
    "\n",
    "with NWBHDF5IO('ecephys_example.nwb', 'w') as io:\n",
    "    io.write(datHead)"
   ]
  },
  {
   "cell_type": "code",
   "execution_count": 7,
   "metadata": {},
   "outputs": [],
   "source": [
    "# import h5py\n",
    "# with h5py.File('ecephys_example.nwb', 'r') as f:\n",
    "#     for i in f['acquisition/test_ephys_data/data']:\n",
    "#         print(i)\n",
    "# # io = NWBHDF5IO('ecephys_example.nwb', 'r')\n",
    "# # nwbfile = io.read()"
   ]
  },
  {
   "cell_type": "code",
   "execution_count": 18,
   "metadata": {},
   "outputs": [],
   "source": [
    "ephys_data = np.random.randn(data_len * 4)+np.random.poisson(0.1,data_len * 4)*2\n",
    "ephys_data=ephys_data.reshape((data_len, 4))\n",
    "np.save('ecephys_example',ephys_data)\n"
   ]
  },
  {
   "cell_type": "code",
   "execution_count": 30,
   "metadata": {},
   "outputs": [
    {
     "data": {
      "text/plain": [
       "array([[ 0.47143516, -1.19097569,  1.43270697, -0.3126519 ],\n",
       "       [-0.72058873,  0.88716294,  0.85958841, -0.6365235 ]])"
      ]
     },
     "execution_count": 30,
     "metadata": {},
     "output_type": "execute_result"
    }
   ],
   "source": [
    "dat_slice=ephys_data[0:2][0:4]\n",
    "#sarray.astype('int16').tofile(filename)\n"
   ]
  }
 ],
 "metadata": {
  "kernelspec": {
   "display_name": "Python 3",
   "language": "python",
   "name": "python3"
  },
  "language_info": {
   "codemirror_mode": {
    "name": "ipython",
    "version": 3
   },
   "file_extension": ".py",
   "mimetype": "text/x-python",
   "name": "python",
   "nbconvert_exporter": "python",
   "pygments_lexer": "ipython3",
   "version": "3.6.4"
  }
 },
 "nbformat": 4,
 "nbformat_minor": 2
}

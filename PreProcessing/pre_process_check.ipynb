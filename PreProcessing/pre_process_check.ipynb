{
 "cells": [
  {
   "cell_type": "code",
   "execution_count": 54,
   "metadata": {
    "collapsed": true
   },
   "outputs": [],
   "source": [
    "import numpy as np\n",
    "import time\n",
    "import pandas as pd\n",
    "from pathlib import Path\n",
    "import sys\n",
    "import json\n",
    "import datetime\n",
    "from pre_process_neuralynx import *\n",
    "from robust_stats import *\n"
   ]
  },
  {
   "cell_type": "code",
   "execution_count": 5,
   "metadata": {
    "collapsed": true
   },
   "outputs": [],
   "source": [
    "# make sure you are processing the right tasks by looking at the file.\n",
    "#PreProcessingTable_Li_12_10_2018\n",
    "AnimalID = 'Li'\n",
    "#date_obj = '12_10_2018'\n",
    "date_str = '12_10_2018'\n",
    "#date_str= \"%s_%s_%s\" % (date_obj.month,date_obj.day,date_obj.year)\n",
    "\n",
    "TaskDir = Path('../PreProcessing/TasksDir/')\n",
    "\n",
    "with open(str(TaskDir) + '/PreProcessingTable_{}_{}.json'.format(AnimalID,date_str), 'r') as f:\n",
    "        task_table = json.load(f)"
   ]
  },
  {
   "cell_type": "code",
   "execution_count": 33,
   "metadata": {},
   "outputs": [
    {
     "data": {
      "text/plain": [
       "PosixPath('../PreProcessing/TasksDir/PreProcessingTable_Li_12_10_2018_Completed.json')"
      ]
     },
     "execution_count": 33,
     "metadata": {},
     "output_type": "execute_result"
    }
   ],
   "source": [
    "x = TaskDir / ('PreProcessingTable_{}_{}.json'.format(AnimalID,date_str))\n",
    "x.parent / (x.stem + '_Completed.json')"
   ]
  },
  {
   "cell_type": "code",
   "execution_count": 17,
   "metadata": {},
   "outputs": [
    {
     "data": {
      "text/plain": [
       "dict_keys(['1', '2', '3', '4', '5', '6', '7', '8', '9', '10', '11', '12', '13', '14', '15', '16', '17', '18', '19', '20', '21', '22', '23', '24', '25', '26', '27', '28', '29', '30', '31', '32', '33', '34', '35', '36', '37', '38', '39', '40', '41', '42', '43', '44'])"
      ]
     },
     "execution_count": 17,
     "metadata": {},
     "output_type": "execute_result"
    }
   ],
   "source": [
    "task_table.keys()"
   ]
  },
  {
   "cell_type": "code",
   "execution_count": 19,
   "metadata": {},
   "outputs": [
    {
     "data": {
      "text/plain": [
       "'/scratch/users/alexg8/Data/Li/Li_OF_061118_Results'"
      ]
     },
     "execution_count": 19,
     "metadata": {},
     "output_type": "execute_result"
    }
   ],
   "source": [
    "taskID=3\n",
    "session=task_table[str(taskID)]\n",
    "session.keys()\n",
    "session['sp']"
   ]
  },
  {
   "cell_type": "code",
   "execution_count": 13,
   "metadata": {},
   "outputs": [
    {
     "data": {
      "text/plain": [
       "{'1': {'filenames': ['/scratch/users/alexg8/Data/Li/Li_OF_061118/CSC1a.ncs',\n",
       "   '/scratch/users/alexg8/Data/Li/Li_OF_061118/CSC1b.ncs',\n",
       "   '/scratch/users/alexg8/Data/Li/Li_OF_061118/CSC1c.ncs',\n",
       "   '/scratch/users/alexg8/Data/Li/Li_OF_061118/CSC1d.ncs'],\n",
       "  'sp': '/scratch/users/alexg8/Data/Li/Li_OF_061118_Results',\n",
       "  'subSessionID': '0000',\n",
       "  'tt_id': '1',\n",
       "  'type': 'tt'},\n",
       " '10': {'filenames': ['/scratch/users/alexg8/Data/Li/Li_OF_061118/CSC10a.ncs',\n",
       "   '/scratch/users/alexg8/Data/Li/Li_OF_061118/CSC10b.ncs',\n",
       "   '/scratch/users/alexg8/Data/Li/Li_OF_061118/CSC10c.ncs',\n",
       "   '/scratch/users/alexg8/Data/Li/Li_OF_061118/CSC10d.ncs'],\n",
       "  'sp': '/scratch/users/alexg8/Data/Li/Li_OF_061118_Results',\n",
       "  'subSessionID': '0000',\n",
       "  'tt_id': '10',\n",
       "  'type': 'tt'},\n",
       " '11': {'filenames': ['/scratch/users/alexg8/Data/Li/Li_OF_061118/CSC11a.ncs',\n",
       "   '/scratch/users/alexg8/Data/Li/Li_OF_061118/CSC11b.ncs',\n",
       "   '/scratch/users/alexg8/Data/Li/Li_OF_061118/CSC11c.ncs',\n",
       "   '/scratch/users/alexg8/Data/Li/Li_OF_061118/CSC11d.ncs'],\n",
       "  'sp': '/scratch/users/alexg8/Data/Li/Li_OF_061118_Results',\n",
       "  'subSessionID': '0000',\n",
       "  'tt_id': '11',\n",
       "  'type': 'tt'},\n",
       " '12': {'filenames': ['/scratch/users/alexg8/Data/Li/Li_OF_061118/CSC12a.ncs',\n",
       "   '/scratch/users/alexg8/Data/Li/Li_OF_061118/CSC12b.ncs',\n",
       "   '/scratch/users/alexg8/Data/Li/Li_OF_061118/CSC12c.ncs',\n",
       "   '/scratch/users/alexg8/Data/Li/Li_OF_061118/CSC12d.ncs'],\n",
       "  'sp': '/scratch/users/alexg8/Data/Li/Li_OF_061118_Results',\n",
       "  'subSessionID': '0000',\n",
       "  'tt_id': '12',\n",
       "  'type': 'tt'},\n",
       " '13': {'filenames': ['/scratch/users/alexg8/Data/Li/Li_OF_061118/CSC13a.ncs',\n",
       "   '/scratch/users/alexg8/Data/Li/Li_OF_061118/CSC13b.ncs',\n",
       "   '/scratch/users/alexg8/Data/Li/Li_OF_061118/CSC13c.ncs',\n",
       "   '/scratch/users/alexg8/Data/Li/Li_OF_061118/CSC13d.ncs'],\n",
       "  'sp': '/scratch/users/alexg8/Data/Li/Li_OF_061118_Results',\n",
       "  'subSessionID': '0000',\n",
       "  'tt_id': '13',\n",
       "  'type': 'tt'},\n",
       " '14': {'filenames': ['/scratch/users/alexg8/Data/Li/Li_OF_061118/CSC14a.ncs',\n",
       "   '/scratch/users/alexg8/Data/Li/Li_OF_061118/CSC14b.ncs',\n",
       "   '/scratch/users/alexg8/Data/Li/Li_OF_061118/CSC14c.ncs',\n",
       "   '/scratch/users/alexg8/Data/Li/Li_OF_061118/CSC14d.ncs'],\n",
       "  'sp': '/scratch/users/alexg8/Data/Li/Li_OF_061118_Results',\n",
       "  'subSessionID': '0000',\n",
       "  'tt_id': '14',\n",
       "  'type': 'tt'},\n",
       " '15': {'filenames': ['/scratch/users/alexg8/Data/Li/Li_OF_061118/CSC15a.ncs',\n",
       "   '/scratch/users/alexg8/Data/Li/Li_OF_061118/CSC15b.ncs',\n",
       "   '/scratch/users/alexg8/Data/Li/Li_OF_061118/CSC15c.ncs',\n",
       "   '/scratch/users/alexg8/Data/Li/Li_OF_061118/CSC15d.ncs'],\n",
       "  'sp': '/scratch/users/alexg8/Data/Li/Li_OF_061118_Results',\n",
       "  'subSessionID': '0000',\n",
       "  'tt_id': '15',\n",
       "  'type': 'tt'},\n",
       " '16': {'filenames': ['/scratch/users/alexg8/Data/Li/Li_OF_061118/CSC16a.ncs',\n",
       "   '/scratch/users/alexg8/Data/Li/Li_OF_061118/CSC16b.ncs',\n",
       "   '/scratch/users/alexg8/Data/Li/Li_OF_061118/CSC16c.ncs',\n",
       "   '/scratch/users/alexg8/Data/Li/Li_OF_061118/CSC16d.ncs'],\n",
       "  'sp': '/scratch/users/alexg8/Data/Li/Li_OF_061118_Results',\n",
       "  'subSessionID': '0000',\n",
       "  'tt_id': '16',\n",
       "  'type': 'tt'},\n",
       " '17': {'filenames': '/scratch/users/alexg8/Data/Li/Li_OF_061118/VT1.nvt',\n",
       "  'sp': '/scratch/users/alexg8/Data/Li/Li_OF_061118_Results',\n",
       "  'subSessionID': '0000',\n",
       "  'type': 'vt'},\n",
       " '18': {'filenames': '/scratch/users/alexg8/Data/Li/Li_OF_061118/Events.nev',\n",
       "  'sp': '/scratch/users/alexg8/Data/Li/Li_OF_061118_Results',\n",
       "  'subSessionID': '0000',\n",
       "  'type': 'ev'},\n",
       " '2': {'filenames': ['/scratch/users/alexg8/Data/Li/Li_OF_061118/CSC2a.ncs',\n",
       "   '/scratch/users/alexg8/Data/Li/Li_OF_061118/CSC2b.ncs',\n",
       "   '/scratch/users/alexg8/Data/Li/Li_OF_061118/CSC2c.ncs',\n",
       "   '/scratch/users/alexg8/Data/Li/Li_OF_061118/CSC2d.ncs'],\n",
       "  'sp': '/scratch/users/alexg8/Data/Li/Li_OF_061118_Results',\n",
       "  'subSessionID': '0000',\n",
       "  'tt_id': '2',\n",
       "  'type': 'tt'},\n",
       " '3': {'filenames': ['/scratch/users/alexg8/Data/Li/Li_OF_061118/CSC3a.ncs',\n",
       "   '/scratch/users/alexg8/Data/Li/Li_OF_061118/CSC3b.ncs',\n",
       "   '/scratch/users/alexg8/Data/Li/Li_OF_061118/CSC3c.ncs',\n",
       "   '/scratch/users/alexg8/Data/Li/Li_OF_061118/CSC3d.ncs'],\n",
       "  'sp': '/scratch/users/alexg8/Data/Li/Li_OF_061118_Results',\n",
       "  'subSessionID': '0000',\n",
       "  'tt_id': '3',\n",
       "  'type': 'tt'},\n",
       " '4': {'filenames': ['/scratch/users/alexg8/Data/Li/Li_OF_061118/CSC4a.ncs',\n",
       "   '/scratch/users/alexg8/Data/Li/Li_OF_061118/CSC4b.ncs',\n",
       "   '/scratch/users/alexg8/Data/Li/Li_OF_061118/CSC4c.ncs',\n",
       "   '/scratch/users/alexg8/Data/Li/Li_OF_061118/CSC4d.ncs'],\n",
       "  'sp': '/scratch/users/alexg8/Data/Li/Li_OF_061118_Results',\n",
       "  'subSessionID': '0000',\n",
       "  'tt_id': '4',\n",
       "  'type': 'tt'},\n",
       " '5': {'filenames': ['/scratch/users/alexg8/Data/Li/Li_OF_061118/CSC5a.ncs',\n",
       "   '/scratch/users/alexg8/Data/Li/Li_OF_061118/CSC5b.ncs',\n",
       "   '/scratch/users/alexg8/Data/Li/Li_OF_061118/CSC5c.ncs',\n",
       "   '/scratch/users/alexg8/Data/Li/Li_OF_061118/CSC5d.ncs'],\n",
       "  'sp': '/scratch/users/alexg8/Data/Li/Li_OF_061118_Results',\n",
       "  'subSessionID': '0000',\n",
       "  'tt_id': '5',\n",
       "  'type': 'tt'},\n",
       " '6': {'filenames': ['/scratch/users/alexg8/Data/Li/Li_OF_061118/CSC6a.ncs',\n",
       "   '/scratch/users/alexg8/Data/Li/Li_OF_061118/CSC6b.ncs',\n",
       "   '/scratch/users/alexg8/Data/Li/Li_OF_061118/CSC6c.ncs',\n",
       "   '/scratch/users/alexg8/Data/Li/Li_OF_061118/CSC6d.ncs'],\n",
       "  'sp': '/scratch/users/alexg8/Data/Li/Li_OF_061118_Results',\n",
       "  'subSessionID': '0000',\n",
       "  'tt_id': '6',\n",
       "  'type': 'tt'},\n",
       " '7': {'filenames': ['/scratch/users/alexg8/Data/Li/Li_OF_061118/CSC7a.ncs',\n",
       "   '/scratch/users/alexg8/Data/Li/Li_OF_061118/CSC7b.ncs',\n",
       "   '/scratch/users/alexg8/Data/Li/Li_OF_061118/CSC7c.ncs',\n",
       "   '/scratch/users/alexg8/Data/Li/Li_OF_061118/CSC7d.ncs'],\n",
       "  'sp': '/scratch/users/alexg8/Data/Li/Li_OF_061118_Results',\n",
       "  'subSessionID': '0000',\n",
       "  'tt_id': '7',\n",
       "  'type': 'tt'},\n",
       " '8': {'filenames': ['/scratch/users/alexg8/Data/Li/Li_OF_061118/CSC8a.ncs',\n",
       "   '/scratch/users/alexg8/Data/Li/Li_OF_061118/CSC8b.ncs',\n",
       "   '/scratch/users/alexg8/Data/Li/Li_OF_061118/CSC8c.ncs',\n",
       "   '/scratch/users/alexg8/Data/Li/Li_OF_061118/CSC8d.ncs'],\n",
       "  'sp': '/scratch/users/alexg8/Data/Li/Li_OF_061118_Results',\n",
       "  'subSessionID': '0000',\n",
       "  'tt_id': '8',\n",
       "  'type': 'tt'},\n",
       " '9': {'filenames': ['/scratch/users/alexg8/Data/Li/Li_OF_061118/CSC9a.ncs',\n",
       "   '/scratch/users/alexg8/Data/Li/Li_OF_061118/CSC9b.ncs',\n",
       "   '/scratch/users/alexg8/Data/Li/Li_OF_061118/CSC9c.ncs',\n",
       "   '/scratch/users/alexg8/Data/Li/Li_OF_061118/CSC9d.ncs'],\n",
       "  'sp': '/scratch/users/alexg8/Data/Li/Li_OF_061118_Results',\n",
       "  'subSessionID': '0000',\n",
       "  'tt_id': '9',\n",
       "  'type': 'tt'}}"
      ]
     },
     "execution_count": 13,
     "metadata": {},
     "output_type": "execute_result"
    }
   ],
   "source": [
    "task_list=session['Files']\n",
    "task_list"
   ]
  },
  {
   "cell_type": "code",
   "execution_count": 37,
   "metadata": {
    "collapsed": true
   },
   "outputs": [],
   "source": [
    "task = task_list[str(1)]\n",
    "b = np.fromfile('filt_b.dat',dtype='float',sep=',')\n",
    "a = np.fromfile('filt_a.dat',dtype='float',sep=',')"
   ]
  },
  {
   "cell_type": "code",
   "execution_count": 38,
   "metadata": {
    "collapsed": true
   },
   "outputs": [],
   "source": [
    "# Unpack the tetrode information.\n",
    "tt_id = task['tt_id']\n",
    "csc_files = task['filenames']\n",
    "sp = Path(task['sp'])\n",
    "ss = task['subSessionID']\n",
    "\n",
    "if ss=='0000':\n",
    "    ttFile = 'tt_{}'.format(tt_id)\n",
    "else:\n",
    "    ttFile = 'tt_{}_{}'.format(tt_id,ss)"
   ]
  },
  {
   "cell_type": "code",
   "execution_count": 40,
   "metadata": {
    "collapsed": true
   },
   "outputs": [],
   "source": [
    "# load first channel\n",
    "f =[]\n",
    "f.append(csc_files[0])\n",
    "try:\n",
    "    h1  = get_header(f[0])\n",
    "    sig,time_stamps = get_csc(f[0])\n",
    "    nSamps = len(sig)\n",
    "except:\n",
    "    sys.exit('Could not read first channel. Aborting.')"
   ]
  },
  {
   "cell_type": "code",
   "execution_count": 45,
   "metadata": {
    "collapsed": true
   },
   "outputs": [],
   "source": [
    "# create information file\n",
    "AmpPercentileThr=0.975\n",
    "info  = {'tetrodeID':[tt_id],'RefChan':h1['RefChan'],\n",
    "'fs':h1['fs'],'AmpPercentileThr':AmpPercentileThr,'nSamps':nSamps,\n",
    "'date_processed': date_str, 'subSessionID':ss}"
   ]
  },
  {
   "cell_type": "code",
   "execution_count": 47,
   "metadata": {
    "collapsed": true
   },
   "outputs": [],
   "source": [
    "chan_id=0"
   ]
  },
  {
   "cell_type": "code",
   "execution_count": 49,
   "metadata": {
    "collapsed": true
   },
   "outputs": [],
   "source": [
    "chan_id_str = str(chan_id)\n",
    "\n",
    "# get channel specific info\n",
    "h2  = get_header(f[chan_id])\n",
    "info['AD'+'_'+chan_id_str]=float(h2['AD'])\n",
    "info['InputRange'+'_'+chan_id_str]=h2['InputRange']\n",
    "info['AmpRejThr'+'_'+chan_id_str] = h2['InputRange']*AmpPercentileThr\n",
    "info['date_created'+'_'+chan_id_str]=get_file_date(f[chan_id])\n",
    "rejThr= h2['InputRange']*AmpPercentileThr\n"
   ]
  },
  {
   "cell_type": "code",
   "execution_count": 59,
   "metadata": {},
   "outputs": [
    {
     "name": "stdout",
     "output_type": "stream",
     "text": [
      "1545105304.146149\n"
     ]
    }
   ],
   "source": [
    "\n",
    "## Step 1. Filter.\n",
    "t1=time.time()\n",
    "fsig = FilterCSC(sig,b,a)\n",
    "t2=time.time()\n",
    "print(t2-t1)"
   ]
  },
  {
   "cell_type": "code",
   "execution_count": 62,
   "metadata": {
    "collapsed": true
   },
   "outputs": [],
   "source": [
    "def get_sig_stats(sig):\n",
    "    out = {}\n",
    "    out['std'] = np.std(sig)\n",
    "    out['rms'] = np.sqrt(np.nanmean(np.square(sig)))\n",
    "    out['mad'] = mad(sig)\n",
    "    out['min'] = np.nanmin(sig)\n",
    "    out['max'] = np.nanmax(sig)\n",
    "    return out"
   ]
  },
  {
   "cell_type": "code",
   "execution_count": 65,
   "metadata": {},
   "outputs": [
    {
     "data": {
      "text/plain": [
       "{'AD_0': 4.57763671875e-08,\n",
       " 'AmpPercentileThr': 0.975,\n",
       " 'AmpRejThr_0': 1462.5,\n",
       " 'InputRange_0': 1500,\n",
       " 'RefChan': 19,\n",
       " 'date_created_0': '10_31_2018',\n",
       " 'date_processed': '12_10_2018',\n",
       " 'fs': 32000,\n",
       " 'nSamps': 23124992,\n",
       " 'subSessionID': '0000',\n",
       " 'tetrodeID': ['1']}"
      ]
     },
     "execution_count": 65,
     "metadata": {},
     "output_type": "execute_result"
    }
   ],
   "source": [
    "sig_stats = get_sig_stats(sig)\n",
    "fsig_stats = get_sig_stats(fsig)"
   ]
  },
  {
   "cell_type": "code",
   "execution_count": 64,
   "metadata": {},
   "outputs": [
    {
     "name": "stdout",
     "output_type": "stream",
     "text": [
      "{'std': 43.169163, 'rms': 43.169216, 'mad': 20.004272, 'min': -887.46643, 'max': 860.73303}\n",
      "{'std': 6.122144309268347, 'rms': 6.122144309268438, 'mad': 4.1288697337287275, 'min': -58.316580413437734, 'max': 36.27634320661544}\n"
     ]
    }
   ],
   "source": [
    "print(sig_stats)\n",
    "print(fsig_stats)"
   ]
  },
  {
   "cell_type": "code",
   "execution_count": 71,
   "metadata": {},
   "outputs": [
    {
     "data": {
      "text/plain": [
       "{'mad': 20.004272,\n",
       " 'max': 860.73303,\n",
       " 'min': -887.46643,\n",
       " 'rms': 43.169216,\n",
       " 'std': 43.169163}"
      ]
     },
     "execution_count": 71,
     "metadata": {},
     "output_type": "execute_result"
    }
   ],
   "source": [
    "info['sig_stats_'+chan_id_str] = sig_stats\n",
    "info['sig_stats_'+chan_id_str]"
   ]
  },
  {
   "cell_type": "code",
   "execution_count": 61,
   "metadata": {},
   "outputs": [
    {
     "data": {
      "text/plain": [
       "(20.004272, 4.1288697337287275)"
      ]
     },
     "execution_count": 61,
     "metadata": {},
     "output_type": "execute_result"
    }
   ],
   "source": [
    "sig_mad = mad(sig)\n",
    "fsig_mad = mad(fsig)\n",
    "sig_mad, fsig_mad"
   ]
  },
  {
   "cell_type": "code",
   "execution_count": 79,
   "metadata": {},
   "outputs": [
    {
     "data": {
      "text/plain": [
       "'4.324e-04'"
      ]
     },
     "execution_count": 79,
     "metadata": {},
     "output_type": "execute_result"
    }
   ],
   "source": [
    "\n",
    "\n",
    "\"{0:0.3e}\".format(10000/nSamps)"
   ]
  }
 ],
 "metadata": {
  "kernelspec": {
   "display_name": "Python 3",
   "language": "python",
   "name": "python3"
  },
  "language_info": {
   "codemirror_mode": {
    "name": "ipython",
    "version": 3
   },
   "file_extension": ".py",
   "mimetype": "text/x-python",
   "name": "python",
   "nbconvert_exporter": "python",
   "pygments_lexer": "ipython3",
   "version": "3.6.1"
  }
 },
 "nbformat": 4,
 "nbformat_minor": 2
}

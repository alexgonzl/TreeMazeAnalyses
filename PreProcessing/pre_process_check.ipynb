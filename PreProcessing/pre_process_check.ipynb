{
 "cells": [
  {
   "cell_type": "code",
   "execution_count": 1,
   "metadata": {},
   "outputs": [
    {
     "name": "stderr",
     "output_type": "stream",
     "text": [
      "/Users/alexgonzalez/anaconda3/lib/python3.6/site-packages/h5py/__init__.py:36: FutureWarning: Conversion of the second argument of issubdtype from `float` to `np.floating` is deprecated. In future, it will be treated as `np.float64 == np.dtype(float).type`.\n",
      "  from ._conv import register_converters as _register_converters\n"
     ]
    }
   ],
   "source": [
    "import numpy as np\n",
    "import time\n",
    "import pandas as pd\n",
    "from pathlib import Path\n",
    "import sys\n",
    "import json\n",
    "import datetime\n",
    "from pre_process_tetrode import get_process_save_tetrode\n"
   ]
  },
  {
   "cell_type": "code",
   "execution_count": 2,
   "metadata": {},
   "outputs": [],
   "source": [
    "# make sure you are processing the right tasks by looking at the file.\n",
    "AnimalID = 'Li'\n",
    "date_obj = datetime.date.today()\n",
    "date_str= \"%s_%s_%s\" % (date_obj.month,date_obj.day,date_obj.year)\n",
    "\n",
    "TaskDir = Path('../PreProcessing/TasksDir/')\n",
    "\n",
    "with open(str(TaskDir) + '/PreProcessingTable_{}_{}.json'.format(AnimalID,date_str), 'r') as f:\n",
    "        task_table = json.load(f)"
   ]
  },
  {
   "cell_type": "code",
   "execution_count": 3,
   "metadata": {},
   "outputs": [
    {
     "data": {
      "text/plain": [
       "{'filename': ['CSC1a.ncs', 'CSC1b.ncs', 'CSC1c.ncs', 'CSC1d.ncs'],\n",
       " 'filepath': '/Users/alexgonzalez/Google Drive/PostDoc/Data/T3g/Li/Li_T3g_060418',\n",
       " 'savepath': '/Users/alexgonzalez/Google Drive/PostDoc/Data/T3g/Li/Li_T3g_060418_Results',\n",
       " 'tt_id': '1',\n",
       " 'type': 'tt'}"
      ]
     },
     "execution_count": 3,
     "metadata": {},
     "output_type": "execute_result"
    }
   ],
   "source": [
    "task_table[str(3)]"
   ]
  },
  {
   "cell_type": "code",
   "execution_count": 4,
   "metadata": {},
   "outputs": [],
   "source": [
    "task=task_table[str(3)]\n",
    "fp = Path(task['filepath'])\n",
    "csc = task['filename']"
   ]
  },
  {
   "cell_type": "code",
   "execution_count": 5,
   "metadata": {},
   "outputs": [
    {
     "data": {
      "text/plain": [
       "True"
      ]
     },
     "execution_count": 5,
     "metadata": {},
     "output_type": "execute_result"
    }
   ],
   "source": [
    "(fp/csc[0]).exists()"
   ]
  },
  {
   "cell_type": "code",
   "execution_count": 6,
   "metadata": {},
   "outputs": [
    {
     "name": "stdout",
     "output_type": "stream",
     "text": [
      "\n",
      "Processing Tetrode 1 Channel 0\n",
      "Time to filter the signal 23.76\n",
      "Number of rejected samples 0\n",
      "Time to reject bad signal segments 0.22\n",
      "Time to normalize signal 6.53\n",
      "Total time to preprocess the signal 30.51\n",
      "Processing TT 1 Channel 0 completed.\n",
      "\n",
      "\n",
      "Processing Tetrode 1 Channel 1\n",
      "Time to filter the signal 25.04\n",
      "Number of rejected samples 13174852\n",
      "Time to reject bad signal segments 0.33\n",
      "Time to normalize signal 5.44\n",
      "Total time to preprocess the signal 30.81\n",
      "Processing TT 1 Channel 1 completed.\n",
      "\n",
      "\n",
      "Processing Tetrode 1 Channel 2\n",
      "Time to filter the signal 26.89\n",
      "Number of rejected samples 0\n",
      "Time to reject bad signal segments 0.20\n",
      "Time to normalize signal 11.09\n",
      "Total time to preprocess the signal 38.19\n",
      "Processing TT 1 Channel 2 completed.\n",
      "\n",
      "\n",
      "Processing Tetrode 1 Channel 3\n",
      "Time to filter the signal 28.06\n",
      "Number of rejected samples 0\n",
      "Time to reject bad signal segments 0.20\n",
      "Time to normalize signal 6.96\n",
      "Total time to preprocess the signal 35.23\n",
      "Processing TT 1 Channel 3 completed.\n",
      "\n",
      "Tetrode 1 results saved to /Users/alexgonzalez/Google Drive/PostDoc/Data/T3g/Li/Li_T3g_060418_Results\n",
      "tetrodeID ['1']\n",
      "RefChan 19\n",
      "fs 32000\n",
      "AmpPercentileThr 0.975\n",
      "nSamps 84348928\n",
      "date_processed 11_8_2018\n",
      "AD_0 4.57763671875e-08\n",
      "InputRange_0 1500\n",
      "AmpRejThr_0 1462.5\n",
      "date_created_0 6_4_2018\n",
      "nBadAmpSamps_0 0\n",
      "AD_1 3.662109375e-08\n",
      "InputRange_1 1200\n",
      "AmpRejThr_1 1170.0\n",
      "date_created_1 6_4_2018\n",
      "nBadAmpSamps_1 13174852\n",
      "AD_2 3.662109375e-08\n",
      "InputRange_2 1200\n",
      "AmpRejThr_2 1170.0\n",
      "date_created_2 6_4_2018\n",
      "nBadAmpSamps_2 0\n",
      "AD_3 3.662109375e-08\n",
      "InputRange_3 1200\n",
      "AmpRejThr_3 1170.0\n",
      "date_created_3 6_4_2018\n",
      "nBadAmpSamps_3 0\n"
     ]
    }
   ],
   "source": [
    "get_process_save_tetrode(task)"
   ]
  }
 ],
 "metadata": {
  "kernelspec": {
   "display_name": "Python 3",
   "language": "python",
   "name": "python3"
  },
  "language_info": {
   "codemirror_mode": {
    "name": "ipython",
    "version": 3
   },
   "file_extension": ".py",
   "mimetype": "text/x-python",
   "name": "python",
   "nbconvert_exporter": "python",
   "pygments_lexer": "ipython3",
   "version": "3.6.4"
  }
 },
 "nbformat": 4,
 "nbformat_minor": 2
}

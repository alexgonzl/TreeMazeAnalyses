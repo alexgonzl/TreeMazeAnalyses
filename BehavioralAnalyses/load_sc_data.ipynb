{
 "cells": [
  {
   "cell_type": "code",
   "execution_count": 21,
   "metadata": {},
   "outputs": [],
   "source": [
    "import numpy as np\n",
    "import h5py \n",
    "from pathlib import Path\n",
    "import time\n",
    "import matplotlib.pyplot as plt\n",
    "datPath = Path('/Users/alexgonzalez/Google Drive/PostDoc/Data/Li_T3g_060418_Results2/sc')\n",
    "#    txy2=f.get('txy').value  "
   ]
  },
  {
   "cell_type": "code",
   "execution_count": 11,
   "metadata": {},
   "outputs": [],
   "source": [
    "ttID = 3\n",
    "tt_files=[]\n",
    "for i in datPath.glob('tt_'+str(ttID)+'.*'):\n",
    "    if i.stat().st_size>16384:\n",
    "        tt_files.append((i.name, i.stem, str(i.absolute()),  time.ctime(i.stat().st_atime)))\n",
    "\n"
   ]
  },
  {
   "cell_type": "code",
   "execution_count": 31,
   "metadata": {},
   "outputs": [],
   "source": [
    "with h5py.File(str(datPath)+'/tt_'+str(ttID)+'.clusters.hdf5', 'r') as f:\n",
    "    c={}\n",
    "    for key in f.keys():\n",
    "        c[key]=f.get(key).value"
   ]
  },
  {
   "cell_type": "code",
   "execution_count": 33,
   "metadata": {},
   "outputs": [],
   "source": [
    "with h5py.File(str(datPath)+'/tt_'+str(ttID)+'.templates.hdf5', 'r') as f:\n",
    "    t={}\n",
    "    for key in f.keys():\n",
    "        t[key]=f.get(key).value"
   ]
  },
  {
   "cell_type": "code",
   "execution_count": 114,
   "metadata": {},
   "outputs": [
    {
     "data": {
      "text/plain": [
       "{'limits': array([[0.72601736, 1.6786287 ],\n",
       "        [0.6332868 , 1.3520367 ],\n",
       "        [0.7064481 , 1.4474168 ],\n",
       "        [0.730841  , 1.4054961 ],\n",
       "        [0.8       , 1.7870964 ],\n",
       "        [0.7448689 , 1.7713314 ],\n",
       "        [0.7295523 , 1.4722539 ],\n",
       "        [0.7499893 , 1.3702853 ],\n",
       "        [0.75707346, 1.4907256 ],\n",
       "        [0.61533296, 1.6097758 ],\n",
       "        [0.627839  , 1.8735521 ],\n",
       "        [0.7370675 , 1.4559162 ],\n",
       "        [0.70203894, 1.3473747 ],\n",
       "        [0.8       , 1.8734021 ],\n",
       "        [0.7441231 , 2.0433893 ],\n",
       "        [0.77085143, 1.3058841 ],\n",
       "        [0.7328486 , 1.2535007 ],\n",
       "        [0.761471  , 1.573879  ],\n",
       "        [0.8       , 1.8713477 ]], dtype=float32),\n",
       " 'maxlag': array([[  0,   2,   1,   0, -24,   1,   1,   1,   0,  21,   0,   1,   0,\n",
       "          38,   0,  -5,   1,   0,  26],\n",
       "        [ -2,   0,   1,  -2, -23,   0,   0,   0,  -2,  20,  -3,   1,  -1,\n",
       "         -24,  -1,  -8,  -1,  -4, -26],\n",
       "        [ -1,  -1,   0, -26,  27,   0,   1,   0,   1,   2,   0,   2, -18,\n",
       "          26,   0, -11,  39, -20,  26],\n",
       "        [  0,   2,  26,   0, -12,   1,  28,  25,   0,  30,   1,   1,   2,\n",
       "         -12,   1,   1,   1,   1, -13],\n",
       "        [ 24,  23, -27,  12,   0,  27, -19, -30, -26, -17,  22, -11,  22,\n",
       "           1, -30, -36,  18,  22,   1],\n",
       "        [ -1,   0,   0,  -1, -27,   0,   1,   1,   1,  21,   1,   2,   1,\n",
       "          39,   1,  -1,   1,   0,  30],\n",
       "        [ -1,   0,  -1, -28,  19,  -1,   0,   0,   1,   1,   1,   2,  46,\n",
       "          20,   0, -14,  38, -23,  20],\n",
       "        [ -1,   0,   0, -25,  30,  -1,   0,   0,   1,   2,   1,   2, -21,\n",
       "          31,   1,  -1,  45, -21,  30],\n",
       "        [  0,   2,  -1,   0,  26,  -1,  -1,  -1,   0,   2,   1,   2,   2,\n",
       "          27,   1,   0,   1, -21,  28],\n",
       "        [-21, -20,  -2, -30,  17, -21,  -1,  -2,  -2,   0,   1,   1,  44,\n",
       "          18, -18, -20,  35, -27,  18],\n",
       "        [  0,   3,   0,  -1, -22,  -1,  -1,  -1,  -1,  -1,   0,   2,   1,\n",
       "         -20,   1,   0,   1,   1, -22],\n",
       "        [ -1,  -1,  -2,  -1,  11,  -2,  -2,  -2,  -2,  -1,  -2,   0,   1,\n",
       "          13,   0, -12,   1,   0,  13],\n",
       "        [  0,   1,  18,  -2, -22,  -1, -46,  21,  -2, -44,  -1,  -1,   0,\n",
       "         -21,   1,   0,   0,   1, -22],\n",
       "        [-38,  24, -26,  12,  -1, -39, -20, -31, -27, -18,  20, -13,  21,\n",
       "           0, -37, -36,  20,  22,   1],\n",
       "        [  0,   1,   0,  -1,  30,  -1,   0,  -1,  -1,  18,  -1,   0,  -1,\n",
       "          37,   0,   0,   1,   0,  30],\n",
       "        [  5,   8,  11,  -1,  36,   1,  14,   1,   0,  20,   0,  12,   0,\n",
       "          36,   0,   0, -26,   1,  36],\n",
       "        [ -1,   1, -39,  -1, -18,  -1, -38, -45,  -1, -35,  -1,  -1,   0,\n",
       "         -20,  -1,  26,   0,   1, -18],\n",
       "        [  0,   4,  20,  -1, -22,   0,  23,  21,  21,  27,  -1,   0,  -1,\n",
       "         -22,   0,  -1,  -1,   0, -21],\n",
       "        [-26,  26, -26,  13,  -1, -30, -20, -30, -28, -18,  22, -13,  22,\n",
       "          -1, -30, -36,  18,  21,   0]]),\n",
       " 'maxoverlap': array([[  0.      , 353.16513 , 291.2664  , 247.0143  , 101.005356,\n",
       "         370.48807 , 278.04645 , 287.76895 , 285.49127 , 159.14877 ,\n",
       "         217.10782 , 287.7623  , 295.3324  ,  97.67487 , 322.61578 ,\n",
       "         236.83504 , 150.61005 , 212.52155 ,  99.65413 ],\n",
       "        [353.16513 ,   0.      , 263.78302 , 190.10152 , 161.88474 ,\n",
       "         336.32135 , 239.14798 , 212.60776 , 194.25986 , 122.737495,\n",
       "         197.16545 , 296.39096 , 309.91052 , 143.80225 , 285.1642  ,\n",
       "         239.39163 , 144.36781 , 211.23692 , 130.9196  ],\n",
       "        [291.2664  , 263.78302 ,   0.      , 126.979546, 218.52687 ,\n",
       "         280.60242 , 336.76953 , 344.33694 , 260.44278 , 247.87933 ,\n",
       "         127.903244, 186.54951 , 144.2235  , 220.6098  , 276.87344 ,\n",
       "         296.56418 , 128.70471 , 222.06326 , 228.90656 ],\n",
       "        [247.0143  , 190.10152 , 126.979546,   0.      , 197.97966 ,\n",
       "         240.4872  , 127.495445, 170.49216 , 211.02995 , 106.26272 ,\n",
       "         182.94284 , 203.1357  , 282.9951  , 190.28252 , 181.34457 ,\n",
       "         161.0072  , 241.10933 , 277.10754 , 173.71823 ],\n",
       "        [101.005356, 161.88474 , 218.52687 , 197.97966 ,   0.      ,\n",
       "         120.275795, 232.90373 , 183.7565  , 105.86397 , 222.79568 ,\n",
       "          85.606155, 164.71126 , 234.93361 , 374.55286 , 118.933624,\n",
       "         201.35655 , 160.11469 , 223.37183 , 358.819   ],\n",
       "        [370.48807 , 336.32135 , 280.60242 , 240.4872  , 120.275795,\n",
       "           0.      , 255.41058 , 300.82062 , 284.50116 , 183.89183 ,\n",
       "         239.99391 , 259.59695 , 312.4482  , 119.30615 , 351.5843  ,\n",
       "         276.30176 , 150.95108 , 253.649   , 113.06319 ],\n",
       "        [278.04645 , 239.14798 , 336.76953 , 127.495445, 232.90373 ,\n",
       "         255.41058 ,   0.      , 320.67502 , 299.07483 , 275.26337 ,\n",
       "         140.6433  , 262.0423  , 173.18056 , 231.36533 , 249.13533 ,\n",
       "         223.21954 , 127.786766, 184.48543 , 228.71457 ],\n",
       "        [287.76895 , 212.60776 , 344.33694 , 170.49216 , 183.7565  ,\n",
       "         300.82062 , 320.67502 ,   0.      , 320.03857 , 230.6611  ,\n",
       "         174.47337 , 163.77925 , 186.64258 , 183.6225  , 306.94235 ,\n",
       "         258.77713 , 117.35624 , 237.01852 , 191.68706 ],\n",
       "        [285.49127 , 194.25986 , 260.44278 , 211.02995 , 105.86397 ,\n",
       "         284.50116 , 299.07483 , 320.03857 ,   0.      , 208.52953 ,\n",
       "         191.77838 , 232.60547 , 140.63295 , 105.47134 , 278.53314 ,\n",
       "         196.53606 , 145.03708 , 142.35889 , 123.86377 ],\n",
       "        [159.14877 , 122.737495, 247.87933 , 106.26272 , 222.79568 ,\n",
       "         183.89183 , 275.26337 , 230.6611  , 208.52953 ,   0.      ,\n",
       "         183.11818 , 168.63509 , 143.9084  , 238.64769 , 187.45692 ,\n",
       "         225.5996  , 118.83906 , 162.60109 , 236.68233 ],\n",
       "        [217.10782 , 197.16545 , 127.903244, 182.94284 ,  85.606155,\n",
       "         239.99391 , 140.6433  , 174.47337 , 191.77838 , 183.11818 ,\n",
       "           0.      , 208.46388 , 249.50493 ,  88.0544  , 251.68706 ,\n",
       "         199.89053 , 177.72763 , 212.84854 ,  79.52959 ],\n",
       "        [287.7623  , 296.39096 , 186.54951 , 203.1357  , 164.71126 ,\n",
       "         259.59695 , 262.0423  , 163.77925 , 232.60547 , 168.63509 ,\n",
       "         208.46388 ,   0.      , 246.01395 , 174.06677 , 226.75468 ,\n",
       "          92.84157 , 248.68806 , 122.47404 , 165.26613 ],\n",
       "        [295.3324  , 309.91052 , 144.2235  , 282.9951  , 234.93361 ,\n",
       "         312.4482  , 173.18056 , 186.64258 , 140.63295 , 143.9084  ,\n",
       "         249.50493 , 246.01395 ,   0.      , 224.33385 , 260.85168 ,\n",
       "         199.58417 , 212.07713 , 331.8927  , 215.74823 ],\n",
       "        [ 97.67487 , 143.80225 , 220.6098  , 190.28252 , 374.55286 ,\n",
       "         119.30615 , 231.36533 , 183.6225  , 105.47134 , 238.64769 ,\n",
       "          88.0544  , 174.06677 , 224.33385 ,   0.      , 122.24244 ,\n",
       "         203.4163  , 165.52492 , 216.47469 , 370.80328 ],\n",
       "        [322.61578 , 285.1642  , 276.87344 , 181.34457 , 118.933624,\n",
       "         351.5843  , 249.13533 , 306.94235 , 278.53314 , 187.45692 ,\n",
       "         251.68706 , 226.75468 , 260.85168 , 122.24244 ,   0.      ,\n",
       "         290.42947 , 174.66284 , 242.64891 , 131.69615 ],\n",
       "        [236.83504 , 239.39163 , 296.56418 , 161.0072  , 201.35655 ,\n",
       "         276.30176 , 223.21954 , 258.77713 , 196.53606 , 225.5996  ,\n",
       "         199.89053 ,  92.84157 , 199.58417 , 203.4163  , 290.42947 ,\n",
       "           0.      , 155.83752 , 256.34546 , 211.39713 ],\n",
       "        [150.61005 , 144.36781 , 128.70471 , 241.10933 , 160.11469 ,\n",
       "         150.95108 , 127.786766, 117.35624 , 145.03708 , 118.83906 ,\n",
       "         177.72763 , 248.68806 , 212.07713 , 165.52492 , 174.66284 ,\n",
       "         155.83752 ,   0.      , 199.82625 , 171.50345 ],\n",
       "        [212.52155 , 211.23692 , 222.06326 , 277.10754 , 223.37183 ,\n",
       "         253.649   , 184.48543 , 237.01852 , 142.35889 , 162.60109 ,\n",
       "         212.84854 , 122.47404 , 331.8927  , 216.47469 , 242.64891 ,\n",
       "         256.34546 , 199.82625 ,   0.      , 214.90706 ],\n",
       "        [ 99.65413 , 130.9196  , 228.90656 , 173.71823 , 358.819   ,\n",
       "         113.06319 , 228.71457 , 191.68706 , 123.86377 , 236.68233 ,\n",
       "          79.52959 , 165.26613 , 215.74823 , 370.80328 , 131.69615 ,\n",
       "         211.39713 , 171.50345 , 214.90706 ,   0.      ]], dtype=float32),\n",
       " 'norms': array([0.74850935, 1.1479611 , 1.1812495 , 0.7670611 , 0.7992766 ,\n",
       "        0.82687443, 1.0023534 , 0.94678795, 0.75986785, 0.8327649 ,\n",
       "        0.5228935 , 0.9708482 , 1.1127173 , 0.8145237 , 0.66046023,\n",
       "        1.127696  , 0.7082073 , 0.9841799 , 0.7633119 , 0.05076732,\n",
       "        0.05076731, 0.05076731, 0.05076731, 0.05076733, 0.05076732,\n",
       "        0.05076729, 0.05076732, 0.0507673 , 0.0507673 , 0.05076731,\n",
       "        0.05076732, 0.05076732, 0.05076733, 0.05076731, 0.05076731,\n",
       "        0.0507673 , 0.05076731, 0.05076731], dtype=float32),\n",
       " 'temp_data': array([ 0.35207456,  0.11589964,  0.11363611, ..., -0.01164196,\n",
       "        -0.05973516,  0.03769852], dtype=float32),\n",
       " 'temp_shape': array([ 4, 97, 38], dtype=int32),\n",
       " 'temp_x': array([  0,   0,   0, ..., 387, 387, 387], dtype=int32),\n",
       " 'temp_y': array([ 0,  1,  2, ..., 35, 36, 37], dtype=int32),\n",
       " 'version': array([0, 6, 7], dtype=int32)}"
      ]
     },
     "execution_count": 114,
     "metadata": {},
     "output_type": "execute_result"
    }
   ],
   "source": []
  },
  {
   "cell_type": "code",
   "execution_count": 107,
   "metadata": {},
   "outputs": [],
   "source": [
    "with h5py.File(str(datPath)+'/tt_'+str(ttID)+'.result.hdf5', 'r') as f:\n",
    "    rk={}\n",
    "    rv={}\n",
    "    for key in f.keys():\n",
    "        rk[key]=list(f.get(key).keys())\n",
    "        rv[key]={}\n",
    "        for key2 in rk[key]:\n",
    "            rv[key][key2]=f.get(key).get(key2).value"
   ]
  },
  {
   "cell_type": "code",
   "execution_count": 128,
   "metadata": {},
   "outputs": [
    {
     "name": "stdout",
     "output_type": "stream",
     "text": [
      "BehavPerfExtract_fromRawBehavSheet.ipynb\r\n",
      "BehavPerfPlots.ipynb\r\n",
      "MazePerformance.xlsx\r\n",
      "Ne_O Behav_Perf.ipynb\r\n",
      "Ne_O_BehavPerf.pdf\r\n",
      "Untitled-Copy1.ipynb\r\n",
      "Untitled.ipynb\r\n"
     ]
    }
   ],
   "source": [
    "ls"
   ]
  },
  {
   "cell_type": "code",
   "execution_count": 140,
   "metadata": {},
   "outputs": [
    {
     "ename": "ValueError",
     "evalue": "x and y must be equal length",
     "output_type": "error",
     "traceback": [
      "\u001b[0;31m---------------------------------------------------------------------------\u001b[0m",
      "\u001b[0;31mValueError\u001b[0m                                Traceback (most recent call last)",
      "\u001b[0;32m<ipython-input-140-e1e1b006a988>\u001b[0m in \u001b[0;36m<module>\u001b[0;34m()\u001b[0m\n\u001b[0;32m----> 1\u001b[0;31m \u001b[0mplt\u001b[0m\u001b[0;34m.\u001b[0m\u001b[0mxcorr\u001b[0m\u001b[0;34m(\u001b[0m\u001b[0mnp\u001b[0m\u001b[0;34m.\u001b[0m\u001b[0marray\u001b[0m\u001b[0;34m(\u001b[0m\u001b[0mrv\u001b[0m\u001b[0;34m[\u001b[0m\u001b[0;34m'spiketimes'\u001b[0m\u001b[0;34m]\u001b[0m\u001b[0;34m[\u001b[0m\u001b[0;34m'temp_0'\u001b[0m\u001b[0;34m]\u001b[0m\u001b[0;34m,\u001b[0m\u001b[0mdtype\u001b[0m\u001b[0;34m=\u001b[0m\u001b[0mnp\u001b[0m\u001b[0;34m.\u001b[0m\u001b[0mfloat\u001b[0m\u001b[0;34m)\u001b[0m\u001b[0;34m,\u001b[0m\u001b[0mnp\u001b[0m\u001b[0;34m.\u001b[0m\u001b[0marray\u001b[0m\u001b[0;34m(\u001b[0m\u001b[0mrv\u001b[0m\u001b[0;34m[\u001b[0m\u001b[0;34m'spiketimes'\u001b[0m\u001b[0;34m]\u001b[0m\u001b[0;34m[\u001b[0m\u001b[0;34m'temp_1'\u001b[0m\u001b[0;34m]\u001b[0m\u001b[0;34m,\u001b[0m\u001b[0mdtype\u001b[0m\u001b[0;34m=\u001b[0m\u001b[0mnp\u001b[0m\u001b[0;34m.\u001b[0m\u001b[0mfloat\u001b[0m\u001b[0;34m)\u001b[0m\u001b[0;34m,\u001b[0m\u001b[0;34m)\u001b[0m\u001b[0;34m\u001b[0m\u001b[0m\n\u001b[0m",
      "\u001b[0;32m~/anaconda3/lib/python3.6/site-packages/matplotlib/pyplot.py\u001b[0m in \u001b[0;36mxcorr\u001b[0;34m(x, y, normed, detrend, usevlines, maxlags, hold, data, **kwargs)\u001b[0m\n\u001b[1;32m   3697\u001b[0m         ret = ax.xcorr(x, y, normed=normed, detrend=detrend,\n\u001b[1;32m   3698\u001b[0m                        \u001b[0musevlines\u001b[0m\u001b[0;34m=\u001b[0m\u001b[0musevlines\u001b[0m\u001b[0;34m,\u001b[0m \u001b[0mmaxlags\u001b[0m\u001b[0;34m=\u001b[0m\u001b[0mmaxlags\u001b[0m\u001b[0;34m,\u001b[0m \u001b[0mdata\u001b[0m\u001b[0;34m=\u001b[0m\u001b[0mdata\u001b[0m\u001b[0;34m,\u001b[0m\u001b[0;34m\u001b[0m\u001b[0m\n\u001b[0;32m-> 3699\u001b[0;31m                        **kwargs)\n\u001b[0m\u001b[1;32m   3700\u001b[0m     \u001b[0;32mfinally\u001b[0m\u001b[0;34m:\u001b[0m\u001b[0;34m\u001b[0m\u001b[0m\n\u001b[1;32m   3701\u001b[0m         \u001b[0max\u001b[0m\u001b[0;34m.\u001b[0m\u001b[0m_hold\u001b[0m \u001b[0;34m=\u001b[0m \u001b[0mwashold\u001b[0m\u001b[0;34m\u001b[0m\u001b[0m\n",
      "\u001b[0;32m~/anaconda3/lib/python3.6/site-packages/matplotlib/__init__.py\u001b[0m in \u001b[0;36minner\u001b[0;34m(ax, *args, **kwargs)\u001b[0m\n\u001b[1;32m   1715\u001b[0m                     warnings.warn(msg % (label_namer, func.__name__),\n\u001b[1;32m   1716\u001b[0m                                   RuntimeWarning, stacklevel=2)\n\u001b[0;32m-> 1717\u001b[0;31m             \u001b[0;32mreturn\u001b[0m \u001b[0mfunc\u001b[0m\u001b[0;34m(\u001b[0m\u001b[0max\u001b[0m\u001b[0;34m,\u001b[0m \u001b[0;34m*\u001b[0m\u001b[0margs\u001b[0m\u001b[0;34m,\u001b[0m \u001b[0;34m**\u001b[0m\u001b[0mkwargs\u001b[0m\u001b[0;34m)\u001b[0m\u001b[0;34m\u001b[0m\u001b[0m\n\u001b[0m\u001b[1;32m   1718\u001b[0m         \u001b[0mpre_doc\u001b[0m \u001b[0;34m=\u001b[0m \u001b[0minner\u001b[0m\u001b[0;34m.\u001b[0m\u001b[0m__doc__\u001b[0m\u001b[0;34m\u001b[0m\u001b[0m\n\u001b[1;32m   1719\u001b[0m         \u001b[0;32mif\u001b[0m \u001b[0mpre_doc\u001b[0m \u001b[0;32mis\u001b[0m \u001b[0;32mNone\u001b[0m\u001b[0;34m:\u001b[0m\u001b[0;34m\u001b[0m\u001b[0m\n",
      "\u001b[0;32m~/anaconda3/lib/python3.6/site-packages/matplotlib/axes/_axes.py\u001b[0m in \u001b[0;36mxcorr\u001b[0;34m(self, x, y, normed, detrend, usevlines, maxlags, **kwargs)\u001b[0m\n\u001b[1;32m   1727\u001b[0m         \u001b[0mNx\u001b[0m \u001b[0;34m=\u001b[0m \u001b[0mlen\u001b[0m\u001b[0;34m(\u001b[0m\u001b[0mx\u001b[0m\u001b[0;34m)\u001b[0m\u001b[0;34m\u001b[0m\u001b[0m\n\u001b[1;32m   1728\u001b[0m         \u001b[0;32mif\u001b[0m \u001b[0mNx\u001b[0m \u001b[0;34m!=\u001b[0m \u001b[0mlen\u001b[0m\u001b[0;34m(\u001b[0m\u001b[0my\u001b[0m\u001b[0;34m)\u001b[0m\u001b[0;34m:\u001b[0m\u001b[0;34m\u001b[0m\u001b[0m\n\u001b[0;32m-> 1729\u001b[0;31m             \u001b[0;32mraise\u001b[0m \u001b[0mValueError\u001b[0m\u001b[0;34m(\u001b[0m\u001b[0;34m'x and y must be equal length'\u001b[0m\u001b[0;34m)\u001b[0m\u001b[0;34m\u001b[0m\u001b[0m\n\u001b[0m\u001b[1;32m   1730\u001b[0m \u001b[0;34m\u001b[0m\u001b[0m\n\u001b[1;32m   1731\u001b[0m         \u001b[0mx\u001b[0m \u001b[0;34m=\u001b[0m \u001b[0mdetrend\u001b[0m\u001b[0;34m(\u001b[0m\u001b[0mnp\u001b[0m\u001b[0;34m.\u001b[0m\u001b[0masarray\u001b[0m\u001b[0;34m(\u001b[0m\u001b[0mx\u001b[0m\u001b[0;34m)\u001b[0m\u001b[0;34m)\u001b[0m\u001b[0;34m\u001b[0m\u001b[0m\n",
      "\u001b[0;31mValueError\u001b[0m: x and y must be equal length"
     ]
    },
    {
     "data": {
      "image/png": "[encoded data removed]",
      "text/plain": [
       "<matplotlib.figure.Figure at 0x1c1819b828>"
      ]
     },
     "metadata": {},
     "output_type": "display_data"
    }
   ],
   "source": [
    "plt.xcorr(np.array(rv['spiketimes']['temp_0'],dtype=np.float),np.array(rv['spiketimes']['temp_1'],dtype=np.float),)"
   ]
  },
  {
   "cell_type": "code",
   "execution_count": 117,
   "metadata": {},
   "outputs": [
    {
     "name": "stdout",
     "output_type": "stream",
     "text": [
      "\u001b[31m----------------------------  Error  -----------------------------\r\n",
      "\u001b[31m| The probe file /Users/alexgonzalez/Google Drive/PostDoc/Code/BehavioralAnalyses/tetrode.prb can not be found\r\n",
      "\u001b[31m------------------------------------------------------------------\r",
      "\u001b[37m\n"
     ]
    },
    {
     "ename": "SystemExit",
     "evalue": "0",
     "output_type": "error",
     "traceback": [
      "An exception has occurred, use %tb to see the full traceback.\n",
      "\u001b[0;31mSystemExit\u001b[0m\u001b[0;31m:\u001b[0m 0\n"
     ]
    }
   ],
   "source": [
    "from circus.shared.parser import CircusParser\n",
    "from circus.shared.files import load_data\n",
    "from pylab import *\n",
    "datPath = Path('/Users/alexgonzalez/Google Drive/PostDoc/Data/Li_T3g_060418_Results2/')\n",
    "params    = CircusParser(str(datPath)+'/tt_'+str(ttID)+'.npy')\n",
    "N_e       = params.getint('data', 'N_e') # The number of channels\n",
    "N_t       = params.getint('data', 'N_t') # The temporal width of the template\n",
    "templates = load_data(params, 'templates') # To load the templates\n",
    "temp_i = templates[:, i].toarray().reshape(N_e, N_t) # To read the template i as a 2D matrix\n",
    "imshow(temp_i, aspect='auto')"
   ]
  },
  {
   "cell_type": "code",
   "execution_count": 116,
   "metadata": {},
   "outputs": [
    {
     "data": {
      "text/plain": [
       "PosixPath('/Users/alexgonzalez/Google Drive/PostDoc/Data/Li_T3g_060418_Results2/sc')"
      ]
     },
     "execution_count": 116,
     "metadata": {},
     "output_type": "execute_result"
    }
   ],
   "source": [
    "datPath"
   ]
  }
 ],
 "metadata": {
  "kernelspec": {
   "display_name": "Python 3",
   "language": "python",
   "name": "python3"
  },
  "language_info": {
   "codemirror_mode": {
    "name": "ipython",
    "version": 3
   },
   "file_extension": ".py",
   "mimetype": "text/x-python",
   "name": "python",
   "nbconvert_exporter": "python",
   "pygments_lexer": "ipython3",
   "version": "3.6.4"
  }
 },
 "nbformat": 4,
 "nbformat_minor": 2
}

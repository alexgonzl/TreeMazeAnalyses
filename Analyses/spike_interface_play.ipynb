{
 "cells": [
  {
   "cell_type": "markdown",
   "metadata": {},
   "source": [
    "### use of spike interface practice\n",
    "#### following getting started tutorial on:\n",
    "https://spikeinterface.readthedocs.io/en/latest/getting_started/plot_getting_started.html\n",
    "\n",
    "-ag 2/18/20"
   ]
  },
  {
   "cell_type": "code",
   "execution_count": 1,
   "metadata": {},
   "outputs": [],
   "source": [
    "import spikeinterface.extractors as se\n",
    "import spikeinterface.toolkit as st\n",
    "import spikeinterface.sorters as ss\n",
    "import spikeinterface.comparison as sc\n",
    "import spikeinterface.widgets as sw"
   ]
  },
  {
   "cell_type": "code",
   "execution_count": 2,
   "metadata": {},
   "outputs": [],
   "source": [
    "recording, sorting_true = se.example_datasets.toy_example(duration=10, num_channels=4, seed=0)"
   ]
  },
  {
   "cell_type": "code",
   "execution_count": null,
   "metadata": {},
   "outputs": [],
   "source": [
    "w_ts = sw.plot_timeseries(recording, trange = [0,5])"
   ]
  },
  {
   "cell_type": "code",
   "execution_count": null,
   "metadata": {},
   "outputs": [],
   "source": [
    "w_rs = sw.plot_rasters(sorting_true,trange=[0,5])"
   ]
  },
  {
   "cell_type": "code",
   "execution_count": null,
   "metadata": {},
   "outputs": [],
   "source": [
    "channel_ids = recording.get_channel_ids()\n",
    "fs = recording.get_sampling_frequency()\n",
    "num_chan = recording.get_num_channels()\n",
    "\n",
    "print('Channel ids:', channel_ids)\n",
    "print('Sampling frequency:', fs)\n",
    "print('Number of channels:', num_chan)"
   ]
  },
  {
   "cell_type": "code",
   "execution_count": null,
   "metadata": {},
   "outputs": [],
   "source": [
    "unit_ids = sorting_true.get_unit_ids()\n",
    "spike_train = sorting_true.get_unit_spike_train(unit_id=unit_ids[0])\n",
    "\n",
    "print('Unit ids:', unit_ids)\n",
    "print('Spike train of first unit:', spike_train)"
   ]
  },
  {
   "cell_type": "code",
   "execution_count": null,
   "metadata": {},
   "outputs": [],
   "source": [
    "recording_f = st.preprocessing.bandpass_filter(recording, freq_min=300, freq_max=5000)\n",
    "recording_cmr = st.preprocessing.common_reference(recording_f, reference='median')"
   ]
  },
  {
   "cell_type": "code",
   "execution_count": 8,
   "metadata": {},
   "outputs": [
    {
     "name": "stdout",
     "output_type": "stream",
     "text": [
      "Available sorters ['herdingspikes', 'ironclust', 'kilosort', 'kilosort2', 'klusta', 'mountainsort4', 'spykingcircus', 'tridesclous', 'waveclus']\n",
      "Installed sorters [<class 'spikesorters.klusta.klusta.KlustaSorter'>, <class 'spikesorters.mountainsort4.mountainsort4.Mountainsort4Sorter'>, <class 'spikesorters.spyking_circus.spyking_circus.SpykingcircusSorter'>, <class 'spikesorters.herdingspikes.herdingspikes.HerdingspikesSorter'>]\n"
     ]
    }
   ],
   "source": [
    "print('Available sorters', ss.available_sorters())\n",
    "print('Installed sorters', ss.installed_sorter_list)"
   ]
  },
  {
   "cell_type": "code",
   "execution_count": 11,
   "metadata": {},
   "outputs": [
    {
     "name": "stdout",
     "output_type": "stream",
     "text": [
      "{'detect_sign': -1, 'adjacency_radius': -1, 'freq_min': 300, 'freq_max': 6000, 'filter': False, 'whiten': True, 'curation': False, 'num_workers': None, 'clip_size': 50, 'detect_threshold': 3, 'detect_interval': 10, 'noise_overlap_threshold': 0.15}\n",
      "\n",
      "{'probe_file': None, 'adjacency_radius': None, 'threshold_strong_std_factor': 5, 'threshold_weak_std_factor': 2, 'detect_sign': -1, 'extract_s_before': 16, 'extract_s_after': 32, 'n_features_per_channel': 3, 'pca_n_waveforms_max': 10000, 'num_starting_clusters': 50}\n",
      "\n",
      "{'probe_file': None, 'detect_sign': -1, 'adjacency_radius': 200, 'detect_threshold': 6, 'template_width_ms': 3, 'filter': True, 'merge_spikes': True, 'auto_merge': 0.75, 'num_workers': None, 'whitening_max_elts': 1000, 'clustering_max_elts': 10000}\n",
      "\n",
      "{'clustering_bandwidth': 5.0, 'clustering_alpha': 6.0, 'clustering_n_jobs': -1, 'clustering_bin_seeding': True, 'clustering_min_bin_freq': 8, 'clustering_subset': None, 'left_cutout_time': 0.2, 'right_cutout_time': 1.0, 'detection_threshold': 14, 'probe_masked_channels': [], 'probe_inner_radius': 70, 'probe_neighbor_radius': 90, 'probe_event_length': 0.2, 'probe_peak_jitter': 0.1, 'num_com_centers': 1, 'maa': 2, 'ahpthr': 10, 'out_file_name': 'HS2_detected', 'decay_filtering': False, 'save_all': False, 'amp_evaluation_time': 0.2, 'spk_evaluation_time': 1.4, 'pca_ncomponents': 2, 'pca_whiten': True, 'freq_min': 300.0, 'freq_max': 6000.0, 'filter': True, 'pre_scale': True, 'pre_scale_value': 20.0}\n"
     ]
    }
   ],
   "source": [
    "print(ss.get_default_params('mountainsort4'))\n",
    "print()\n",
    "print(ss.get_default_params('klusta'))\n",
    "print()\n",
    "print(ss.get_default_params('spykingcircus'))\n",
    "print()\n",
    "print(ss.get_default_params('herdingspikes'))"
   ]
  },
  {
   "cell_type": "code",
   "execution_count": 12,
   "metadata": {},
   "outputs": [],
   "source": [
    "sort_ms4 = ss.run_mountainsort4(recording=recording_cmr, whiten=False, num_workers=4, detect_threshold=6)"
   ]
  },
  {
   "cell_type": "code",
   "execution_count": null,
   "metadata": {},
   "outputs": [
    {
     "name": "stdout",
     "output_type": "stream",
     "text": [
      "RUNNING SHELL SCRIPT: /tmp/tmp_shellscriptaj236zfr/script.sh\n"
     ]
    }
   ],
   "source": [
    "sort_skc = ss.run_spykingcircus(recording=recording_cmr, filter=False, num_workers=4)"
   ]
  },
  {
   "cell_type": "code",
   "execution_count": 4,
   "metadata": {},
   "outputs": [],
   "source": [
    "sks_params = ss.get_default_params('spykingcircus')"
   ]
  },
  {
   "cell_type": "code",
   "execution_count": 5,
   "metadata": {},
   "outputs": [
    {
     "data": {
      "text/plain": [
       "\u001b[0;31mSignature:\u001b[0m \u001b[0mss\u001b[0m\u001b[0;34m.\u001b[0m\u001b[0mrun_spykingcircus\u001b[0m\u001b[0;34m(\u001b[0m\u001b[0;34m*\u001b[0m\u001b[0margs\u001b[0m\u001b[0;34m,\u001b[0m \u001b[0;34m**\u001b[0m\u001b[0mkargs\u001b[0m\u001b[0;34m)\u001b[0m\u001b[0;34m\u001b[0m\u001b[0;34m\u001b[0m\u001b[0m\n",
       "\u001b[0;31mDocstring:\u001b[0m <no docstring>\n",
       "\u001b[0;31mSource:\u001b[0m   \n",
       "\u001b[0;32mdef\u001b[0m \u001b[0mrun_spykingcircus\u001b[0m\u001b[0;34m(\u001b[0m\u001b[0;34m*\u001b[0m\u001b[0margs\u001b[0m\u001b[0;34m,\u001b[0m \u001b[0;34m**\u001b[0m\u001b[0mkargs\u001b[0m\u001b[0;34m)\u001b[0m\u001b[0;34m:\u001b[0m\u001b[0;34m\u001b[0m\n",
       "\u001b[0;34m\u001b[0m    \u001b[0;32mreturn\u001b[0m \u001b[0mrun_sorter\u001b[0m\u001b[0;34m(\u001b[0m\u001b[0;34m'spykingcircus'\u001b[0m\u001b[0;34m,\u001b[0m \u001b[0;34m*\u001b[0m\u001b[0margs\u001b[0m\u001b[0;34m,\u001b[0m \u001b[0;34m**\u001b[0m\u001b[0mkargs\u001b[0m\u001b[0;34m)\u001b[0m\u001b[0;34m\u001b[0m\u001b[0;34m\u001b[0m\u001b[0m\n",
       "\u001b[0;31mFile:\u001b[0m      ~/anaconda3/envs/spkint2/lib/python3.6/site-packages/spikesorters-0.2.2-py3.6.egg/spikesorters/sorterlist.py\n",
       "\u001b[0;31mType:\u001b[0m      function\n"
      ]
     },
     "metadata": {},
     "output_type": "display_data"
    }
   ],
   "source": [
    "ss.run_spykingcircus??"
   ]
  },
  {
   "cell_type": "code",
   "execution_count": 6,
   "metadata": {},
   "outputs": [
    {
     "data": {
      "text/plain": [
       "{'probe_file': None,\n",
       " 'detect_sign': -1,\n",
       " 'adjacency_radius': 200,\n",
       " 'detect_threshold': 6,\n",
       " 'template_width_ms': 3,\n",
       " 'filter': True,\n",
       " 'merge_spikes': True,\n",
       " 'auto_merge': 0.5,\n",
       " 'num_workers': None,\n",
       " 'whitening_max_elts': 1000,\n",
       " 'clustering_max_elts': 10000}"
      ]
     },
     "execution_count": 6,
     "metadata": {},
     "output_type": "execute_result"
    }
   ],
   "source": [
    "sks_params"
   ]
  }
 ],
 "metadata": {
  "kernelspec": {
   "display_name": "Python 3",
   "language": "python",
   "name": "python3"
  },
  "language_info": {
   "codemirror_mode": {
    "name": "ipython",
    "version": 3
   },
   "file_extension": ".py",
   "mimetype": "text/x-python",
   "name": "python",
   "nbconvert_exporter": "python",
   "pygments_lexer": "ipython3",
   "version": "3.6.10"
  }
 },
 "nbformat": 4,
 "nbformat_minor": 4
}

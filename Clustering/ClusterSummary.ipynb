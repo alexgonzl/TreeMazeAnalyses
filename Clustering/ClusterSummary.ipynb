{
 "cells": [
  {
   "cell_type": "code",
   "execution_count": 4,
   "metadata": {},
   "outputs": [],
   "source": [
    "import sys,os, json, shutil, filecmp\n",
    "from pathlib import Path\n",
    "import numpy as np\n",
    "import pandas as pd"
   ]
  },
  {
   "cell_type": "markdown",
   "metadata": {},
   "source": [
    "## Parameters"
   ]
  },
  {
   "cell_type": "code",
   "execution_count": 10,
   "metadata": {},
   "outputs": [],
   "source": [
    "overwrite = 0\n",
    "nTTs = 16"
   ]
  },
  {
   "cell_type": "markdown",
   "metadata": {},
   "source": [
    "## Path to Directory"
   ]
  },
  {
   "cell_type": "code",
   "execution_count": 5,
   "metadata": {},
   "outputs": [],
   "source": [
    "# path to cluster (unix)\n",
    "animal = 'Li'\n",
    "date = '062818'\n",
    "task = 'T3g'\n",
    "cluster_experimenter = 'AG'\n",
    "clusterDir = Path('/mnt/c/Users/alexg8/Documents/Data/'+ \n",
    "                   animal+'/Clustered/')\n",
    "assert clusterDir.exists(), 'Cluster Directory not Found'\n",
    "\n",
    "sessionName = animal+'_'+task+'_'+date+'_KSClusters'\n",
    "assert (clusterDir / sessionName).exists(), 'Session Not Found'\n"
   ]
  },
  {
   "cell_type": "markdown",
   "metadata": {},
   "source": [
    "## Get Animals Json cluster summary"
   ]
  },
  {
   "cell_type": "code",
   "execution_count": 84,
   "metadata": {},
   "outputs": [
    {
     "name": "stdout",
     "output_type": "stream",
     "text": [
      "Warning clustering data exists for Li_T3g_062818_KSClusters, and overwrite = false\n"
     ]
    }
   ],
   "source": [
    "Cl_Summary_fn = animal+'_ClusteringSummary.json'\n",
    "if (clusterDir/Cl_Summary_fn).exists():\n",
    "    with open(str(clusterDir/Cl_Summary_fn), 'r') as f:\n",
    "        cluster_summary = json.load(f)\n",
    "    if not date in cluster_summary[animal].keys() or overwrite:\n",
    "        cluster_summary[animal][date]={}\n",
    "    if not task in cluster_summary[animal][date].keys() or overwrite:\n",
    "        cluster_summary[animal][date][task] = {}\n",
    "    else:\n",
    "        print('Warning clustering data exists for {}, and overwrite = false'.format(sessionName))\n",
    "else:\n",
    "    cluster_summary = {}\n",
    "    cluster_summary[animal] = {}\n",
    "    cluster_summary[animal][date]={}\n",
    "    cluster_summary[animal][date][task] = {}\n"
   ]
  },
  {
   "cell_type": "code",
   "execution_count": 14,
   "metadata": {},
   "outputs": [
    {
     "data": {
      "text/plain": [
       "{'T3g': {'nCells': 10,\n",
       "  'nMua': 16,\n",
       "  'cell_IDs': {'1': [],\n",
       "   '2': [],\n",
       "   '3': [1, 6],\n",
       "   '4': [],\n",
       "   '5': [],\n",
       "   '6': [],\n",
       "   '7': [3],\n",
       "   '8': [4, 10],\n",
       "   '9': [2],\n",
       "   '10': [0, 6, 8],\n",
       "   '11': [],\n",
       "   '12': [],\n",
       "   '13': [],\n",
       "   '14': [9],\n",
       "   '15': [],\n",
       "   '16': []},\n",
       "  'mua_IDs': {'1': [7],\n",
       "   '2': [2, 10],\n",
       "   '3': [0, 3],\n",
       "   '4': [2],\n",
       "   '5': [],\n",
       "   '6': [3],\n",
       "   '7': [],\n",
       "   '8': [3],\n",
       "   '9': [11],\n",
       "   '10': [4, 5, 7, 9],\n",
       "   '11': [],\n",
       "   '12': [],\n",
       "   '13': [],\n",
       "   '14': [1, 8, 10],\n",
       "   '15': [],\n",
       "   '16': []}}}"
      ]
     },
     "execution_count": 14,
     "metadata": {},
     "output_type": "execute_result"
    }
   ],
   "source": []
  },
  {
   "cell_type": "markdown",
   "metadata": {},
   "source": [
    "## Get Files and Update Json File"
   ]
  },
  {
   "cell_type": "code",
   "execution_count": 87,
   "metadata": {},
   "outputs": [],
   "source": [
    "cluster_summary[animal][date][task]['nCells'] = 0\n",
    "cluster_summary[animal][date][task]['nMua'] = 0\n",
    "cluster_summary[animal][date][task]['cell_IDs'] = {}\n",
    "cluster_summary[animal][date][task]['mua_IDs'] = {}\n",
    "cluster_summary[animal][date][task]['dateClustered']={}\n",
    "for tt in np.arange(1,nTTs+1):\n",
    "    cluster_summary[animal][date][task]['cell_IDs'][int(tt)]=[]\n",
    "    cluster_summary[animal][date][task]['mua_IDs'][int(tt)]=[]\n",
    "    fn = clusterDir/sessionName/('tt_'+str(tt))/'cluster_group.tsv'\n",
    "    assert fn.exists(), 'could not find record for tt {}; in {}'.format(tt,sessionName)\n",
    "    d=pd.read_csv(fn,delimiter='\\t')\n",
    "    cells = np.where(d['group']=='good')[0].tolist()\n",
    "    mua = np.where(d['group']=='mua')[0].tolist()\n",
    "    for cc in cells:\n",
    "        cluster_summary[animal][date][task]['cell_IDs'][int(tt)].append(cc)\n",
    "    for mm  in mua:\n",
    "        cluster_summary[animal][date][task]['mua_IDs'][int(tt)].append(mm)\n",
    "    cluster_summary[animal][date][task]['nCells'] += len(cells)\n",
    "    cluster_summary[animal][date][task]['nMua'] += len(mua)\n",
    "    \n",
    "    cluster_summary[animal][date][task]['dateClustered'][int(tt)]= datetime.datetime.fromtimestamp(int(fn.stat().st_mtime)).strftime(\"%B %d %Y, %I:%M%p\")\n",
    "\n",
    "cluster_summary[animal][date][task]['dateSummary'] = datetime.datetime.today().strftime(\"%B %d %Y, %I:%M%p\")   \n",
    "with open(str(clusterDir/Cl_Summary_fn), 'w') as f:\n",
    "        json.dump(cluster_summary, f, indent=4)"
   ]
  },
  {
   "cell_type": "code",
   "execution_count": 204,
   "metadata": {},
   "outputs": [
    {
     "name": "stdout",
     "output_type": "stream",
     "text": [
      "Results for Li_T3g_062818_KSClusters:\n",
      " nCells = 10 \n",
      " nMuas = 16\n"
     ]
    }
   ],
   "source": [
    "print(\"Results for {}:\\n nCells = {} \\n nMuas = {}\"\n",
    "      .format(sessionName,cluster_summary[animal][date][task]['nCells'],\n",
    "              cluster_summary[animal][date][task]['nMua']))\n"
   ]
  },
  {
   "cell_type": "code",
   "execution_count": 29,
   "metadata": {},
   "outputs": [
    {
     "name": "stdout",
     "output_type": "stream",
     "text": [
      " nSessions = 10 \n",
      " nCells = 86 \n",
      " nMua = 145\n"
     ]
    }
   ],
   "source": [
    "n=0\n",
    "m=0\n",
    "for d in cluster_summary[animal].keys():\n",
    "    n+=cluster_summary[animal][d][task]['nCells']\n",
    "    m+=cluster_summary[animal][d][task]['nMua']\n",
    "print(\" nSessions = {} \\n nCells = {} \\n nMua = {}\".format(len(cluster_summary[animal].keys()),n,m))\n"
   ]
  },
  {
   "cell_type": "code",
   "execution_count": 237,
   "metadata": {},
   "outputs": [
    {
     "data": {
      "text/plain": [
       "['Li', 'T3g', '062818', 'KSClusters']"
      ]
     },
     "execution_count": 237,
     "metadata": {},
     "output_type": "execute_result"
    }
   ],
   "source": [
    "sessionName.split('_')"
   ]
  },
  {
   "cell_type": "code",
   "execution_count": 206,
   "metadata": {},
   "outputs": [
    {
     "data": {
      "text/plain": [
       "dict_keys(['060118', '060418', '061518', '061318', '061818', '062018', '062518', '062618', '062718', '062818'])"
      ]
     },
     "execution_count": 206,
     "metadata": {},
     "output_type": "execute_result"
    }
   ],
   "source": [
    "cluster_summary[animal].keys()"
   ]
  },
  {
   "cell_type": "markdown",
   "metadata": {},
   "source": [
    "## copy results to oak (note: oak must be mounted on the ubuntu shell: )\n",
    "### sudo mkdir /mnt/o\n",
    "### sudo mount -t drvfs O: /mnt/o\n",
    "### to unmount\n",
    "### sudo unmount /mnt/o"
   ]
  },
  {
   "cell_type": "code",
   "execution_count": 231,
   "metadata": {},
   "outputs": [
    {
     "name": "stdout",
     "output_type": "stream",
     "text": [
      "summary file is the same, skipping copy.\n",
      "Li_T3g_060118_KSClusters: All tetrodes had already been clustered. \n",
      "Li_T3g_060418_KSClusters: All tetrodes had already been clustered. \n",
      "Li_T3g_061518_KSClusters: All tetrodes had already been clustered. \n",
      "Li_T3g_061318_KSClusters: All tetrodes had already been clustered. \n",
      "Li_T3g_061818_KSClusters: All tetrodes had already been clustered. \n",
      "Li_T3g_062018_KSClusters: All tetrodes had already been clustered. \n",
      "Li_T3g_062518_KSClusters: All tetrodes had already been clustered. \n",
      "Li_T3g_062618_KSClusters: All tetrodes had already been clustered. \n",
      "Li_T3g_062718_KSClusters: All tetrodes had already been clustered. \n",
      "Li_T3g_062818_KSClusters: All tetrodes had already been clustered. \n"
     ]
    }
   ],
   "source": [
    "oakPath = Path('/mnt/o/giocomo/alexg/Clustered/'+animal)\n",
    "clusterDir = Path('/mnt/c/Users/alexg8/Documents/Data/'+ \n",
    "                   animal+'/Clustered/')\n",
    "# copy summary\n",
    "if not filecmp.cmp(str(clusterDir/Cl_Summary_fn),str(oakPath/Cl_Summary_fn),shallow=True):\n",
    "    shutil.copyfile(str(clusterDir/Cl_Summary_fn),str(oakPath/Cl_Summary_fn))\n",
    "    print('updated file summary file')\n",
    "else:\n",
    "    print('summary file is the same, skipping copy.')\n",
    "# copy individual tetrode clusters\n",
    "notUpDatedList = []\n",
    "for date in cluster_summary[animal].keys():\n",
    "    sessionName = animal+'_'+task+'_'+date+'_KSClusters'\n",
    "    notUpDatedList = []\n",
    "    for tt in np.arange(1,nTTs+1):\n",
    "        fn = clusterDir/sessionName/('tt_'+str(tt))/'cluster_group.tsv'\n",
    "        sp = oakPath/sessionName/('tt_'+str(tt))/'cluster_group.tsv'\n",
    "        if not filecmp.cmp(str(fn),str(sp),shallow=True):\n",
    "            shutil.copyfile(str(fn),str(sp))\n",
    "        else:\n",
    "            notUpDatedList.append(tt)\n",
    "            #print('{} {} Cluster file exists and it is the same, not updating'.format(sessionName,tt))\n",
    "    if len(notUpDatedList)==16:\n",
    "        print(\"{}: All tetrodes have already been clustered. \".format(sessionName))\n",
    "    elif len(notUpDatedList)==0:\n",
    "        print(\"{}: Updated all tetrode clusters\".format(sessionName))\n",
    "    else:\n",
    "        print(\"{}: Indetical cluster files, no updates for TTs {}\".format(sessionName, notUpDatedList))\n",
    "    "
   ]
  },
  {
   "cell_type": "code",
   "execution_count": 6,
   "metadata": {},
   "outputs": [],
   "source": [
    "oakPath = Path('/mnt/o/giocomo/alexg/Clustered/'+animal)"
   ]
  },
  {
   "cell_type": "code",
   "execution_count": 37,
   "metadata": {},
   "outputs": [
    {
     "name": "stdout",
     "output_type": "stream",
     "text": [
      "['Li', 'OF', '060118', 'KSClusters']\n",
      "['Li', 'OF', '060418', 'KSClusters']\n",
      "['Li', 'OF', '060518', 'KSClusters']\n",
      "['Li', 'OF', '060718', 'KSClusters']\n",
      "['Li', 'OF', '060818', 'KSClusters']\n",
      "['Li', 'OF', '061118', 'KSClusters']\n",
      "['Li', 'OF', '061218', 'KSClusters']\n",
      "['Li', 'OF', '061318', 'KSClusters']\n",
      "['Li', 'OF', '061418', 'KSClusters']\n",
      "['Li', 'OF', '061518', 'KSClusters']\n",
      "['Li', 'OF', '061818', 'KSClusters']\n",
      "['Li', 'OF', '062018', 'KSClusters']\n",
      "['Li', 'OF', '062518', 'KSClusters']\n",
      "['Li', 'OF', '062618', 'KSClusters']\n",
      "['Li', 'OF', '062718', 'KSClusters']\n",
      "['Li', 'OF', '062818', 'KSClusters']\n",
      "['Li', 'OF', '062918', 'KSClusters']\n",
      "['Li', 'OF', '070218', 'KSClusters']\n",
      "['Li', 'OF', '070618', 'KSClusters']\n",
      "['Li', 'OF', '071018', 'KSClusters']\n",
      "['Li', 'OF', '080118', 'KSClusters']\n",
      "['Li', 'OF', '080218', 'KSClusters']\n",
      "['Li', 'T3g', '060118', 'KSClusters']\n",
      "['Li', 'T3g', '060418', 'KSClusters']\n",
      "['Li', 'T3g', '061318', 'KSClusters']\n",
      "['Li', 'T3g', '061518', 'KSClusters']\n",
      "['Li', 'T3g', '061818', 'KSClusters']\n",
      "['Li', 'T3g', '062018', 'KSClusters']\n",
      "['Li', 'T3g', '062518', 'KSClusters']\n",
      "['Li', 'T3g', '062618', 'KSClusters']\n",
      "['Li', 'T3g', '062718', 'KSClusters']\n",
      "['Li', 'T3g', '062818', 'KSClusters']\n",
      "['Li', 'T3g', '070218', 'KSClusters']\n",
      "['Li', 'T3g', '070518', 'KSClusters']\n",
      "['Li', 'T3g', '070618', 'KSClusters']\n",
      "['Li', 'T3g', '070918', 'KSClusters']\n",
      "['Li', 'T3g', '071018', 'KSClusters']\n",
      "['Li', 'T3g', '071118', 'KSClusters']\n",
      "['Li', 'T3g', '072518', 'KSClusters']\n",
      "['Li', 'T3g', '072618', 'KSClusters']\n",
      "['Li', 'T3g', '073018', 'KSClusters']\n",
      "['Li', 'T3g', '080118', 'KSClusters']\n",
      "['Li', 'T3g', '080218', 'KSClusters']\n",
      "['Li', 'T3g', '080318', 'KSClusters']\n"
     ]
    }
   ],
   "source": [
    "for i in oakPath.glob('*'):\n",
    "    if i.match('*.json'):\n",
    "        with i.open() as f:\n",
    "            cl_summary = json.load(f)\n",
    "    else:\n",
    "        print(i.name.split('_'))\n",
    "    "
   ]
  },
  {
   "cell_type": "code",
   "execution_count": 42,
   "metadata": {},
   "outputs": [],
   "source": [
    "cnt =0\n",
    "for i in oakPath.glob('*.json'):\n",
    "    if cnt >1:\n",
    "        print('Found Two Json Files. Only one file allowed.')\n",
    "        break\n",
    "    with i.open() as f:\n",
    "        cl_summary = json.load(f)\n",
    "    cnt+=1\n",
    "\n",
    "colnames = ['SessionDate','Task','Animal','Clustered','SummaryDate','nCells','nMua','BestTT']\n",
    "emptyEntry = {key: [0] for key in colnames}\n",
    "# load existing table\n",
    "if (oakPath/'ClusterTableSummary.csv').exists():\n",
    "    d=pd.read_csv('temp.csv',index_col=0)\n",
    "else:\n",
    "# create new table\n",
    "    Sessions =[]\n",
    "    Dates = []\n",
    "    Tasks = []\n",
    "    Animals =[]\n",
    "    for i in oakPath.glob('*_KSClusters'):\n",
    "        tmp = i.name.split('_')\n",
    "        Dates.append(tmp[2])\n",
    "        Tasks.append(tmp[1])\n",
    "        Animals.append(tmp[0])\n",
    "        Sessions.append(i.name.strip('_KSClusters'))\n",
    "    d = pd.DataFrame(0,index = Sessions, columns=colnames)\n",
    "    d['Task']=Tasks\n",
    "    d['SessionDate']=Dates\n",
    "    d['Animal']=Animals\n",
    "\n",
    "cnt =0\n",
    "for i in oakPath.glob('*_KSClusters'):\n",
    "    sn = i.name.strip('_KSClusters')\n",
    "    # add new session entry into previously existing table\n",
    "    if not sn in d.index.values:\n",
    "        tmp = i.name.split('_')\n",
    "        d.append(pd.DataFrame(emptyEntry,index=sn))\n",
    "        d.at[sn,'SessionDate'] = tmp[2]\n",
    "        d.at[sn,'Task']= tmp[1]\n",
    "        d.at[sn,'Animal']=tmp[0]\n",
    "    \n",
    "    # if the session was clustered. add info to the table.\n",
    "    if date in cl_summary.keys():\n",
    "        try:\n",
    "            d.at[sn,'Clustered'] = 1\n",
    "\n",
    "            info = cl_summary[animal][date][task]\n",
    "            d.at[sn,'nCells'] = info['nCells']\n",
    "            d.at[sn,'nMua'] = info['nMua']\n",
    "            d.at[sn,'BestTT'] = argmax(info['cell_IDs'])+1\n",
    "            d.at[sn,'SummaryDate'] = info['dateClustered']\n",
    "        except:\n",
    "            print(\"Error updating session {}\".format(i))    \n",
    "    cnt+=1\n",
    " \n",
    "d.to_csv(str(oakPath/'ClusterTableSummary.csv'))"
   ]
  },
  {
   "cell_type": "code",
   "execution_count": 129,
   "metadata": {},
   "outputs": [
    {
     "data": {
      "text/html": [
       "<div>\n",
       "<style scoped>\n",
       "    .dataframe tbody tr th:only-of-type {\n",
       "        vertical-align: middle;\n",
       "    }\n",
       "\n",
       "    .dataframe tbody tr th {\n",
       "        vertical-align: top;\n",
       "    }\n",
       "\n",
       "    .dataframe thead th {\n",
       "        text-align: right;\n",
       "    }\n",
       "</style>\n",
       "<table border=\"1\" class=\"dataframe\">\n",
       "  <thead>\n",
       "    <tr style=\"text-align: right;\">\n",
       "      <th></th>\n",
       "      <th>SessionDate</th>\n",
       "      <th>Task</th>\n",
       "      <th>Clustered</th>\n",
       "      <th>SummaryDate</th>\n",
       "      <th>nCells</th>\n",
       "      <th>nMua</th>\n",
       "      <th>BestTT</th>\n",
       "    </tr>\n",
       "  </thead>\n",
       "  <tbody>\n",
       "    <tr>\n",
       "      <th>21214</th>\n",
       "      <td>0</td>\n",
       "      <td>0</td>\n",
       "      <td>0</td>\n",
       "      <td>0</td>\n",
       "      <td>0</td>\n",
       "      <td>0</td>\n",
       "      <td>0</td>\n",
       "    </tr>\n",
       "  </tbody>\n",
       "</table>\n",
       "</div>"
      ],
      "text/plain": [
       "       SessionDate  Task  Clustered  SummaryDate  nCells  nMua  BestTT\n",
       "21214            0     0          0            0       0     0       0"
      ]
     },
     "execution_count": 129,
     "metadata": {},
     "output_type": "execute_result"
    }
   ],
   "source": [
    "colnames = ['SessionDate','Task','Clustered','SummaryDate','nCells','nMua','BestTT']\n",
    "#emptyEntry = pd.DataFrame({key: 0 for key in colnames})\n",
    "pd.DataFrame({key: [0] for key in colnames},index=['21214'])"
   ]
  },
  {
   "cell_type": "code",
   "execution_count": 132,
   "metadata": {},
   "outputs": [],
   "source": [
    "Sessions =[]\n",
    "Dates = []\n",
    "Tasks = []\n",
    "for i in oakPath.glob('*_KSClusters'):\n",
    "    tmp = i.name.split('_')\n",
    "    Dates.append(tmp[2])\n",
    "    Tasks.append(tmp[1])\n",
    "    Sessions.append(i.name.strip('_KSClusters'))"
   ]
  },
  {
   "cell_type": "code",
   "execution_count": 134,
   "metadata": {},
   "outputs": [
    {
     "data": {
      "text/html": [
       "<div>\n",
       "<style scoped>\n",
       "    .dataframe tbody tr th:only-of-type {\n",
       "        vertical-align: middle;\n",
       "    }\n",
       "\n",
       "    .dataframe tbody tr th {\n",
       "        vertical-align: top;\n",
       "    }\n",
       "\n",
       "    .dataframe thead th {\n",
       "        text-align: right;\n",
       "    }\n",
       "</style>\n",
       "<table border=\"1\" class=\"dataframe\">\n",
       "  <thead>\n",
       "    <tr style=\"text-align: right;\">\n",
       "      <th></th>\n",
       "      <th>SessionDate</th>\n",
       "      <th>Task</th>\n",
       "      <th>Clustered</th>\n",
       "      <th>SummaryDate</th>\n",
       "      <th>nCells</th>\n",
       "      <th>nMua</th>\n",
       "      <th>BestTT</th>\n",
       "    </tr>\n",
       "  </thead>\n",
       "  <tbody>\n",
       "    <tr>\n",
       "      <th>Li_OF_060118</th>\n",
       "      <td>1</td>\n",
       "      <td>OF</td>\n",
       "      <td>0</td>\n",
       "      <td>0</td>\n",
       "      <td>0</td>\n",
       "      <td>0</td>\n",
       "      <td>0</td>\n",
       "    </tr>\n",
       "    <tr>\n",
       "      <th>Li_OF_060418</th>\n",
       "      <td>0</td>\n",
       "      <td>OF</td>\n",
       "      <td>0</td>\n",
       "      <td>0</td>\n",
       "      <td>0</td>\n",
       "      <td>0</td>\n",
       "      <td>0</td>\n",
       "    </tr>\n",
       "    <tr>\n",
       "      <th>Li_OF_060518</th>\n",
       "      <td>0</td>\n",
       "      <td>OF</td>\n",
       "      <td>0</td>\n",
       "      <td>0</td>\n",
       "      <td>0</td>\n",
       "      <td>0</td>\n",
       "      <td>0</td>\n",
       "    </tr>\n",
       "    <tr>\n",
       "      <th>Li_OF_060718</th>\n",
       "      <td>0</td>\n",
       "      <td>OF</td>\n",
       "      <td>0</td>\n",
       "      <td>0</td>\n",
       "      <td>0</td>\n",
       "      <td>0</td>\n",
       "      <td>0</td>\n",
       "    </tr>\n",
       "    <tr>\n",
       "      <th>Li_OF_060818</th>\n",
       "      <td>0</td>\n",
       "      <td>OF</td>\n",
       "      <td>0</td>\n",
       "      <td>0</td>\n",
       "      <td>0</td>\n",
       "      <td>0</td>\n",
       "      <td>0</td>\n",
       "    </tr>\n",
       "    <tr>\n",
       "      <th>Li_OF_061118</th>\n",
       "      <td>0</td>\n",
       "      <td>OF</td>\n",
       "      <td>0</td>\n",
       "      <td>0</td>\n",
       "      <td>0</td>\n",
       "      <td>0</td>\n",
       "      <td>0</td>\n",
       "    </tr>\n",
       "    <tr>\n",
       "      <th>Li_OF_061218</th>\n",
       "      <td>0</td>\n",
       "      <td>OF</td>\n",
       "      <td>0</td>\n",
       "      <td>0</td>\n",
       "      <td>0</td>\n",
       "      <td>0</td>\n",
       "      <td>0</td>\n",
       "    </tr>\n",
       "    <tr>\n",
       "      <th>Li_OF_061318</th>\n",
       "      <td>0</td>\n",
       "      <td>OF</td>\n",
       "      <td>0</td>\n",
       "      <td>0</td>\n",
       "      <td>0</td>\n",
       "      <td>0</td>\n",
       "      <td>0</td>\n",
       "    </tr>\n",
       "    <tr>\n",
       "      <th>Li_OF_061418</th>\n",
       "      <td>0</td>\n",
       "      <td>OF</td>\n",
       "      <td>0</td>\n",
       "      <td>0</td>\n",
       "      <td>0</td>\n",
       "      <td>0</td>\n",
       "      <td>0</td>\n",
       "    </tr>\n",
       "    <tr>\n",
       "      <th>Li_OF_061518</th>\n",
       "      <td>0</td>\n",
       "      <td>OF</td>\n",
       "      <td>0</td>\n",
       "      <td>0</td>\n",
       "      <td>0</td>\n",
       "      <td>0</td>\n",
       "      <td>0</td>\n",
       "    </tr>\n",
       "    <tr>\n",
       "      <th>Li_OF_061818</th>\n",
       "      <td>0</td>\n",
       "      <td>OF</td>\n",
       "      <td>0</td>\n",
       "      <td>0</td>\n",
       "      <td>0</td>\n",
       "      <td>0</td>\n",
       "      <td>0</td>\n",
       "    </tr>\n",
       "    <tr>\n",
       "      <th>Li_OF_062018</th>\n",
       "      <td>0</td>\n",
       "      <td>OF</td>\n",
       "      <td>0</td>\n",
       "      <td>0</td>\n",
       "      <td>0</td>\n",
       "      <td>0</td>\n",
       "      <td>0</td>\n",
       "    </tr>\n",
       "    <tr>\n",
       "      <th>Li_OF_062518</th>\n",
       "      <td>0</td>\n",
       "      <td>OF</td>\n",
       "      <td>0</td>\n",
       "      <td>0</td>\n",
       "      <td>0</td>\n",
       "      <td>0</td>\n",
       "      <td>0</td>\n",
       "    </tr>\n",
       "    <tr>\n",
       "      <th>Li_OF_062618</th>\n",
       "      <td>0</td>\n",
       "      <td>OF</td>\n",
       "      <td>0</td>\n",
       "      <td>0</td>\n",
       "      <td>0</td>\n",
       "      <td>0</td>\n",
       "      <td>0</td>\n",
       "    </tr>\n",
       "    <tr>\n",
       "      <th>Li_OF_062718</th>\n",
       "      <td>0</td>\n",
       "      <td>OF</td>\n",
       "      <td>0</td>\n",
       "      <td>0</td>\n",
       "      <td>0</td>\n",
       "      <td>0</td>\n",
       "      <td>0</td>\n",
       "    </tr>\n",
       "    <tr>\n",
       "      <th>Li_OF_062818</th>\n",
       "      <td>0</td>\n",
       "      <td>OF</td>\n",
       "      <td>0</td>\n",
       "      <td>0</td>\n",
       "      <td>0</td>\n",
       "      <td>0</td>\n",
       "      <td>0</td>\n",
       "    </tr>\n",
       "    <tr>\n",
       "      <th>Li_OF_062918</th>\n",
       "      <td>0</td>\n",
       "      <td>OF</td>\n",
       "      <td>0</td>\n",
       "      <td>0</td>\n",
       "      <td>0</td>\n",
       "      <td>0</td>\n",
       "      <td>0</td>\n",
       "    </tr>\n",
       "    <tr>\n",
       "      <th>Li_OF_070218</th>\n",
       "      <td>0</td>\n",
       "      <td>OF</td>\n",
       "      <td>0</td>\n",
       "      <td>0</td>\n",
       "      <td>0</td>\n",
       "      <td>0</td>\n",
       "      <td>0</td>\n",
       "    </tr>\n",
       "    <tr>\n",
       "      <th>Li_OF_070618</th>\n",
       "      <td>0</td>\n",
       "      <td>OF</td>\n",
       "      <td>0</td>\n",
       "      <td>0</td>\n",
       "      <td>0</td>\n",
       "      <td>0</td>\n",
       "      <td>0</td>\n",
       "    </tr>\n",
       "    <tr>\n",
       "      <th>Li_OF_071018</th>\n",
       "      <td>0</td>\n",
       "      <td>OF</td>\n",
       "      <td>0</td>\n",
       "      <td>0</td>\n",
       "      <td>0</td>\n",
       "      <td>0</td>\n",
       "      <td>0</td>\n",
       "    </tr>\n",
       "    <tr>\n",
       "      <th>Li_OF_080118</th>\n",
       "      <td>0</td>\n",
       "      <td>OF</td>\n",
       "      <td>0</td>\n",
       "      <td>0</td>\n",
       "      <td>0</td>\n",
       "      <td>0</td>\n",
       "      <td>0</td>\n",
       "    </tr>\n",
       "    <tr>\n",
       "      <th>Li_OF_080218</th>\n",
       "      <td>0</td>\n",
       "      <td>OF</td>\n",
       "      <td>0</td>\n",
       "      <td>0</td>\n",
       "      <td>0</td>\n",
       "      <td>0</td>\n",
       "      <td>0</td>\n",
       "    </tr>\n",
       "    <tr>\n",
       "      <th>Li_T3g_060118</th>\n",
       "      <td>0</td>\n",
       "      <td>T3g</td>\n",
       "      <td>0</td>\n",
       "      <td>0</td>\n",
       "      <td>0</td>\n",
       "      <td>0</td>\n",
       "      <td>0</td>\n",
       "    </tr>\n",
       "    <tr>\n",
       "      <th>Li_T3g_060418</th>\n",
       "      <td>0</td>\n",
       "      <td>T3g</td>\n",
       "      <td>0</td>\n",
       "      <td>0</td>\n",
       "      <td>0</td>\n",
       "      <td>0</td>\n",
       "      <td>0</td>\n",
       "    </tr>\n",
       "    <tr>\n",
       "      <th>Li_T3g_061318</th>\n",
       "      <td>0</td>\n",
       "      <td>T3g</td>\n",
       "      <td>0</td>\n",
       "      <td>0</td>\n",
       "      <td>0</td>\n",
       "      <td>0</td>\n",
       "      <td>0</td>\n",
       "    </tr>\n",
       "    <tr>\n",
       "      <th>Li_T3g_061518</th>\n",
       "      <td>0</td>\n",
       "      <td>T3g</td>\n",
       "      <td>0</td>\n",
       "      <td>0</td>\n",
       "      <td>0</td>\n",
       "      <td>0</td>\n",
       "      <td>0</td>\n",
       "    </tr>\n",
       "    <tr>\n",
       "      <th>Li_T3g_061818</th>\n",
       "      <td>0</td>\n",
       "      <td>T3g</td>\n",
       "      <td>0</td>\n",
       "      <td>0</td>\n",
       "      <td>0</td>\n",
       "      <td>0</td>\n",
       "      <td>0</td>\n",
       "    </tr>\n",
       "    <tr>\n",
       "      <th>Li_T3g_062018</th>\n",
       "      <td>0</td>\n",
       "      <td>T3g</td>\n",
       "      <td>0</td>\n",
       "      <td>0</td>\n",
       "      <td>0</td>\n",
       "      <td>0</td>\n",
       "      <td>0</td>\n",
       "    </tr>\n",
       "    <tr>\n",
       "      <th>Li_T3g_062518</th>\n",
       "      <td>0</td>\n",
       "      <td>T3g</td>\n",
       "      <td>0</td>\n",
       "      <td>0</td>\n",
       "      <td>0</td>\n",
       "      <td>0</td>\n",
       "      <td>0</td>\n",
       "    </tr>\n",
       "    <tr>\n",
       "      <th>Li_T3g_062618</th>\n",
       "      <td>0</td>\n",
       "      <td>T3g</td>\n",
       "      <td>0</td>\n",
       "      <td>0</td>\n",
       "      <td>0</td>\n",
       "      <td>0</td>\n",
       "      <td>0</td>\n",
       "    </tr>\n",
       "    <tr>\n",
       "      <th>Li_T3g_062718</th>\n",
       "      <td>0</td>\n",
       "      <td>T3g</td>\n",
       "      <td>0</td>\n",
       "      <td>0</td>\n",
       "      <td>0</td>\n",
       "      <td>0</td>\n",
       "      <td>0</td>\n",
       "    </tr>\n",
       "    <tr>\n",
       "      <th>Li_T3g_062818</th>\n",
       "      <td>0</td>\n",
       "      <td>T3g</td>\n",
       "      <td>0</td>\n",
       "      <td>0</td>\n",
       "      <td>0</td>\n",
       "      <td>0</td>\n",
       "      <td>0</td>\n",
       "    </tr>\n",
       "    <tr>\n",
       "      <th>Li_T3g_070218</th>\n",
       "      <td>0</td>\n",
       "      <td>T3g</td>\n",
       "      <td>0</td>\n",
       "      <td>0</td>\n",
       "      <td>0</td>\n",
       "      <td>0</td>\n",
       "      <td>0</td>\n",
       "    </tr>\n",
       "    <tr>\n",
       "      <th>Li_T3g_070518</th>\n",
       "      <td>0</td>\n",
       "      <td>T3g</td>\n",
       "      <td>0</td>\n",
       "      <td>0</td>\n",
       "      <td>0</td>\n",
       "      <td>0</td>\n",
       "      <td>0</td>\n",
       "    </tr>\n",
       "    <tr>\n",
       "      <th>Li_T3g_070618</th>\n",
       "      <td>0</td>\n",
       "      <td>T3g</td>\n",
       "      <td>0</td>\n",
       "      <td>0</td>\n",
       "      <td>0</td>\n",
       "      <td>0</td>\n",
       "      <td>0</td>\n",
       "    </tr>\n",
       "    <tr>\n",
       "      <th>Li_T3g_070918</th>\n",
       "      <td>0</td>\n",
       "      <td>T3g</td>\n",
       "      <td>0</td>\n",
       "      <td>0</td>\n",
       "      <td>0</td>\n",
       "      <td>0</td>\n",
       "      <td>0</td>\n",
       "    </tr>\n",
       "    <tr>\n",
       "      <th>Li_T3g_071018</th>\n",
       "      <td>0</td>\n",
       "      <td>T3g</td>\n",
       "      <td>0</td>\n",
       "      <td>0</td>\n",
       "      <td>0</td>\n",
       "      <td>0</td>\n",
       "      <td>0</td>\n",
       "    </tr>\n",
       "    <tr>\n",
       "      <th>Li_T3g_071118</th>\n",
       "      <td>0</td>\n",
       "      <td>T3g</td>\n",
       "      <td>0</td>\n",
       "      <td>0</td>\n",
       "      <td>0</td>\n",
       "      <td>0</td>\n",
       "      <td>0</td>\n",
       "    </tr>\n",
       "    <tr>\n",
       "      <th>Li_T3g_072518</th>\n",
       "      <td>0</td>\n",
       "      <td>T3g</td>\n",
       "      <td>0</td>\n",
       "      <td>0</td>\n",
       "      <td>0</td>\n",
       "      <td>0</td>\n",
       "      <td>0</td>\n",
       "    </tr>\n",
       "    <tr>\n",
       "      <th>Li_T3g_072618</th>\n",
       "      <td>0</td>\n",
       "      <td>T3g</td>\n",
       "      <td>0</td>\n",
       "      <td>0</td>\n",
       "      <td>0</td>\n",
       "      <td>0</td>\n",
       "      <td>0</td>\n",
       "    </tr>\n",
       "    <tr>\n",
       "      <th>Li_T3g_073018</th>\n",
       "      <td>0</td>\n",
       "      <td>T3g</td>\n",
       "      <td>0</td>\n",
       "      <td>0</td>\n",
       "      <td>0</td>\n",
       "      <td>0</td>\n",
       "      <td>0</td>\n",
       "    </tr>\n",
       "    <tr>\n",
       "      <th>Li_T3g_080118</th>\n",
       "      <td>0</td>\n",
       "      <td>T3g</td>\n",
       "      <td>0</td>\n",
       "      <td>0</td>\n",
       "      <td>0</td>\n",
       "      <td>0</td>\n",
       "      <td>0</td>\n",
       "    </tr>\n",
       "    <tr>\n",
       "      <th>Li_T3g_080218</th>\n",
       "      <td>0</td>\n",
       "      <td>T3g</td>\n",
       "      <td>0</td>\n",
       "      <td>0</td>\n",
       "      <td>0</td>\n",
       "      <td>0</td>\n",
       "      <td>0</td>\n",
       "    </tr>\n",
       "    <tr>\n",
       "      <th>Li_T3g_080318</th>\n",
       "      <td>0</td>\n",
       "      <td>T3g</td>\n",
       "      <td>0</td>\n",
       "      <td>0</td>\n",
       "      <td>0</td>\n",
       "      <td>0</td>\n",
       "      <td>0</td>\n",
       "    </tr>\n",
       "  </tbody>\n",
       "</table>\n",
       "</div>"
      ],
      "text/plain": [
       "               SessionDate Task  Clustered  SummaryDate  nCells  nMua  BestTT\n",
       "Li_OF_060118             1   OF          0            0       0     0       0\n",
       "Li_OF_060418             0   OF          0            0       0     0       0\n",
       "Li_OF_060518             0   OF          0            0       0     0       0\n",
       "Li_OF_060718             0   OF          0            0       0     0       0\n",
       "Li_OF_060818             0   OF          0            0       0     0       0\n",
       "Li_OF_061118             0   OF          0            0       0     0       0\n",
       "Li_OF_061218             0   OF          0            0       0     0       0\n",
       "Li_OF_061318             0   OF          0            0       0     0       0\n",
       "Li_OF_061418             0   OF          0            0       0     0       0\n",
       "Li_OF_061518             0   OF          0            0       0     0       0\n",
       "Li_OF_061818             0   OF          0            0       0     0       0\n",
       "Li_OF_062018             0   OF          0            0       0     0       0\n",
       "Li_OF_062518             0   OF          0            0       0     0       0\n",
       "Li_OF_062618             0   OF          0            0       0     0       0\n",
       "Li_OF_062718             0   OF          0            0       0     0       0\n",
       "Li_OF_062818             0   OF          0            0       0     0       0\n",
       "Li_OF_062918             0   OF          0            0       0     0       0\n",
       "Li_OF_070218             0   OF          0            0       0     0       0\n",
       "Li_OF_070618             0   OF          0            0       0     0       0\n",
       "Li_OF_071018             0   OF          0            0       0     0       0\n",
       "Li_OF_080118             0   OF          0            0       0     0       0\n",
       "Li_OF_080218             0   OF          0            0       0     0       0\n",
       "Li_T3g_060118            0  T3g          0            0       0     0       0\n",
       "Li_T3g_060418            0  T3g          0            0       0     0       0\n",
       "Li_T3g_061318            0  T3g          0            0       0     0       0\n",
       "Li_T3g_061518            0  T3g          0            0       0     0       0\n",
       "Li_T3g_061818            0  T3g          0            0       0     0       0\n",
       "Li_T3g_062018            0  T3g          0            0       0     0       0\n",
       "Li_T3g_062518            0  T3g          0            0       0     0       0\n",
       "Li_T3g_062618            0  T3g          0            0       0     0       0\n",
       "Li_T3g_062718            0  T3g          0            0       0     0       0\n",
       "Li_T3g_062818            0  T3g          0            0       0     0       0\n",
       "Li_T3g_070218            0  T3g          0            0       0     0       0\n",
       "Li_T3g_070518            0  T3g          0            0       0     0       0\n",
       "Li_T3g_070618            0  T3g          0            0       0     0       0\n",
       "Li_T3g_070918            0  T3g          0            0       0     0       0\n",
       "Li_T3g_071018            0  T3g          0            0       0     0       0\n",
       "Li_T3g_071118            0  T3g          0            0       0     0       0\n",
       "Li_T3g_072518            0  T3g          0            0       0     0       0\n",
       "Li_T3g_072618            0  T3g          0            0       0     0       0\n",
       "Li_T3g_073018            0  T3g          0            0       0     0       0\n",
       "Li_T3g_080118            0  T3g          0            0       0     0       0\n",
       "Li_T3g_080218            0  T3g          0            0       0     0       0\n",
       "Li_T3g_080318            0  T3g          0            0       0     0       0"
      ]
     },
     "execution_count": 134,
     "metadata": {},
     "output_type": "execute_result"
    }
   ],
   "source": [
    "d['Task']=Tasks\n",
    "d"
   ]
  },
  {
   "cell_type": "code",
   "execution_count": 106,
   "metadata": {},
   "outputs": [],
   "source": [
    "colnames = ['SessionDate','Task','Clustered','SummaryDate','nCells','nMua','BestTT']\n",
    "nFiles = len(list(oakPath.glob('*_KSClusters')))\n",
    "d = pd.DataFrame(0,index = np.arange(nFiles), columns=colnames)\n",
    "sn =[]\n",
    "for i in oakPath.glob('*_KSClusters'):\n",
    "    tmp = i.name.split('_')\n",
    "    sn.append(i.name.strip('_KSClusters'))\n",
    "    "
   ]
  },
  {
   "cell_type": "code",
   "execution_count": 113,
   "metadata": {},
   "outputs": [],
   "source": [
    "d = pd.DataFrame(0,index = sn, columns=colnames)\n",
    "d.at[sn[0],'SessionDate']=1\n",
    "d.to_csv('temp.csv')\n",
    "d2=pd.read_csv('temp.csv',index_col=0)"
   ]
  },
  {
   "cell_type": "code",
   "execution_count": 122,
   "metadata": {},
   "outputs": [
    {
     "data": {
      "text/plain": [
       "False"
      ]
     },
     "execution_count": 122,
     "metadata": {},
     "output_type": "execute_result"
    }
   ],
   "source": []
  },
  {
   "cell_type": "code",
   "execution_count": 93,
   "metadata": {},
   "outputs": [],
   "source": [
    "colnames = ['SessionDate','Task','Clustered','SummaryDate','nCells','nMua','BestTT']\n",
    "nFiles = len(list(oakPath.glob('*_KSClusters')))\n",
    "d = pd.DataFrame(0,index = np.arange(nFiles), columns=colnames)"
   ]
  },
  {
   "cell_type": "code",
   "execution_count": 120,
   "metadata": {},
   "outputs": [
    {
     "data": {
      "text/plain": [
       "array(['Li_OF_060118', 'Li_OF_060418', 'Li_OF_060518', 'Li_OF_060718',\n",
       "       'Li_OF_060818', 'Li_OF_061118', 'Li_OF_061218', 'Li_OF_061318',\n",
       "       'Li_OF_061418', 'Li_OF_061518', 'Li_OF_061818', 'Li_OF_062018',\n",
       "       'Li_OF_062518', 'Li_OF_062618', 'Li_OF_062718', 'Li_OF_062818',\n",
       "       'Li_OF_062918', 'Li_OF_070218', 'Li_OF_070618', 'Li_OF_071018',\n",
       "       'Li_OF_080118', 'Li_OF_080218', 'Li_T3g_060118', 'Li_T3g_060418',\n",
       "       'Li_T3g_061318', 'Li_T3g_061518', 'Li_T3g_061818', 'Li_T3g_062018',\n",
       "       'Li_T3g_062518', 'Li_T3g_062618', 'Li_T3g_062718', 'Li_T3g_062818',\n",
       "       'Li_T3g_070218', 'Li_T3g_070518', 'Li_T3g_070618', 'Li_T3g_070918',\n",
       "       'Li_T3g_071018', 'Li_T3g_071118', 'Li_T3g_072518', 'Li_T3g_072618',\n",
       "       'Li_T3g_073018', 'Li_T3g_080118', 'Li_T3g_080218', 'Li_T3g_080318'],\n",
       "      dtype=object)"
      ]
     },
     "execution_count": 120,
     "metadata": {},
     "output_type": "execute_result"
    }
   ],
   "source": []
  },
  {
   "cell_type": "code",
   "execution_count": 47,
   "metadata": {},
   "outputs": [
    {
     "name": "stdout",
     "output_type": "stream",
     "text": [
      "[0, 0, 2, 0, 0, 0, 1, 2, 1, 3, 0, 0, 0, 1, 0, 0]\n"
     ]
    }
   ],
   "source": [
    "a=cl_summary[animal][date][task]['cell_IDs']\n",
    "d2 = [len(v) for k, v in a.items()]\n"
   ]
  },
  {
   "cell_type": "code",
   "execution_count": 12,
   "metadata": {},
   "outputs": [],
   "source": [
    "def argmax(iterable):\n",
    "    return max(enumerate(iterable), key=lambda x: x[1])"
   ]
  },
  {
   "cell_type": "code",
   "execution_count": 67,
   "metadata": {},
   "outputs": [],
   "source": [
    "import datetime"
   ]
  },
  {
   "cell_type": "code",
   "execution_count": 78,
   "metadata": {},
   "outputs": [
    {
     "data": {
      "text/plain": [
       "'April 25 2019, 04:16PM'"
      ]
     },
     "execution_count": 78,
     "metadata": {},
     "output_type": "execute_result"
    }
   ],
   "source": [
    "datetime.datetime.fromtimestamp(int(i.stat().st_mtime)).strftime(\"%B %d %Y, %I:%M%p\")"
   ]
  },
  {
   "cell_type": "code",
   "execution_count": 3,
   "metadata": {},
   "outputs": [
    {
     "name": "stdout",
     "output_type": "stream",
     "text": [
      "/mnt/c/Users/alexg8/Documents/TreeMazeAnalyses/Clustering\n"
     ]
    }
   ],
   "source": [
    "cl_summary"
   ]
  },
  {
   "cell_type": "code",
   "execution_count": 8,
   "metadata": {},
   "outputs": [],
   "source": [
    "cnt=0\n",
    "for i in oakPath.glob('*.json'):\n",
    "    if cnt >1:\n",
    "        print('Found Two Json Files. Only one file allowed.')\n",
    "        break\n",
    "    with i.open() as f:\n",
    "        cl_summary = json.load(f)\n",
    "    cnt+=1"
   ]
  },
  {
   "cell_type": "code",
   "execution_count": 13,
   "metadata": {},
   "outputs": [
    {
     "name": "stdout",
     "output_type": "stream",
     "text": [
      "(8, '9')\n",
      "(8, '9')\n",
      "(8, '9')\n",
      "(8, '9')\n",
      "(8, '9')\n",
      "(8, '9')\n",
      "(8, '9')\n",
      "(8, '9')\n",
      "(8, '9')\n",
      "(8, '9')\n"
     ]
    }
   ],
   "source": [
    "for date in cl_summary[animal].keys():\n",
    "    info = cl_summary[animal][date][task]\n",
    "    print( argmax(info['cell_IDs']))"
   ]
  },
  {
   "cell_type": "code",
   "execution_count": 27,
   "metadata": {},
   "outputs": [
    {
     "data": {
      "text/plain": [
       "10"
      ]
     },
     "execution_count": 27,
     "metadata": {},
     "output_type": "execute_result"
    }
   ],
   "source": [
    "argmax(info['cell_IDs'])\n",
    "dict_argmax(info['cell_IDs'])+1"
   ]
  },
  {
   "cell_type": "code",
   "execution_count": 24,
   "metadata": {},
   "outputs": [
    {
     "data": {
      "text/plain": [
       "10"
      ]
     },
     "execution_count": 24,
     "metadata": {},
     "output_type": "execute_result"
    }
   ],
   "source": []
  },
  {
   "cell_type": "code",
   "execution_count": 25,
   "metadata": {},
   "outputs": [],
   "source": [
    "def dict_argmax(d):\n",
    "    d2 = []\n",
    "    for k in d.keys():\n",
    "        d2.append(len(d[k]))\n",
    "    return np.argmax(d2)"
   ]
  },
  {
   "cell_type": "code",
   "execution_count": 35,
   "metadata": {},
   "outputs": [
    {
     "name": "stdout",
     "output_type": "stream",
     "text": [
      "a 1\n",
      "b 2\n",
      "c 3\n"
     ]
    }
   ],
   "source": [
    "a = {'a':1,'b':2,'c':3}\n",
    "\n",
    "for k,v in a.items():\n",
    "    print(k,v)"
   ]
  },
  {
   "cell_type": "code",
   "execution_count": 33,
   "metadata": {},
   "outputs": [
    {
     "data": {
      "text/plain": [
       "dict_values([1, 2, 3])"
      ]
     },
     "execution_count": 33,
     "metadata": {},
     "output_type": "execute_result"
    }
   ],
   "source": [
    "a.values()"
   ]
  },
  {
   "cell_type": "code",
   "execution_count": null,
   "metadata": {},
   "outputs": [],
   "source": []
  }
 ],
 "metadata": {
  "kernelspec": {
   "display_name": "Python 3",
   "language": "python",
   "name": "python3"
  },
  "language_info": {
   "codemirror_mode": {
    "name": "ipython",
    "version": 3
   },
   "file_extension": ".py",
   "mimetype": "text/x-python",
   "name": "python",
   "nbconvert_exporter": "python",
   "pygments_lexer": "ipython3",
   "version": "3.7.3"
  }
 },
 "nbformat": 4,
 "nbformat_minor": 2
}

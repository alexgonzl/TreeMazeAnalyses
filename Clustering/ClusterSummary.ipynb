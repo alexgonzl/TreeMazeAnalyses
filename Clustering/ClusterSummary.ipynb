{
 "cells": [
  {
   "cell_type": "code",
   "execution_count": 1,
   "metadata": {},
   "outputs": [],
   "source": [
    "import sys,os, json, shutil, filecmp\n",
    "from pathlib import Path\n",
    "import numpy as np\n",
    "import pandas as pd"
   ]
  },
  {
   "cell_type": "markdown",
   "metadata": {},
   "source": [
    "## Parameters"
   ]
  },
  {
   "cell_type": "code",
   "execution_count": 10,
   "metadata": {},
   "outputs": [],
   "source": [
    "overwrite = 0\n",
    "nTTs = 16"
   ]
  },
  {
   "cell_type": "markdown",
   "metadata": {},
   "source": [
    "## Path to Directory"
   ]
  },
  {
   "cell_type": "code",
   "execution_count": 11,
   "metadata": {},
   "outputs": [],
   "source": [
    "# path to cluster (unix)\n",
    "animal = 'Li'\n",
    "date = '062818'\n",
    "task = 'T3g'\n",
    "cluster_experimenter = 'AG'\n",
    "clusterDir = Path('/mnt/c/Users/alexg8/Documents/Data/'+ \n",
    "                   animal+'/Clustered/')\n",
    "assert clusterDir.exists(), 'Cluster Directory not Found'\n",
    "\n",
    "sessionName = animal+'_'+task+'_'+date+'_KSClusters'\n",
    "assert (clusterDir / sessionName).exists(), 'Session Not Found'\n"
   ]
  },
  {
   "cell_type": "markdown",
   "metadata": {},
   "source": [
    "## Get Animals Json cluster summary"
   ]
  },
  {
   "cell_type": "code",
   "execution_count": 13,
   "metadata": {},
   "outputs": [
    {
     "name": "stdout",
     "output_type": "stream",
     "text": [
      "Warning clustering data exists for Li_T3g_062818_KSClusters, and overwrite = false\n"
     ]
    }
   ],
   "source": [
    "Cl_Summary_fn = animal+'_ClusteringSummary.json'\n",
    "if (clusterDir/Cl_Summary_fn).exists():\n",
    "    with open(str(clusterDir/Cl_Summary_fn), 'r') as f:\n",
    "        cluster_summary = json.load(f)\n",
    "    if not date in cluster_summary[animal].keys() or overwrite:\n",
    "        cluster_summary[animal][date]={}\n",
    "    if not task in cluster_summary[animal][date].keys() or overwrite:\n",
    "        cluster_summary[animal][date][task] = {}\n",
    "    else:\n",
    "        print('Warning clustering data exists for {}, and overwrite = false'.format(sessionName))\n",
    "else:\n",
    "    cluster_summary = {}\n",
    "    cluster_summary[animal] = {}\n",
    "    cluster_summary[animal][date]={}\n",
    "    cluster_summary[animal][date][task] = {}\n"
   ]
  },
  {
   "cell_type": "code",
   "execution_count": 14,
   "metadata": {},
   "outputs": [
    {
     "data": {
      "text/plain": [
       "{'T3g': {'nCells': 10,\n",
       "  'nMua': 16,\n",
       "  'cell_IDs': {'1': [],\n",
       "   '2': [],\n",
       "   '3': [1, 6],\n",
       "   '4': [],\n",
       "   '5': [],\n",
       "   '6': [],\n",
       "   '7': [3],\n",
       "   '8': [4, 10],\n",
       "   '9': [2],\n",
       "   '10': [0, 6, 8],\n",
       "   '11': [],\n",
       "   '12': [],\n",
       "   '13': [],\n",
       "   '14': [9],\n",
       "   '15': [],\n",
       "   '16': []},\n",
       "  'mua_IDs': {'1': [7],\n",
       "   '2': [2, 10],\n",
       "   '3': [0, 3],\n",
       "   '4': [2],\n",
       "   '5': [],\n",
       "   '6': [3],\n",
       "   '7': [],\n",
       "   '8': [3],\n",
       "   '9': [11],\n",
       "   '10': [4, 5, 7, 9],\n",
       "   '11': [],\n",
       "   '12': [],\n",
       "   '13': [],\n",
       "   '14': [1, 8, 10],\n",
       "   '15': [],\n",
       "   '16': []}}}"
      ]
     },
     "execution_count": 14,
     "metadata": {},
     "output_type": "execute_result"
    }
   ],
   "source": []
  },
  {
   "cell_type": "markdown",
   "metadata": {},
   "source": [
    "## Get Files and Update Json File"
   ]
  },
  {
   "cell_type": "code",
   "execution_count": 203,
   "metadata": {},
   "outputs": [],
   "source": [
    "cluster_summary[animal][date][task]['nCells'] = 0\n",
    "cluster_summary[animal][date][task]['nMua'] = 0\n",
    "cluster_summary[animal][date][task]['cell_IDs'] = {}\n",
    "cluster_summary[animal][date][task]['mua_IDs'] = {}\n",
    "for tt in np.arange(1,nTTs+1):\n",
    "    cluster_summary[animal][date][task]['cell_IDs'][int(tt)]=[]\n",
    "    cluster_summary[animal][date][task]['mua_IDs'][int(tt)]=[]\n",
    "    fn = clusterDir/sessionName/('tt_'+str(tt))/'cluster_group.tsv'\n",
    "    assert fn.exists(), 'could not find record for tt {}; in {}'.format(tt,sessionName)\n",
    "    d=pd.read_csv(fn,delimiter='\\t')\n",
    "    cells = np.where(d['group']=='good')[0].tolist()\n",
    "    mua = np.where(d['group']=='mua')[0].tolist()\n",
    "    for cc in cells:\n",
    "        cluster_summary[animal][date][task]['cell_IDs'][int(tt)].append(cc)\n",
    "    for mm  in mua:\n",
    "        cluster_summary[animal][date][task]['mua_IDs'][int(tt)].append(mm)\n",
    "    cluster_summary[animal][date][task]['nCells'] += len(cells)\n",
    "    cluster_summary[animal][date][task]['nMua'] += len(mua) \n",
    "\n",
    "with open(str(clusterDir/Cl_Summary_fn), 'w') as f:\n",
    "        json.dump(cluster_summary, f, indent=4)"
   ]
  },
  {
   "cell_type": "code",
   "execution_count": 204,
   "metadata": {},
   "outputs": [
    {
     "name": "stdout",
     "output_type": "stream",
     "text": [
      "Results for Li_T3g_062818_KSClusters:\n",
      " nCells = 10 \n",
      " nMuas = 16\n"
     ]
    }
   ],
   "source": [
    "print(\"Results for {}:\\n nCells = {} \\n nMuas = {}\"\n",
    "      .format(sessionName,cluster_summary[animal][date][task]['nCells'],\n",
    "              cluster_summary[animal][date][task]['nMua']))\n"
   ]
  },
  {
   "cell_type": "code",
   "execution_count": 29,
   "metadata": {},
   "outputs": [
    {
     "name": "stdout",
     "output_type": "stream",
     "text": [
      " nSessions = 10 \n",
      " nCells = 86 \n",
      " nMua = 145\n"
     ]
    }
   ],
   "source": [
    "n=0\n",
    "m=0\n",
    "for d in cluster_summary[animal].keys():\n",
    "    n+=cluster_summary[animal][d][task]['nCells']\n",
    "    m+=cluster_summary[animal][d][task]['nMua']\n",
    "print(\" nSessions = {} \\n nCells = {} \\n nMua = {}\".format(len(cluster_summary[animal].keys()),n,m))\n"
   ]
  },
  {
   "cell_type": "code",
   "execution_count": 237,
   "metadata": {},
   "outputs": [
    {
     "data": {
      "text/plain": [
       "['Li', 'T3g', '062818', 'KSClusters']"
      ]
     },
     "execution_count": 237,
     "metadata": {},
     "output_type": "execute_result"
    }
   ],
   "source": [
    "sessionName.split('_')"
   ]
  },
  {
   "cell_type": "code",
   "execution_count": 206,
   "metadata": {},
   "outputs": [
    {
     "data": {
      "text/plain": [
       "dict_keys(['060118', '060418', '061518', '061318', '061818', '062018', '062518', '062618', '062718', '062818'])"
      ]
     },
     "execution_count": 206,
     "metadata": {},
     "output_type": "execute_result"
    }
   ],
   "source": [
    "cluster_summary[animal].keys()"
   ]
  },
  {
   "cell_type": "markdown",
   "metadata": {},
   "source": [
    "## copy results to oak (note: oak must be mounted on the ubuntu shell: )\n",
    "### sudo mkdir /mnt/o\n",
    "### sudo mount -t drvfs O: /mnt/o\n",
    "### to unmount\n",
    "### sudo unmount /mnt/o"
   ]
  },
  {
   "cell_type": "code",
   "execution_count": 231,
   "metadata": {},
   "outputs": [
    {
     "name": "stdout",
     "output_type": "stream",
     "text": [
      "summary file is the same, skipping copy.\n",
      "Li_T3g_060118_KSClusters: All tetrodes had already been clustered. \n",
      "Li_T3g_060418_KSClusters: All tetrodes had already been clustered. \n",
      "Li_T3g_061518_KSClusters: All tetrodes had already been clustered. \n",
      "Li_T3g_061318_KSClusters: All tetrodes had already been clustered. \n",
      "Li_T3g_061818_KSClusters: All tetrodes had already been clustered. \n",
      "Li_T3g_062018_KSClusters: All tetrodes had already been clustered. \n",
      "Li_T3g_062518_KSClusters: All tetrodes had already been clustered. \n",
      "Li_T3g_062618_KSClusters: All tetrodes had already been clustered. \n",
      "Li_T3g_062718_KSClusters: All tetrodes had already been clustered. \n",
      "Li_T3g_062818_KSClusters: All tetrodes had already been clustered. \n"
     ]
    }
   ],
   "source": [
    "oakPath = Path('/mnt/o/giocomo/alexg/Clustered/'+animal)\n",
    "clusterDir = Path('/mnt/c/Users/alexg8/Documents/Data/'+ \n",
    "                   animal+'/Clustered/')\n",
    "# copy summary\n",
    "if not filecmp.cmp(str(clusterDir/Cl_Summary_fn),str(oakPath/Cl_Summary_fn),shallow=True):\n",
    "    shutil.copyfile(str(clusterDir/Cl_Summary_fn),str(oakPath/Cl_Summary_fn))\n",
    "    print('updated file summary file')\n",
    "else:\n",
    "    print('summary file is the same, skipping copy.')\n",
    "# copy individual tetrode clusters\n",
    "notUpDatedList = []\n",
    "for date in cluster_summary[animal].keys():\n",
    "    sessionName = animal+'_'+task+'_'+date+'_KSClusters'\n",
    "    notUpDatedList = []\n",
    "    for tt in np.arange(1,nTTs+1):\n",
    "        fn = clusterDir/sessionName/('tt_'+str(tt))/'cluster_group.tsv'\n",
    "        sp = oakPath/sessionName/('tt_'+str(tt))/'cluster_group.tsv'\n",
    "        if not filecmp.cmp(str(fn),str(sp),shallow=True):\n",
    "            shutil.copyfile(str(fn),str(sp))\n",
    "        else:\n",
    "            notUpDatedList.append(tt)\n",
    "            #print('{} {} Cluster file exists and it is the same, not updating'.format(sessionName,tt))\n",
    "    if len(notUpDatedList)==16:\n",
    "        print(\"{}: All tetrodes have already been clustered. \".format(sessionName))\n",
    "    elif len(notUpDatedList)==0:\n",
    "        print(\"{}: Updated all tetrode clusters\".format(sessionName))\n",
    "    else:\n",
    "        print(\"{}: Indetical cluster files, no updates for TTs {}\".format(sessionName, notUpDatedList))\n",
    "    "
   ]
  },
  {
   "cell_type": "code",
   "execution_count": 21,
   "metadata": {},
   "outputs": [
    {
     "data": {
      "text/plain": [
       "[PosixPath('/mnt/o/giocomo/alexg/Clustered/Li/Li_ClusteringSummary.json')]"
      ]
     },
     "execution_count": 21,
     "metadata": {},
     "output_type": "execute_result"
    }
   ],
   "source": [
    "oakPath = Path('/mnt/o/giocomo/alexg/Clustered/'+animal)"
   ]
  },
  {
   "cell_type": "code",
   "execution_count": 32,
   "metadata": {},
   "outputs": [
    {
     "name": "stdout",
     "output_type": "stream",
     "text": [
      "['Li', 'ClusteringSummary.json']\n",
      "['Li', 'OF', '060118', 'KSClusters']\n",
      "['Li', 'OF', '060418', 'KSClusters']\n",
      "['Li', 'OF', '060518', 'KSClusters']\n",
      "['Li', 'OF', '060718', 'KSClusters']\n",
      "['Li', 'OF', '060818', 'KSClusters']\n",
      "['Li', 'OF', '061118', 'KSClusters']\n",
      "['Li', 'OF', '061218', 'KSClusters']\n",
      "['Li', 'OF', '061318', 'KSClusters']\n",
      "['Li', 'OF', '061418', 'KSClusters']\n",
      "['Li', 'OF', '061518', 'KSClusters']\n",
      "['Li', 'OF', '061818', 'KSClusters']\n",
      "['Li', 'OF', '062018', 'KSClusters']\n",
      "['Li', 'OF', '062518', 'KSClusters']\n",
      "['Li', 'OF', '062618', 'KSClusters']\n",
      "['Li', 'OF', '062718', 'KSClusters']\n",
      "['Li', 'OF', '062818', 'KSClusters']\n",
      "['Li', 'OF', '062918', 'KSClusters']\n",
      "['Li', 'OF', '070218', 'KSClusters']\n",
      "['Li', 'OF', '070618', 'KSClusters']\n",
      "['Li', 'OF', '071018', 'KSClusters']\n",
      "['Li', 'OF', '080118', 'KSClusters']\n",
      "['Li', 'OF', '080218', 'KSClusters']\n",
      "['Li', 'T3g', '060118', 'KSClusters']\n",
      "['Li', 'T3g', '060418', 'KSClusters']\n",
      "['Li', 'T3g', '061318', 'KSClusters']\n",
      "['Li', 'T3g', '061518', 'KSClusters']\n",
      "['Li', 'T3g', '061818', 'KSClusters']\n",
      "['Li', 'T3g', '062018', 'KSClusters']\n",
      "['Li', 'T3g', '062518', 'KSClusters']\n",
      "['Li', 'T3g', '062618', 'KSClusters']\n",
      "['Li', 'T3g', '062718', 'KSClusters']\n",
      "['Li', 'T3g', '062818', 'KSClusters']\n",
      "['Li', 'T3g', '070218', 'KSClusters']\n",
      "['Li', 'T3g', '070518', 'KSClusters']\n",
      "['Li', 'T3g', '070618', 'KSClusters']\n",
      "['Li', 'T3g', '070918', 'KSClusters']\n",
      "['Li', 'T3g', '071018', 'KSClusters']\n",
      "['Li', 'T3g', '071118', 'KSClusters']\n",
      "['Li', 'T3g', '072518', 'KSClusters']\n",
      "['Li', 'T3g', '072618', 'KSClusters']\n",
      "['Li', 'T3g', '073018', 'KSClusters']\n",
      "['Li', 'T3g', '080118', 'KSClusters']\n",
      "['Li', 'T3g', '080218', 'KSClusters']\n",
      "['Li', 'T3g', '080318', 'KSClusters']\n"
     ]
    }
   ],
   "source": [
    "for i in oakPath.glob('*'):\n",
    "    print(i.name.split('_'))"
   ]
  }
 ],
 "metadata": {
  "kernelspec": {
   "display_name": "Python 3",
   "language": "python",
   "name": "python3"
  },
  "language_info": {
   "codemirror_mode": {
    "name": "ipython",
    "version": 3
   },
   "file_extension": ".py",
   "mimetype": "text/x-python",
   "name": "python",
   "nbconvert_exporter": "python",
   "pygments_lexer": "ipython3",
   "version": "3.7.3"
  }
 },
 "nbformat": 4,
 "nbformat_minor": 2
}

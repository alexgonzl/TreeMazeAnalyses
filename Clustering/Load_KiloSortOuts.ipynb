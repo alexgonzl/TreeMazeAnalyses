{
 "cells": [
  {
   "cell_type": "code",
   "execution_count": 1,
   "metadata": {
    "collapsed": true
   },
   "outputs": [],
   "source": [
    "%matplotlib inline\n",
    "\n",
    "import numpy as np\n",
    "from scipy import signal, ndimage, interpolate\n",
    "\n",
    "import matplotlib.pyplot as plt\n",
    "import seaborn as sns\n",
    "font = {'family' : 'sans-serif',\n",
    "        'size'   : 20}\n",
    "\n",
    "plt.rc('font', **font)\n",
    "\n",
    "from pathlib import Path\n",
    "import os,sys\n",
    "import h5py, json\n",
    "import sys "
   ]
  },
  {
   "cell_type": "code",
   "execution_count": 2,
   "metadata": {
    "collapsed": true
   },
   "outputs": [],
   "source": [
    "def autocorr1(x,lags):\n",
    "    '''numpy.corrcoef, partial'''\n",
    "\n",
    "    corr=[1. if l==0 else np.corrcoef(x[l:],x[:-l])[0][1] for l in lags]\n",
    "    return np.array(corr)"
   ]
  },
  {
   "cell_type": "code",
   "execution_count": 3,
   "metadata": {
    "collapsed": true
   },
   "outputs": [],
   "source": [
    "animal = 'Li'\n",
    "task = 'T3g'\n",
    "date = '062718'\n",
    "fn = '{}_{}_{}_Results'.format(animal,task,date)\n",
    "dataPath = Path('/scratch/users/alexg8/Data/{}/{}'.format(animal,fn))\n",
    "\n",
    "TT_Dirs =[]\n",
    "nTT = 16\n",
    "for tt in np.arange(1,nTT+1):\n",
    "    if (dataPath/('tt_{}'.format(tt))).exists():\n",
    "        TT_Dirs.append((dataPath/('tt_{}'.format(tt))))"
   ]
  },
  {
   "cell_type": "code",
   "execution_count": 240,
   "metadata": {},
   "outputs": [
    {
     "data": {
      "text/plain": [
       "[PosixPath('/scratch/users/alexg8/Data/Li/Li_T3g_062718_Results/tt_1'),\n",
       " PosixPath('/scratch/users/alexg8/Data/Li/Li_T3g_062718_Results/tt_2'),\n",
       " PosixPath('/scratch/users/alexg8/Data/Li/Li_T3g_062718_Results/tt_3'),\n",
       " PosixPath('/scratch/users/alexg8/Data/Li/Li_T3g_062718_Results/tt_4'),\n",
       " PosixPath('/scratch/users/alexg8/Data/Li/Li_T3g_062718_Results/tt_5'),\n",
       " PosixPath('/scratch/users/alexg8/Data/Li/Li_T3g_062718_Results/tt_6'),\n",
       " PosixPath('/scratch/users/alexg8/Data/Li/Li_T3g_062718_Results/tt_7'),\n",
       " PosixPath('/scratch/users/alexg8/Data/Li/Li_T3g_062718_Results/tt_8'),\n",
       " PosixPath('/scratch/users/alexg8/Data/Li/Li_T3g_062718_Results/tt_9'),\n",
       " PosixPath('/scratch/users/alexg8/Data/Li/Li_T3g_062718_Results/tt_10'),\n",
       " PosixPath('/scratch/users/alexg8/Data/Li/Li_T3g_062718_Results/tt_11'),\n",
       " PosixPath('/scratch/users/alexg8/Data/Li/Li_T3g_062718_Results/tt_12'),\n",
       " PosixPath('/scratch/users/alexg8/Data/Li/Li_T3g_062718_Results/tt_13'),\n",
       " PosixPath('/scratch/users/alexg8/Data/Li/Li_T3g_062718_Results/tt_14'),\n",
       " PosixPath('/scratch/users/alexg8/Data/Li/Li_T3g_062718_Results/tt_15'),\n",
       " PosixPath('/scratch/users/alexg8/Data/Li/Li_T3g_062718_Results/tt_16')]"
      ]
     },
     "execution_count": 240,
     "metadata": {},
     "output_type": "execute_result"
    }
   ],
   "source": [
    "list(TT_Dirs)"
   ]
  },
  {
   "cell_type": "code",
   "execution_count": 4,
   "metadata": {},
   "outputs": [
    {
     "data": {
      "text/plain": [
       "[PosixPath('/scratch/users/alexg8/Data/Li/Li_T3g_062718_Results/tt_9/template_feature_ind.npy'),\n",
       " PosixPath('/scratch/users/alexg8/Data/Li/Li_T3g_062718_Results/tt_9/similar_templates.npy'),\n",
       " PosixPath('/scratch/users/alexg8/Data/Li/Li_T3g_062718_Results/tt_9/channel_map.npy'),\n",
       " PosixPath('/scratch/users/alexg8/Data/Li/Li_T3g_062718_Results/tt_9/pc_features.npy'),\n",
       " PosixPath('/scratch/users/alexg8/Data/Li/Li_T3g_062718_Results/tt_9/params.py'),\n",
       " PosixPath('/scratch/users/alexg8/Data/Li/Li_T3g_062718_Results/tt_9/spike_templates.npy'),\n",
       " PosixPath('/scratch/users/alexg8/Data/Li/Li_T3g_062718_Results/tt_9/spike_clusters.npy'),\n",
       " PosixPath('/scratch/users/alexg8/Data/Li/Li_T3g_062718_Results/tt_9/templates_ind.npy'),\n",
       " PosixPath('/scratch/users/alexg8/Data/Li/Li_T3g_062718_Results/tt_9/rez.mat'),\n",
       " PosixPath('/scratch/users/alexg8/Data/Li/Li_T3g_062718_Results/tt_9/whitening_mat.npy'),\n",
       " PosixPath('/scratch/users/alexg8/Data/Li/Li_T3g_062718_Results/tt_9/channel_positions.npy'),\n",
       " PosixPath('/scratch/users/alexg8/Data/Li/Li_T3g_062718_Results/tt_9/whitening_mat_inv.npy'),\n",
       " PosixPath('/scratch/users/alexg8/Data/Li/Li_T3g_062718_Results/tt_9/templates.npy'),\n",
       " PosixPath('/scratch/users/alexg8/Data/Li/Li_T3g_062718_Results/tt_9/pc_feature_ind.npy'),\n",
       " PosixPath('/scratch/users/alexg8/Data/Li/Li_T3g_062718_Results/tt_9/amplitudes.npy'),\n",
       " PosixPath('/scratch/users/alexg8/Data/Li/Li_T3g_062718_Results/tt_9/spike_times.npy'),\n",
       " PosixPath('/scratch/users/alexg8/Data/Li/Li_T3g_062718_Results/tt_9/template_features.npy')]"
      ]
     },
     "execution_count": 4,
     "metadata": {},
     "output_type": "execute_result"
    }
   ],
   "source": [
    "list(TT_Dirs[8].glob('*'))"
   ]
  },
  {
   "cell_type": "code",
   "execution_count": 5,
   "metadata": {},
   "outputs": [],
   "source": [
    "tt=8\n",
    "st=np.load(TT_Dirs[tt]/'spike_times.npy')\n",
    "sc=np.load(TT_Dirs[tt]/'spike_clusters.npy')\n",
    "sa=np.load(TT_Dirs[tt]/'amplitudes.npy')\n",
    "s_temp = np.load(TT_Dirs[tt]/'spike_templates.npy')\n",
    "temp =np.load(TT_Dirs[tt]/'templates.npy')\n",
    "temp_feat =np.load(TT_Dirs[tt]/'template_features.npy')\n",
    "pc_feat =np.load(TT_Dirs[tt]/'pc_features.npy')\n",
    "pc_ind = np.load(TT_Dirs[tt]/'pc_feature_ind.npy')\n",
    "with open(str(TT_Dirs[tt].parent/('header_tt{}.json').format(tt)), 'r') as f:\n",
    "    head = json.load(f)"
   ]
  },
  {
   "cell_type": "code",
   "execution_count": 6,
   "metadata": {},
   "outputs": [
    {
     "name": "stdout",
     "output_type": "stream",
     "text": [
      "[16 11 14 12  4  1 15 13 10  9  8  7  6  5  3  2]\n",
      "[182728  65720  46355  43533  17088   4464      0      0      0      0\n",
      "      0      0      0      0      0      0]\n"
     ]
    },
    {
     "data": {
      "image/png": "[encoded data removed]",
      "text/plain": [
       "<Figure size 432x288 with 1 Axes>"
      ]
     },
     "metadata": {},
     "output_type": "display_data"
    }
   ],
   "source": [
    "counts,bins=np.histogram(sc,16)\n",
    "i=np.argsort(counts)[::-1]\n",
    "print(i+1)\n",
    "print(counts[i])\n",
    "plt.hist(sc,np.arange(0,17,1.0001))\n",
    "nSamps=head['nSamps']"
   ]
  },
  {
   "cell_type": "code",
   "execution_count": 7,
   "metadata": {},
   "outputs": [
    {
     "name": "stdout",
     "output_type": "stream",
     "text": [
      "[15 10 13 11  3  0 14 12  9  8  7  6  5  4  2  1] [182728  65720  46355  43533  17088   4464      0      0      0      0\n",
      "      0      0      0      0      0      0]\n"
     ]
    },
    {
     "data": {
      "image/png": "[encoded data removed]",
      "text/plain": [
       "<Figure size 432x288 with 1 Axes>"
      ]
     },
     "metadata": {},
     "output_type": "display_data"
    }
   ],
   "source": [
    "te=3\n",
    "plt.plot(temp[te,:,:])\n",
    "print(i,counts[i])"
   ]
  },
  {
   "cell_type": "code",
   "execution_count": 63,
   "metadata": {},
   "outputs": [],
   "source": [
    "fs=32000\n",
    "BinSize=64\n",
    "# calculate the number of bins of size BinSize within the experimental time window\n",
    "nBins = int(nSamps / BinSize)\n",
    "\n",
    "x = np.zeros(nBins)\n",
    "spike_time_ids = st[sc==te+1]\n",
    "x[np.floor(spike_time_ids/BinSize).astype('int')] = 1."
   ]
  },
  {
   "cell_type": "code",
   "execution_count": 68,
   "metadata": {},
   "outputs": [
    {
     "data": {
      "text/plain": [
       "array([0])"
      ]
     },
     "execution_count": 68,
     "metadata": {},
     "output_type": "execute_result"
    }
   ],
   "source": []
  },
  {
   "cell_type": "code",
   "execution_count": 64,
   "metadata": {},
   "outputs": [
    {
     "name": "stderr",
     "output_type": "stream",
     "text": [
      "/home/users/alexg8/.local/lib/python3.6/site-packages/numpy/lib/function_base.py:3183: RuntimeWarning: invalid value encountered in true_divide\n",
      "  c /= stddev[:, None]\n"
     ]
    },
    {
     "data": {
      "text/plain": [
       "[<matplotlib.lines.Line2D at 0x7f4258bd2978>]"
      ]
     },
     "execution_count": 64,
     "metadata": {},
     "output_type": "execute_result"
    },
    {
     "data": {
      "image/png": "[encoded data removed]",
      "text/plain": [
       "<Figure size 432x288 with 1 Axes>"
      ]
     },
     "metadata": {},
     "output_type": "display_data"
    }
   ],
   "source": [
    "ac=autocorr1(x,np.arange(0,100))\n",
    "plt.plot(ac)"
   ]
  },
  {
   "cell_type": "code",
   "execution_count": 58,
   "metadata": {},
   "outputs": [
    {
     "data": {
      "text/plain": [
       "[<matplotlib.lines.Line2D at 0x7f42585fe160>]"
      ]
     },
     "execution_count": 58,
     "metadata": {},
     "output_type": "execute_result"
    },
    {
     "data": {
      "image/png": "[encoded data removed]",
      "text/plain": [
       "<Figure size 432x288 with 1 Axes>"
      ]
     },
     "metadata": {},
     "output_type": "display_data"
    }
   ],
   "source": []
  }
 ],
 "metadata": {
  "kernelspec": {
   "display_name": "Python 3",
   "language": "python",
   "name": "python3"
  },
  "language_info": {
   "codemirror_mode": {
    "name": "ipython",
    "version": 3
   },
   "file_extension": ".py",
   "mimetype": "text/x-python",
   "name": "python",
   "nbconvert_exporter": "python",
   "pygments_lexer": "ipython3",
   "version": "3.6.1"
  }
 },
 "nbformat": 4,
 "nbformat_minor": 2
}
